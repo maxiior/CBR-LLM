{
 "cells": [
  {
   "cell_type": "code",
   "execution_count": 17,
   "metadata": {},
   "outputs": [],
   "source": [
    "from nltk.translate.bleu_score import sentence_bleu\n",
    "from nltk.translate.meteor_score import meteor_score\n",
    "from langchain_community.embeddings import GPT4AllEmbeddings\n",
    "from sklearn.metrics.pairwise import cosine_similarity\n",
    "import pandas as pd"
   ]
  },
  {
   "cell_type": "code",
   "execution_count": 18,
   "metadata": {},
   "outputs": [],
   "source": [
    "validation_ds = pd.read_csv('./GPT2/original_structured/cbr_database.csv')['steps'].to_list()"
   ]
  },
  {
   "cell_type": "code",
   "execution_count": 19,
   "metadata": {},
   "outputs": [],
   "source": [
    "tokenizer = GPT4AllEmbeddings()\n",
    "\n",
    "def _cosine_similarity(original:str, generated:str) -> float:\n",
    "    X = tokenizer.embed_query(str(generated))\n",
    "    Y = tokenizer.embed_query(str(original))\n",
    "    score = cosine_similarity([X], [Y])[0][0]\n",
    "    return round(score, 6)\n",
    "\n",
    "def bleu(original:str, generated:str, version:int=4) -> float:\n",
    "    weights = [0.25, 0.25, 0.25, 0.25]\n",
    "    if version == 3:\n",
    "        weights = [0.33, 0.33, 0.33]\n",
    "    elif version == 2:\n",
    "        weights = [0.5, 0.5]\n",
    "\n",
    "    return round(sentence_bleu([original.split()], generated.split(), weights=weights), 6)\n",
    "\n",
    "def meteor(original:str, generated:str) -> float:\n",
    "    return round(meteor_score([original.split()], generated.split()), 6)"
   ]
  },
  {
   "cell_type": "code",
   "execution_count": 20,
   "metadata": {},
   "outputs": [],
   "source": [
    "import random\n",
    "\n",
    "new_a = []\n",
    "new_b = []\n",
    "\n",
    "k = 1000\n",
    "\n",
    "while k != 0:\n",
    "    a = random.choices(validation_ds, k=k)\n",
    "    b = random.choices(validation_ds, k=k)\n",
    "\n",
    "    k = 0\n",
    "    for i, j in zip(a, b):\n",
    "        if i == j:\n",
    "            k += 1\n",
    "        else:\n",
    "            new_a.append(i)\n",
    "            new_b.append(j)"
   ]
  },
  {
   "cell_type": "code",
   "execution_count": 21,
   "metadata": {},
   "outputs": [],
   "source": [
    "import tqdm"
   ]
  },
  {
   "cell_type": "code",
   "execution_count": 22,
   "metadata": {},
   "outputs": [
    {
     "name": "stderr",
     "output_type": "stream",
     "text": [
      "1000it [01:45,  9.46it/s]\n"
     ]
    }
   ],
   "source": [
    "scores = []\n",
    "\n",
    "for i, j in tqdm.tqdm(zip(a, b)):\n",
    "    scores.append(_cosine_similarity(i, j))"
   ]
  },
  {
   "cell_type": "code",
   "execution_count": 23,
   "metadata": {},
   "outputs": [
    {
     "data": {
      "text/plain": [
       "0.4175513787845102"
      ]
     },
     "execution_count": 23,
     "metadata": {},
     "output_type": "execute_result"
    }
   ],
   "source": [
    "import statistics\n",
    "\n",
    "statistics.mean(scores) - statistics.variance(scores)"
   ]
  },
  {
   "cell_type": "code",
   "execution_count": null,
   "metadata": {},
   "outputs": [],
   "source": []
  }
 ],
 "metadata": {
  "kernelspec": {
   "display_name": "venv",
   "language": "python",
   "name": "python3"
  },
  "language_info": {
   "codemirror_mode": {
    "name": "ipython",
    "version": 3
   },
   "file_extension": ".py",
   "mimetype": "text/x-python",
   "name": "python",
   "nbconvert_exporter": "python",
   "pygments_lexer": "ipython3",
   "version": "3.10.7"
  }
 },
 "nbformat": 4,
 "nbformat_minor": 2
}
