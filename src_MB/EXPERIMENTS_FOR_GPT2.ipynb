{
 "cells": [
  {
   "cell_type": "code",
   "execution_count": 30,
   "metadata": {},
   "outputs": [],
   "source": [
    "import pandas as pd\n",
    "from validation import Validation\n",
    "\n",
    "val = Validation()"
   ]
  },
  {
   "cell_type": "code",
   "execution_count": 31,
   "metadata": {},
   "outputs": [],
   "source": [
    "import warnings\n",
    "\n",
    "warnings.filterwarnings(\"ignore\")"
   ]
  },
  {
   "cell_type": "code",
   "execution_count": 32,
   "metadata": {},
   "outputs": [],
   "source": [
    "validation_ds = pd.read_csv('./GPT2/original_structured/_validation.csv')[['steps']]\n",
    "validation_ds['id'] = validation_ds.index"
   ]
  },
  {
   "cell_type": "code",
   "execution_count": 33,
   "metadata": {},
   "outputs": [],
   "source": [
    "generated_cbr = pd.read_csv('./GPT2/generated/validation_cbr_00_gpt2_results_p.csv')\n",
    "generated_cbr['id'] = generated_cbr.index\n",
    "generated_pe2 = pd.read_csv('./GPT2/generated/validation_pe2_gpt2_results_p.csv')\n",
    "generated_pe2['id'] = generated_pe2.index"
   ]
  },
  {
   "cell_type": "code",
   "execution_count": 34,
   "metadata": {},
   "outputs": [],
   "source": [
    "cbr = pd.merge(generated_cbr, validation_ds, on='id', how='inner')\n",
    "pe2 = pd.merge(generated_pe2, validation_ds, on='id', how='inner')"
   ]
  },
  {
   "cell_type": "code",
   "execution_count": 35,
   "metadata": {},
   "outputs": [
    {
     "name": "stdout",
     "output_type": "stream",
     "text": [
      "bleu_2: 0.04335116847058824\n",
      "bleu_3: 0.014026725176470588\n",
      "bleu_4: 0.003795889411764706\n",
      "meteor: 0.11862639952941177\n",
      "cos_sim: 0.5424127501176471\n"
     ]
    }
   ],
   "source": [
    "val.get_avg_metrics(pe2['steps'], pe2['result'])"
   ]
  },
  {
   "cell_type": "code",
   "execution_count": null,
   "metadata": {},
   "outputs": [],
   "source": []
  }
 ],
 "metadata": {
  "kernelspec": {
   "display_name": "venv",
   "language": "python",
   "name": "python3"
  },
  "language_info": {
   "codemirror_mode": {
    "name": "ipython",
    "version": 3
   },
   "file_extension": ".py",
   "mimetype": "text/x-python",
   "name": "python",
   "nbconvert_exporter": "python",
   "pygments_lexer": "ipython3",
   "version": "3.10.7"
  }
 },
 "nbformat": 4,
 "nbformat_minor": 2
}
