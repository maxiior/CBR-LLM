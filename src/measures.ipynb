{
 "cells": [
  {
   "cell_type": "code",
   "execution_count": 2,
   "metadata": {},
   "outputs": [
    {
     "name": "stdout",
     "output_type": "stream",
     "text": [
      "0.4548019047027907\n"
     ]
    }
   ],
   "source": [
    "from nltk.translate.bleu_score import sentence_bleu\n",
    "from nltk.translate.meteor_score import meteor_score\n",
    "\n",
    "\n",
    "hypothesis = ['It', 'is', 'a', 'cat', 'at', 'room']\n",
    "reference = ['It', 'is', 'a', 'cat', 'inside', 'the', 'room']\n",
    "#there may be several references\n",
    "BLEUscore = sentence_bleu([reference], hypothesis)\n",
    "print(BLEUscore)"
   ]
  },
  {
   "cell_type": "code",
   "execution_count": 47,
   "metadata": {},
   "outputs": [
    {
     "name": "stdout",
     "output_type": "stream",
     "text": [
      "0.698440804269746 0.2822\n"
     ]
    }
   ],
   "source": [
    "\n",
    "y = \"Make a choice and proceed with recipe. Depending on size of squash, cut into half or fourths. Remove seeds. For spicy squash, drizzle olive oil or melted butter over each cut squash piece. Season with mexican seasoning mix ii. For sweet squash, drizzle melted honey, butter, grated piloncillo over each cut squash piece. Season with sweet mexican spice mix. Bake at 350 degrees, again depending on size, for 40 minutes up to an hour, until a fork can easily pierce the skin. Be careful not to burn the squash especially if you opt to use sugar or butter. If you feel more comfortable, cover the squash with aluminum foil the first half hour, give or take, of baking. If desired, season with salt.\"\n",
    "x = \"Choose whether to cut the squash into halves or quarters based on its size. Begin by removing the seeds. For a spicy variation, generously drizzle olive oil or melted butter over each cut piece of squash and season it with Mexican seasoning mix II. If you prefer a sweeter flavor, drizzle melted honey, butter, and grated piloncillo over each cut squash piece. Season with a sweet Mexican spice mix. Bake the squash at 350 degrees, adjusting the time based on its size, for approximately 40 minutes to an hour or until a fork easily pierces the skin. Exercise caution to avoid burning the squash, especially when using sugar or butter. If you prefer, cover the squash with aluminum foil during the initial half-hour or so of baking. If desired, add salt for seasoning.\"\n",
    "METEORscore = meteor_score([y.split()], x.split())\n",
    "BLEUscore = round(sentence_bleu([y.split()], x.split()),5)\n",
    "\n",
    "print(METEORscore, BLEUscore)"
   ]
  },
  {
   "cell_type": "code",
   "execution_count": 36,
   "metadata": {},
   "outputs": [
    {
     "name": "stdout",
     "output_type": "stream",
     "text": [
      "0.28043860298009\n"
     ]
    }
   ],
   "source": [
    "print(BLEUscore)"
   ]
  },
  {
   "cell_type": "code",
   "execution_count": 38,
   "metadata": {},
   "outputs": [],
   "source": [
    "class Measures():\n",
    "    def __init__(self) -> None:\n",
    "        pass\n",
    "\n",
    "    def bleu(self, original:str, generated:str) -> float:\n",
    "        return round(sentence_bleu([original.split()], generated.split()), 6)\n",
    "    \n",
    "    def meteor(self, original:str, generated:str) -> float:\n",
    "        return round(meteor_score([original.split()], generated.split()), 6)\n",
    "\n"
   ]
  },
  {
   "cell_type": "code",
   "execution_count": 4,
   "metadata": {},
   "outputs": [],
   "source": [
    "from aac_metrics.functional import cider_d, spice\n",
    "from aac_metrics.utils.tokenization import preprocess_mono_sents, preprocess_mult_sents"
   ]
  },
  {
   "cell_type": "code",
   "execution_count": 34,
   "metadata": {},
   "outputs": [
    {
     "name": "stdout",
     "output_type": "stream",
     "text": [
      "{'cider_d': tensor(0.9614, dtype=torch.float64)}\n",
      "{'cider_d': tensor([1.3641, 0.5587], dtype=torch.float64)}\n"
     ]
    }
   ],
   "source": [
    "candidates = [\"a man is speaking\", \"rain falls\"]\n",
    "mult_references = [[\"a man speaks.\", \"someone speaks.\", \"a man is speaking while a bird is chirping in the background\"], [\"rain is falling hard on a surface\"]]\n",
    "\n",
    "candidates = preprocess_mono_sents(candidates)\n",
    "mult_references = preprocess_mult_sents(mult_references)\n",
    "\n",
    "corpus_scores, sents_scores = cider_d(candidates, mult_references)\n",
    "\n",
    "print(corpus_scores)\n",
    "print(sents_scores)"
   ]
  },
  {
   "cell_type": "code",
   "execution_count": 42,
   "metadata": {},
   "outputs": [
    {
     "name": "stderr",
     "output_type": "stream",
     "text": [
      "Invalid SPICE call.\n",
      "Full command: 'java -jar -Xmx8G C:\\Users\\maksi\\.cache\\aac-metrics\\spice\\spice-1.0.jar C:\\Users\\maksi\\AppData\\Local\\Temp\\spice_inputs_l4e2iada.json -cache C:\\Users\\maksi\\AppData\\Local\\Temp\\tmpnkwm69oy -out C:\\Users\\maksi\\AppData\\Local\\Temp\\spice_outputs_cklo5lcx.json -subset'\n",
      "Error: Command '['java', '-jar', '-Xmx8G', 'C:\\\\Users\\\\maksi\\\\.cache\\\\aac-metrics\\\\spice\\\\spice-1.0.jar', 'C:\\\\Users\\\\maksi\\\\AppData\\\\Local\\\\Temp\\\\spice_inputs_l4e2iada.json', '-cache', 'C:\\\\Users\\\\maksi\\\\AppData\\\\Local\\\\Temp\\\\tmpnkwm69oy', '-out', 'C:\\\\Users\\\\maksi\\\\AppData\\\\Local\\\\Temp\\\\spice_outputs_cklo5lcx.json', '-subset']' returned non-zero exit status 1.\n",
      "java :\t ----\n",
      "C:\\Users\\maksi\\.cache\\aac-metrics\\spice\\spice-1.0.jar :\t frwx\n",
      "C:\\Users\\maksi\\AppData\\Local\\Temp\\spice_inputs_l4e2iada.json :\t frwx\n",
      "C:\\Users\\maksi\\AppData\\Local\\Temp\\tmpnkwm69oy :\t drwx\n",
      "C:\\Users\\maksi\\AppData\\Local\\Temp\\spice_outputs_cklo5lcx.json :\t frwx\n",
      "C:\\Users\\maksi\\AppData\\Local\\Temp\\spice_stdout_oizo994h.txt :\t frwx\n",
      "C:\\Users\\maksi\\AppData\\Local\\Temp\\spice_stderr_8mgnx04e.txt :\t frwx\n",
      "For more information, see temp files 'C:\\Users\\maksi\\AppData\\Local\\Temp\\spice_stdout_oizo994h.txt' and 'C:\\Users\\maksi\\AppData\\Local\\Temp\\spice_stderr_8mgnx04e.txt'.\n",
      "Content of 'C:\\Users\\maksi\\AppData\\Local\\Temp\\spice_stdout_oizo994h.txt':\n",
      "\n",
      "Content of 'C:\\Users\\maksi\\AppData\\Local\\Temp\\spice_stderr_8mgnx04e.txt':\n",
      "Invalid maximum heap size: -Xmx8G\n",
      "\n",
      "The specified size exceeds the maximum representable size.\n",
      "\n",
      "Error: Could not create the Java Virtual Machine.\n",
      "\n",
      "Error: A fatal exception has occurred. Program will exit.\n",
      "\n"
     ]
    },
    {
     "ename": "CalledProcessError",
     "evalue": "Command '['java', '-jar', '-Xmx8G', 'C:\\\\Users\\\\maksi\\\\.cache\\\\aac-metrics\\\\spice\\\\spice-1.0.jar', 'C:\\\\Users\\\\maksi\\\\AppData\\\\Local\\\\Temp\\\\spice_inputs_l4e2iada.json', '-cache', 'C:\\\\Users\\\\maksi\\\\AppData\\\\Local\\\\Temp\\\\tmpnkwm69oy', '-out', 'C:\\\\Users\\\\maksi\\\\AppData\\\\Local\\\\Temp\\\\spice_outputs_cklo5lcx.json', '-subset']' returned non-zero exit status 1.",
     "output_type": "error",
     "traceback": [
      "\u001b[1;31m---------------------------------------------------------------------------\u001b[0m",
      "\u001b[1;31mCalledProcessError\u001b[0m                        Traceback (most recent call last)",
      "Cell \u001b[1;32mIn[42], line 3\u001b[0m\n\u001b[0;32m      1\u001b[0m \u001b[38;5;28;01mfrom\u001b[39;00m \u001b[38;5;21;01maac_metrics\u001b[39;00m\u001b[38;5;21;01m.\u001b[39;00m\u001b[38;5;21;01mfunctional\u001b[39;00m \u001b[38;5;28;01mimport\u001b[39;00m spice\n\u001b[1;32m----> 3\u001b[0m \u001b[43mspice\u001b[49m\u001b[43m(\u001b[49m\u001b[43mcandidates\u001b[49m\u001b[43m,\u001b[49m\u001b[43m \u001b[49m\u001b[43mmult_references\u001b[49m\u001b[43m)\u001b[49m\n",
      "File \u001b[1;32mc:\\Users\\maksi\\OneDrive\\Pulpit\\repos\\LLM-IN-CBR\\venv\\lib\\site-packages\\aac_metrics\\functional\\spice.py:177\u001b[0m, in \u001b[0;36mspice\u001b[1;34m(***failed resolving arguments***)\u001b[0m\n\u001b[0;32m    168\u001b[0m fpaths \u001b[38;5;241m=\u001b[39m [\n\u001b[0;32m    169\u001b[0m     java_path,\n\u001b[0;32m    170\u001b[0m     spice_fpath,\n\u001b[1;32m   (...)\u001b[0m\n\u001b[0;32m    173\u001b[0m     out_file\u001b[38;5;241m.\u001b[39mname,\n\u001b[0;32m    174\u001b[0m ]\n\u001b[0;32m    176\u001b[0m \u001b[38;5;28;01mfor\u001b[39;00m i, timeout_i \u001b[38;5;129;01min\u001b[39;00m \u001b[38;5;28menumerate\u001b[39m(timeout_lst):\n\u001b[1;32m--> 177\u001b[0m     success \u001b[38;5;241m=\u001b[39m \u001b[43m__run_spice\u001b[49m\u001b[43m(\u001b[49m\n\u001b[0;32m    178\u001b[0m \u001b[43m        \u001b[49m\u001b[43mi\u001b[49m\u001b[38;5;241;43m=\u001b[39;49m\u001b[43mi\u001b[49m\u001b[43m,\u001b[49m\n\u001b[0;32m    179\u001b[0m \u001b[43m        \u001b[49m\u001b[43mtimeout_i\u001b[49m\u001b[38;5;241;43m=\u001b[39;49m\u001b[43mtimeout_i\u001b[49m\u001b[43m,\u001b[49m\n\u001b[0;32m    180\u001b[0m \u001b[43m        \u001b[49m\u001b[43mtimeout_lst\u001b[49m\u001b[38;5;241;43m=\u001b[39;49m\u001b[43mtimeout_lst\u001b[49m\u001b[43m,\u001b[49m\n\u001b[0;32m    181\u001b[0m \u001b[43m        \u001b[49m\u001b[43mspice_cmd\u001b[49m\u001b[38;5;241;43m=\u001b[39;49m\u001b[43mspice_cmd\u001b[49m\u001b[43m,\u001b[49m\n\u001b[0;32m    182\u001b[0m \u001b[43m        \u001b[49m\u001b[43mtmp_path\u001b[49m\u001b[38;5;241;43m=\u001b[39;49m\u001b[43mtmp_path\u001b[49m\u001b[43m,\u001b[49m\n\u001b[0;32m    183\u001b[0m \u001b[43m        \u001b[49m\u001b[43mout_path\u001b[49m\u001b[38;5;241;43m=\u001b[39;49m\u001b[43mout_file\u001b[49m\u001b[38;5;241;43m.\u001b[39;49m\u001b[43mname\u001b[49m\u001b[43m,\u001b[49m\n\u001b[0;32m    184\u001b[0m \u001b[43m        \u001b[49m\u001b[43mpaths\u001b[49m\u001b[38;5;241;43m=\u001b[39;49m\u001b[43mfpaths\u001b[49m\u001b[43m,\u001b[49m\n\u001b[0;32m    185\u001b[0m \u001b[43m        \u001b[49m\u001b[43muse_shell\u001b[49m\u001b[38;5;241;43m=\u001b[39;49m\u001b[43muse_shell\u001b[49m\u001b[43m,\u001b[49m\n\u001b[0;32m    186\u001b[0m \u001b[43m        \u001b[49m\u001b[43mverbose\u001b[49m\u001b[38;5;241;43m=\u001b[39;49m\u001b[43mverbose\u001b[49m\u001b[43m,\u001b[49m\n\u001b[0;32m    187\u001b[0m \u001b[43m    \u001b[49m\u001b[43m)\u001b[49m\n\u001b[0;32m    188\u001b[0m     \u001b[38;5;28;01mif\u001b[39;00m success:\n\u001b[0;32m    189\u001b[0m         \u001b[38;5;28;01mbreak\u001b[39;00m\n",
      "File \u001b[1;32mc:\\Users\\maksi\\OneDrive\\Pulpit\\repos\\LLM-IN-CBR\\venv\\lib\\site-packages\\aac_metrics\\functional\\spice.py:391\u001b[0m, in \u001b[0;36m__run_spice\u001b[1;34m(i, timeout_i, timeout_lst, spice_cmd, tmp_path, out_path, paths, use_shell, verbose)\u001b[0m\n\u001b[0;32m    389\u001b[0m     \u001b[38;5;28;01melse\u001b[39;00m:\n\u001b[0;32m    390\u001b[0m         pylog\u001b[38;5;241m.\u001b[39minfo(\u001b[38;5;124mf\u001b[39m\u001b[38;5;124m\"\u001b[39m\u001b[38;5;124mNote: No temp file recorded. (found \u001b[39m\u001b[38;5;132;01m{\u001b[39;00mstdout\u001b[38;5;132;01m=}\u001b[39;00m\u001b[38;5;124m and \u001b[39m\u001b[38;5;132;01m{\u001b[39;00mstderr\u001b[38;5;132;01m=}\u001b[39;00m\u001b[38;5;124m)\u001b[39m\u001b[38;5;124m\"\u001b[39m)\n\u001b[1;32m--> 391\u001b[0m     \u001b[38;5;28;01mraise\u001b[39;00m err\n\u001b[0;32m    393\u001b[0m \u001b[38;5;28;01mreturn\u001b[39;00m success\n",
      "File \u001b[1;32mc:\\Users\\maksi\\OneDrive\\Pulpit\\repos\\LLM-IN-CBR\\venv\\lib\\site-packages\\aac_metrics\\functional\\spice.py:320\u001b[0m, in \u001b[0;36m__run_spice\u001b[1;34m(i, timeout_i, timeout_lst, spice_cmd, tmp_path, out_path, paths, use_shell, verbose)\u001b[0m\n\u001b[0;32m    317\u001b[0m     pylog\u001b[38;5;241m.\u001b[39mdebug(\u001b[38;5;124mf\u001b[39m\u001b[38;5;124m\"\u001b[39m\u001b[38;5;124mRun SPICE java code with: \u001b[39m\u001b[38;5;132;01m{\u001b[39;00m\u001b[38;5;124m'\u001b[39m\u001b[38;5;124m \u001b[39m\u001b[38;5;124m'\u001b[39m\u001b[38;5;241m.\u001b[39mjoin(spice_cmd)\u001b[38;5;132;01m}\u001b[39;00m\u001b[38;5;124m and \u001b[39m\u001b[38;5;132;01m{\u001b[39;00muse_shell\u001b[38;5;132;01m=}\u001b[39;00m\u001b[38;5;124m\"\u001b[39m)\n\u001b[0;32m    319\u001b[0m \u001b[38;5;28;01mtry\u001b[39;00m:\n\u001b[1;32m--> 320\u001b[0m     \u001b[43msubprocess\u001b[49m\u001b[38;5;241;43m.\u001b[39;49m\u001b[43mcheck_call\u001b[49m\u001b[43m(\u001b[49m\n\u001b[0;32m    321\u001b[0m \u001b[43m        \u001b[49m\u001b[43mspice_cmd\u001b[49m\u001b[43m,\u001b[49m\n\u001b[0;32m    322\u001b[0m \u001b[43m        \u001b[49m\u001b[43mstdout\u001b[49m\u001b[38;5;241;43m=\u001b[39;49m\u001b[43mstdout\u001b[49m\u001b[43m,\u001b[49m\n\u001b[0;32m    323\u001b[0m \u001b[43m        \u001b[49m\u001b[43mstderr\u001b[49m\u001b[38;5;241;43m=\u001b[39;49m\u001b[43mstderr\u001b[49m\u001b[43m,\u001b[49m\n\u001b[0;32m    324\u001b[0m \u001b[43m        \u001b[49m\u001b[43mtimeout\u001b[49m\u001b[38;5;241;43m=\u001b[39;49m\u001b[43mtimeout_i\u001b[49m\u001b[43m,\u001b[49m\n\u001b[0;32m    325\u001b[0m \u001b[43m        \u001b[49m\u001b[43mshell\u001b[49m\u001b[38;5;241;43m=\u001b[39;49m\u001b[43muse_shell\u001b[49m\u001b[43m,\u001b[49m\n\u001b[0;32m    326\u001b[0m \u001b[43m    \u001b[49m\u001b[43m)\u001b[49m\n\u001b[0;32m    327\u001b[0m     \u001b[38;5;28;01mif\u001b[39;00m stdout \u001b[38;5;129;01mis\u001b[39;00m \u001b[38;5;129;01mnot\u001b[39;00m \u001b[38;5;28;01mNone\u001b[39;00m:\n\u001b[0;32m    328\u001b[0m         stdout\u001b[38;5;241m.\u001b[39mclose()\n",
      "File \u001b[1;32m~\\AppData\\Local\\Programs\\Python\\Python310\\lib\\subprocess.py:369\u001b[0m, in \u001b[0;36mcheck_call\u001b[1;34m(*popenargs, **kwargs)\u001b[0m\n\u001b[0;32m    367\u001b[0m     \u001b[38;5;28;01mif\u001b[39;00m cmd \u001b[38;5;129;01mis\u001b[39;00m \u001b[38;5;28;01mNone\u001b[39;00m:\n\u001b[0;32m    368\u001b[0m         cmd \u001b[38;5;241m=\u001b[39m popenargs[\u001b[38;5;241m0\u001b[39m]\n\u001b[1;32m--> 369\u001b[0m     \u001b[38;5;28;01mraise\u001b[39;00m CalledProcessError(retcode, cmd)\n\u001b[0;32m    370\u001b[0m \u001b[38;5;28;01mreturn\u001b[39;00m \u001b[38;5;241m0\u001b[39m\n",
      "\u001b[1;31mCalledProcessError\u001b[0m: Command '['java', '-jar', '-Xmx8G', 'C:\\\\Users\\\\maksi\\\\.cache\\\\aac-metrics\\\\spice\\\\spice-1.0.jar', 'C:\\\\Users\\\\maksi\\\\AppData\\\\Local\\\\Temp\\\\spice_inputs_l4e2iada.json', '-cache', 'C:\\\\Users\\\\maksi\\\\AppData\\\\Local\\\\Temp\\\\tmpnkwm69oy', '-out', 'C:\\\\Users\\\\maksi\\\\AppData\\\\Local\\\\Temp\\\\spice_outputs_cklo5lcx.json', '-subset']' returned non-zero exit status 1."
     ]
    }
   ],
   "source": [
    "from aac_metrics.functional import spice\n",
    "\n",
    "spice(candidates, mult_references)"
   ]
  },
  {
   "cell_type": "code",
   "execution_count": null,
   "metadata": {},
   "outputs": [],
   "source": []
  },
  {
   "cell_type": "code",
   "execution_count": null,
   "metadata": {},
   "outputs": [],
   "source": []
  }
 ],
 "metadata": {
  "kernelspec": {
   "display_name": "Python 3",
   "language": "python",
   "name": "python3"
  },
  "language_info": {
   "codemirror_mode": {
    "name": "ipython",
    "version": 3
   },
   "file_extension": ".py",
   "mimetype": "text/x-python",
   "name": "python",
   "nbconvert_exporter": "python",
   "pygments_lexer": "ipython3",
   "version": "3.10.9"
  }
 },
 "nbformat": 4,
 "nbformat_minor": 2
}
