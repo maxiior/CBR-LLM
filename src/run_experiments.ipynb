{
 "cells": [
  {
   "cell_type": "code",
   "execution_count": null,
   "metadata": {},
   "outputs": [],
   "source": [
    "from experiment import run \n",
    "from models.llama import LlamaCPP \n",
    "import langchain\n",
    "langchain.debug = False #dx\n",
    "import pandas as pd\n",
    "\n",
    "llama = LlamaCPP(model_path=\"llama_models/llama-7b-hf.gguf\")\n",
    "# run(model=llama, dataset_name=\"test_input.csv\", experiment_name='__________________test')\n",
    "\n",
    "# run(model=llama, dataset_name=\"validation_pe2_input.csv\", experiment_name='validation_pe2')\n",
    "# run(model=llama, dataset_name=\"validation_cbr_00_input.csv\", experiment_name='validation_cbr_00')\n",
    "\n",
    "run(model=llama, dataset_name=\"validation_cbr_00_least_input.csv\", experiment_name='validation_cbr_00_least')\n",
    "run(model=llama, dataset_name=\"cbr_pe_input.csv\", experiment_name='cbr_pe')\n"
   ]
  },
  {
   "cell_type": "code",
   "execution_count": null,
   "metadata": {},
   "outputs": [],
   "source": [
    "# run(model=llama, dataset_name=\"small_validation_pe_input.csv\", experiment_name='small_validation_pe_2')\n",
    "# run(model=llama, dataset_name=\"small_validation_cbr_00_input_continue.csv\", experiment_name='small_validation_cbr_00_continue')\n",
    "\n",
    "# run(model=llama, dataset_name=\"cbr_augmentation_2_input.csv\", experiment_name='cbr_augmentation_2')\n",
    "# run(model=llama, dataset_name=\"cbr_augmentation_2_input_continue.csv\", experiment_name='cbr_augmentation_2_input_continue')\n",
    "# run(model=llama, dataset_name=\"cbr_augmentation_3_input.csv\", experiment_name='cbr_augmentation_3')"
   ]
  },
  {
   "cell_type": "code",
   "execution_count": null,
   "metadata": {},
   "outputs": [],
   "source": [
    "\"name: classic chocolate chip cookies ; ingredients: all-purpose flour, baking soda, salt, butter, sugar, brown sugar, eggs, vanilla extract, semi-sweet chocolate chips, walnuts ; preparation:Preheat oven to 375 degrees. In a medium mixing bowl stir together flour, baking soda, and salt. Set aside. In a large mixing bowl with an electric mixer on medium speed cream butter and sugars until fluffy. Beat in eggs, one at a time, then vanilla. On low speed gradually add flour mixture and mix just until blended. Stir in chocolate chips and walnuts. Drop dough by rounded tablespoonfuls 2 inches apart on ungreased baking sheets. Bake for 9 to 12 minutes. Transfer cookies to cooling racks to cool. ; name: soft chewy chocolate chip cookies ; ingredients: plain flour, baking soda, unsalted butter, granulated sugar, light brown sugar, salt, vanilla extract, eggs, chocolate chips ; preparation:Preheat oven to 180 degrees c. In a small bowl sift together flour and baking soda, set aside. In a large bowl, combine butter and both sugars. Beat on medium speed until light and fluffy, about 3 minutes. Reduce speed to low, add salt, vanilla, and eggs. Beat until well mixed, about 1 minute. Add flour mixture, mix until just combined. Stir in chocolate chips. Drop heaping spoonfuls about 2 inches apart onto baking trays lined with parchment paper. Bake until golden around the edges and soft in the middle, about 8-10 minutes. ; name: semi sweet chocolate chip cookies ; ingredients: butter, white sugar, brown sugar, egg, flour, oatmeal, baking soda, salt, semi-sweet chocolate chips ; preparation:Pre-heat oven to 350f. Cream butter, sugars and eggs until smooth. Combine flour, salt and baking soda together in a separate bowl. Mix wet ingredients with dry ingredients, and lastly stir in the oats and chocolate chips. Form into small balls with hands and bake on cookie sheets lined with parchment paper for 8-10 minutes or until very light golden, they should almost look un-cooked. Store in a tupperware box to keep them chewy. ; name: soft and chewy chocolate chip cookies ; ingredients: sugar, brown sugar, margarine, vanilla, eggs, all-purpose flour, baking soda, salt, semi-sweet chocolate chips ; preparation:Heat oven to 375f. In large bowl, beat sugar, brown sugar and margarine until light and fluffy. Add vanilla and eggs. Blend well. Add flour, baking soda and salt. Mix well. Stir in chocolate chips. Drop dough by rounded tablespoonfuls 2 inches apart onto ungreased cookie sheets. Bake at 375f for 8 to 10 minutes or until light golden brown. ; name: chocolate chip cookies 10 ; ingredients: all-purpose flour, baking soda, salt, granulated sugar, brown sugar, unsalted butter, egg yolks, vanilla extract, chocolate chips ; preparation:Preheat oven to 375f. In a medium mixing bowl stir together flour, baking soda, and salt. Set aside. In a large mixing bowl with an electric mixer on medium speed cream butter and sugars until fluffy. Beat in eggs, one at a time, then vanilla. On low speed gradually add flour mixture and mix just until blended. Stir in chocolate chips and walnuts. Drop dough by rounded tablespoonfuls 2 inches apart on ungreased baking sheets. Bake for 9 to 12 minutes. Transfer cookies to cooling racks to cool. ; name: soft chewy chocolate chip cookies ; ingredients: plain flour, baking soda, unsalted butter, granulated sugar, light brown sugar, salt, vanilla extract, eggs, chocolate chips ; preparation:Preheat oven to 180 degrees c. In a small bowl sift together flour and baking soda, set aside. In a large bowl, combine butter and both sugars. Beat on medium speed until light and fluffy, about 3 minutes. Reduce speed to low, add salt, vanilla, and eggs. Beat until well mixed, about 1 minute. Add flour mixture, mix until just combined. Stir in chocolate chips. Drop heaping spoonfuls about 2 inches apart onto baking trays lined with parchment paper. Bake until golden around the edges and soft in the middle, about 8-10 minutes. ; name: semi sweet chocolate chip cookies ; ingredients: butter, white sugar, brown sugar, egg, flour, oatmeal, baking soda, salt, semi-sweet chocolate chips ; preparation:Pre-heat oven to 350f. Cream butter, sugars and eggs until smooth. Combine flour, salt and baking soda together in a separate bowl. Mix wet ingredients with dry ingredients, and lastly stir in the oats and chocolate chips. Form into small balls with hands and bake on cookie sheets lined with parchment paper for 8-10 minutes or until very light golden, they should almost look un-cooked. Store in a tupperware box to keep them chewy.\"\n"
   ]
  }
 ],
 "metadata": {
  "kernelspec": {
   "display_name": "ml_lm",
   "language": "python",
   "name": "python3"
  },
  "language_info": {
   "codemirror_mode": {
    "name": "ipython",
    "version": 3
   },
   "file_extension": ".py",
   "mimetype": "text/x-python",
   "name": "python",
   "nbconvert_exporter": "python",
   "pygments_lexer": "ipython3",
   "version": "3.11.5"
  }
 },
 "nbformat": 4,
 "nbformat_minor": 2
}
