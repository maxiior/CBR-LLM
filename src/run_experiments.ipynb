{
 "cells": [
  {
   "cell_type": "code",
   "execution_count": 1,
   "metadata": {},
   "outputs": [
    {
     "name": "stderr",
     "output_type": "stream",
     "text": [
      "ggml_init_cublas: GGML_CUDA_FORCE_MMQ:   no\n",
      "ggml_init_cublas: CUDA_USE_TENSOR_CORES: yes\n",
      "ggml_init_cublas: found 1 CUDA devices:\n",
      "  Device 0: NVIDIA GeForce RTX 4060 Ti, compute capability 8.9, VMM: yes\n"
     ]
    },
    {
     "ename": "ValidationError",
     "evalue": "1 validation error for LlamaCpp\n__root__\n  Could not load Llama model from path: llama_models/llama-13b-hf_q8_0.gguf. Received error Model path does not exist: llama_models/llama-13b-hf_q8_0.gguf (type=value_error)",
     "output_type": "error",
     "traceback": [
      "\u001b[0;31m---------------------------------------------------------------------------\u001b[0m",
      "\u001b[0;31mValidationError\u001b[0m                           Traceback (most recent call last)",
      "Cell \u001b[0;32mIn[1], line 7\u001b[0m\n\u001b[1;32m      4\u001b[0m langchain\u001b[38;5;241m.\u001b[39mdebug \u001b[38;5;241m=\u001b[39m \u001b[38;5;28;01mFalse\u001b[39;00m \u001b[38;5;66;03m#dx\u001b[39;00m\n\u001b[1;32m      5\u001b[0m \u001b[38;5;28;01mimport\u001b[39;00m \u001b[38;5;21;01mpandas\u001b[39;00m \u001b[38;5;28;01mas\u001b[39;00m \u001b[38;5;21;01mpd\u001b[39;00m\n\u001b[0;32m----> 7\u001b[0m llama \u001b[38;5;241m=\u001b[39m \u001b[43mLlamaCPP\u001b[49m\u001b[43m(\u001b[49m\u001b[43mmodel_path\u001b[49m\u001b[38;5;241;43m=\u001b[39;49m\u001b[38;5;124;43m\"\u001b[39;49m\u001b[38;5;124;43mllama_models/llama-13b-hf_q8_0.gguf\u001b[39;49m\u001b[38;5;124;43m\"\u001b[39;49m\u001b[43m)\u001b[49m\n\u001b[1;32m      8\u001b[0m \u001b[38;5;66;03m# run(model=llama, dataset_name=\"test_input.csv\", experiment_name='__________________test')\u001b[39;00m\n\u001b[1;32m      9\u001b[0m \n\u001b[1;32m     10\u001b[0m \u001b[38;5;66;03m# run(model=llama, dataset_name=\"small_validation_cbr_00_input_ing.csv\", experiment_name='small_validation_cbr_00_ing')\u001b[39;00m\n\u001b[1;32m     11\u001b[0m \u001b[38;5;66;03m# run(model=llama, dataset_name=\"small_validation_cbr_00_input_nam.csv\", experiment_name='small_validation_cbr_00_nam')\u001b[39;00m\n\u001b[1;32m     12\u001b[0m \u001b[38;5;66;03m# run(model=llama, dataset_name=\"small_validation_cbr_00_input_ing_less.csv\", experiment_name='small_validation_cbr_00_ing_less')\u001b[39;00m\n\u001b[1;32m     13\u001b[0m run(model\u001b[38;5;241m=\u001b[39mllama, dataset_name\u001b[38;5;241m=\u001b[39m\u001b[38;5;124m\"\u001b[39m\u001b[38;5;124msmall_validation_cbr_00_large_input_half.csv\u001b[39m\u001b[38;5;124m\"\u001b[39m, experiment_name\u001b[38;5;241m=\u001b[39m\u001b[38;5;124m'\u001b[39m\u001b[38;5;124msmall_validation_cbr_00_large_half\u001b[39m\u001b[38;5;124m'\u001b[39m)\n",
      "File \u001b[0;32m~/projects/LLM-IN-CBR/src/models/llama.py:13\u001b[0m, in \u001b[0;36mLlamaCPP.__init__\u001b[0;34m(self, model_path, n_gpu_layers, n_batch, n_ctx)\u001b[0m\n\u001b[1;32m     10\u001b[0m \u001b[38;5;28mself\u001b[39m\u001b[38;5;241m.\u001b[39mn_batch \u001b[38;5;241m=\u001b[39m n_batch\n\u001b[1;32m     11\u001b[0m \u001b[38;5;28mself\u001b[39m\u001b[38;5;241m.\u001b[39mn_ctx \u001b[38;5;241m=\u001b[39m n_ctx\n\u001b[0;32m---> 13\u001b[0m \u001b[38;5;28mself\u001b[39m\u001b[38;5;241m.\u001b[39mmodel \u001b[38;5;241m=\u001b[39m \u001b[43mLlamaCpp\u001b[49m\u001b[43m(\u001b[49m\n\u001b[1;32m     14\u001b[0m \u001b[43m    \u001b[49m\u001b[43mmodel_path\u001b[49m\u001b[38;5;241;43m=\u001b[39;49m\u001b[43mmodel_path\u001b[49m\u001b[43m,\u001b[49m\n\u001b[1;32m     15\u001b[0m \u001b[43m    \u001b[49m\u001b[43mn_gpu_layers\u001b[49m\u001b[38;5;241;43m=\u001b[39;49m\u001b[43mn_gpu_layers\u001b[49m\u001b[43m,\u001b[49m\n\u001b[1;32m     16\u001b[0m \u001b[43m    \u001b[49m\u001b[43mn_batch\u001b[49m\u001b[38;5;241;43m=\u001b[39;49m\u001b[43mn_batch\u001b[49m\u001b[43m,\u001b[49m\n\u001b[1;32m     17\u001b[0m \u001b[43m    \u001b[49m\u001b[43mn_ctx\u001b[49m\u001b[38;5;241;43m=\u001b[39;49m\u001b[43mn_ctx\u001b[49m\u001b[43m,\u001b[49m\n\u001b[1;32m     18\u001b[0m \u001b[43m    \u001b[49m\u001b[43mf16_kv\u001b[49m\u001b[38;5;241;43m=\u001b[39;49m\u001b[38;5;28;43;01mTrue\u001b[39;49;00m\u001b[43m,\u001b[49m\u001b[43m  \u001b[49m\u001b[38;5;66;43;03m# MUST set to True, otherwise you will run into problem after a couple of calls\u001b[39;49;00m\n\u001b[1;32m     19\u001b[0m \u001b[43m    \u001b[49m\u001b[43mverbose\u001b[49m\u001b[38;5;241;43m=\u001b[39;49m\u001b[38;5;28;43;01mTrue\u001b[39;49;00m\u001b[43m,\u001b[49m\n\u001b[1;32m     20\u001b[0m \u001b[43m\u001b[49m\u001b[43m)\u001b[49m\n\u001b[1;32m     21\u001b[0m \u001b[38;5;28msuper\u001b[39m()\u001b[38;5;241m.\u001b[39m\u001b[38;5;21m__init__\u001b[39m()\n",
      "File \u001b[0;32m~/anaconda3/envs/ml_lm/lib/python3.11/site-packages/langchain_core/load/serializable.py:107\u001b[0m, in \u001b[0;36mSerializable.__init__\u001b[0;34m(self, **kwargs)\u001b[0m\n\u001b[1;32m    106\u001b[0m \u001b[38;5;28;01mdef\u001b[39;00m \u001b[38;5;21m__init__\u001b[39m(\u001b[38;5;28mself\u001b[39m, \u001b[38;5;241m*\u001b[39m\u001b[38;5;241m*\u001b[39mkwargs: Any) \u001b[38;5;241m-\u001b[39m\u001b[38;5;241m>\u001b[39m \u001b[38;5;28;01mNone\u001b[39;00m:\n\u001b[0;32m--> 107\u001b[0m     \u001b[38;5;28;43msuper\u001b[39;49m\u001b[43m(\u001b[49m\u001b[43m)\u001b[49m\u001b[38;5;241;43m.\u001b[39;49m\u001b[38;5;21;43m__init__\u001b[39;49m\u001b[43m(\u001b[49m\u001b[38;5;241;43m*\u001b[39;49m\u001b[38;5;241;43m*\u001b[39;49m\u001b[43mkwargs\u001b[49m\u001b[43m)\u001b[49m\n\u001b[1;32m    108\u001b[0m     \u001b[38;5;28mself\u001b[39m\u001b[38;5;241m.\u001b[39m_lc_kwargs \u001b[38;5;241m=\u001b[39m kwargs\n",
      "File \u001b[0;32m~/anaconda3/envs/ml_lm/lib/python3.11/site-packages/pydantic/main.py:341\u001b[0m, in \u001b[0;36mpydantic.main.BaseModel.__init__\u001b[0;34m()\u001b[0m\n",
      "\u001b[0;31mValidationError\u001b[0m: 1 validation error for LlamaCpp\n__root__\n  Could not load Llama model from path: llama_models/llama-13b-hf_q8_0.gguf. Received error Model path does not exist: llama_models/llama-13b-hf_q8_0.gguf (type=value_error)"
     ]
    }
   ],
   "source": [
    "from experiment import run \n",
    "from models.llama import LlamaCPP \n",
    "import langchain\n",
    "langchain.debug = False #dx\n",
    "import pandas as pd\n",
    "\n",
    "llama = LlamaCPP(model_path=\"llama_models/llama-7b-hf.gguf\")\n",
    "# run(model=llama, dataset_name=\"test_input.csv\", experiment_name='__________________test')\n",
    "\n",
    "# run(model=llama, dataset_name=\"small_validation_cbr_00_input_ing.csv\", experiment_name='small_validation_cbr_00_ing')\n",
    "# run(model=llama, dataset_name=\"small_validation_cbr_00_input_nam.csv\", experiment_name='small_validation_cbr_00_nam')\n",
    "# run(model=llama, dataset_name=\"small_validation_cbr_00_input_ing_less.csv\", experiment_name='small_validation_cbr_00_ing_less')\n",
    "run(model=llama, dataset_name=\"small_validation_cbr_00_large_input_half.csv\", experiment_name='small_validation_cbr_00_large_half')\n",
    "run(model=llama, dataset_name=\"small_validation_cbr_00_input_ing_less_half.csv\", experiment_name='small_validation_cbr_00_ing_less_half')\n"
   ]
  },
  {
   "cell_type": "code",
   "execution_count": null,
   "metadata": {},
   "outputs": [],
   "source": [
    "# run(model=llama, dataset_name=\"small_validation_pe_input.csv\", experiment_name='small_validation_pe_2')\n",
    "# run(model=llama, dataset_name=\"small_validation_cbr_00_input_continue.csv\", experiment_name='small_validation_cbr_00_continue')\n",
    "\n",
    "# run(model=llama, dataset_name=\"cbr_augmentation_2_input.csv\", experiment_name='cbr_augmentation_2')\n",
    "# run(model=llama, dataset_name=\"cbr_augmentation_2_input_continue.csv\", experiment_name='cbr_augmentation_2_input_continue')\n",
    "# run(model=llama, dataset_name=\"cbr_augmentation_3_input.csv\", experiment_name='cbr_augmentation_3')"
   ]
  }
 ],
 "metadata": {
  "kernelspec": {
   "display_name": "ml_lm",
   "language": "python",
   "name": "python3"
  },
  "language_info": {
   "codemirror_mode": {
    "name": "ipython",
    "version": 3
   },
   "file_extension": ".py",
   "mimetype": "text/x-python",
   "name": "python",
   "nbconvert_exporter": "python",
   "pygments_lexer": "ipython3",
   "version": "3.11.5"
  }
 },
 "nbformat": 4,
 "nbformat_minor": 2
}
