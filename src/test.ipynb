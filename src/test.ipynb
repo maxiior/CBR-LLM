{
 "cells": [
  {
   "cell_type": "code",
   "execution_count": 1,
   "metadata": {},
   "outputs": [],
   "source": [
    "import pandas as pd \n",
    "from models.gpt import GPTConnector\n",
    "from configs.configs import Configs "
   ]
  },
  {
   "cell_type": "code",
   "execution_count": 4,
   "metadata": {},
   "outputs": [
    {
     "data": {
      "text/plain": [
       "[{'prompt': {'file_name': 'prompt_1',\n",
       "   'tags': ['<NAME>', '<STEPS>', '<INGREDIENTS>']},\n",
       "  'model': {'type': 'gpt',\n",
       "   'name': 'gpt-3.5-turbo-instruct',\n",
       "   'params': {'temperature': 0, 'response_format': 'json'}},\n",
       "  'datasets': {'file_name': 'RAW_recipes.csv',\n",
       "   'columns_to_extract': ['id',\n",
       "    'name',\n",
       "    'n_steps',\n",
       "    'steps',\n",
       "    'ingredients',\n",
       "    'n_ingredients'],\n",
       "   'mask_tag': '<MASK>',\n",
       "   'proportions': {'train': 0.3,\n",
       "    'valid': 0.1,\n",
       "    'test': 0.1,\n",
       "    'langchain': 0.5}}}]"
      ]
     },
     "execution_count": 4,
     "metadata": {},
     "output_type": "execute_result"
    }
   ],
   "source": [
    "Configs.get_experiments_configs()"
   ]
  },
  {
   "cell_type": "code",
   "execution_count": 3,
   "metadata": {},
   "outputs": [
    {
     "ename": "TypeError",
     "evalue": "GPTConnector.__init__() missing 1 required positional argument: 'experiment_configs'",
     "output_type": "error",
     "traceback": [
      "\u001b[0;31m---------------------------------------------------------------------------\u001b[0m",
      "\u001b[0;31mTypeError\u001b[0m                                 Traceback (most recent call last)",
      "Cell \u001b[0;32mIn[3], line 1\u001b[0m\n\u001b[0;32m----> 1\u001b[0m \u001b[43mGPTConnector\u001b[49m\u001b[43m(\u001b[49m\u001b[43m)\u001b[49m\n",
      "\u001b[0;31mTypeError\u001b[0m: GPTConnector.__init__() missing 1 required positional argument: 'experiment_configs'"
     ]
    }
   ],
   "source": [
    "GPTConnector()"
   ]
  },
  {
   "cell_type": "code",
   "execution_count": null,
   "metadata": {},
   "outputs": [],
   "source": [
    "40k / min\n",
    "\n",
    "3 req/min\n",
    "200 req/dzień\n",
    "\n",
    "\n",
    "0.03 / 1k\n",
    "0.06 /1k\n"
   ]
  },
  {
   "cell_type": "code",
   "execution_count": null,
   "metadata": {},
   "outputs": [],
   "source": [
    "20 000 k\n",
    "\n",
    "5 $"
   ]
  },
  {
   "cell_type": "code",
   "execution_count": null,
   "metadata": {},
   "outputs": [],
   "source": []
  }
 ],
 "metadata": {
  "kernelspec": {
   "display_name": "ml",
   "language": "python",
   "name": "python3"
  },
  "language_info": {
   "codemirror_mode": {
    "name": "ipython",
    "version": 3
   },
   "file_extension": ".py",
   "mimetype": "text/x-python",
   "name": "python",
   "nbconvert_exporter": "python",
   "pygments_lexer": "ipython3",
   "version": "3.11.5"
  }
 },
 "nbformat": 4,
 "nbformat_minor": 2
}
