{
 "cells": [
  {
   "cell_type": "code",
   "execution_count": null,
   "metadata": {},
   "outputs": [],
   "source": [
    "from experiment_gpt import run \n",
    "from models.gpt_2 import  GPT2\n",
    "import langchain\n",
    "langchain.debug = False #dx\n",
    "import pandas as pd\n",
    "from more_itertools import chunked\n",
    "\n",
    "ROZMIAR_PODZBIORU=3\n",
    "\n",
    "\n",
    "gpt = GPT2(num_beams=3)\n"
   ]
  },
  {
   "cell_type": "code",
   "execution_count": null,
   "metadata": {},
   "outputs": [],
   "source": [
    "DS_NAME = \"cbr_1_0_f_gpt2_input\"\n",
    "\n",
    "data = pd.read_csv(f\"{DS_NAME}.csv\")['input'].to_list()\n",
    "podzbiory = list(chunked(data, ROZMIAR_PODZBIORU))\n",
    "# run(gpt, podzbiory, DS_NAME[:-6], DS_NAME[:-6])"
   ]
  },
  {
   "cell_type": "code",
   "execution_count": null,
   "metadata": {},
   "outputs": [],
   "source": [
    "DS_NAME = \"cbr_1_1_f_gpt2_input\"\n",
    "\n",
    "data = pd.read_csv(f\"{DS_NAME}.csv\")['input'].to_list()\n",
    "podzbiory = list(chunked(data, ROZMIAR_PODZBIORU))\n",
    "run(gpt, podzbiory, DS_NAME[:-6], DS_NAME[:-6])"
   ]
  },
  {
   "cell_type": "code",
   "execution_count": null,
   "metadata": {},
   "outputs": [],
   "source": [
    "DS_NAME = \"cbr_1_2_f_gpt2_input\"\n",
    "\n",
    "data = pd.read_csv(f\"{DS_NAME}.csv\")['input'].to_list()\n",
    "podzbiory = list(chunked(data, ROZMIAR_PODZBIORU))\n",
    "run(gpt, podzbiory, DS_NAME[:-6], DS_NAME[:-6])"
   ]
  },
  {
   "cell_type": "code",
   "execution_count": null,
   "metadata": {},
   "outputs": [],
   "source": [
    "DS_NAME = \"cbr_1_3_f_gpt2_input\"\n",
    "\n",
    "data = pd.read_csv(f\"{DS_NAME}.csv\")['input'].to_list()\n",
    "podzbiory = list(chunked(data, ROZMIAR_PODZBIORU))\n",
    "run(gpt, podzbiory, DS_NAME[:-6], DS_NAME[:-6])"
   ]
  },
  {
   "cell_type": "code",
   "execution_count": null,
   "metadata": {},
   "outputs": [],
   "source": [
    "DS_NAME = \"cbr_1_4_f_gpt2_input\"\n",
    "\n",
    "data = pd.read_csv(f\"{DS_NAME}.csv\")['input'].to_list()\n",
    "podzbiory = list(chunked(data, ROZMIAR_PODZBIORU))\n",
    "run(gpt, podzbiory, DS_NAME[:-6], DS_NAME[:-6])"
   ]
  },
  {
   "cell_type": "code",
   "execution_count": null,
   "metadata": {},
   "outputs": [],
   "source": [
    "DS_NAME = \"cbr_1_5_f_gpt2_input\"\n",
    "\n",
    "data = pd.read_csv(f\"{DS_NAME}.csv\")['input'].to_list()\n",
    "podzbiory = list(chunked(data, ROZMIAR_PODZBIORU))\n",
    "run(gpt, podzbiory, DS_NAME[:-6], DS_NAME[:-6])"
   ]
  },
  {
   "cell_type": "code",
   "execution_count": null,
   "metadata": {},
   "outputs": [],
   "source": [
    "DS_NAME = \"cbr_2_6_f_gpt2_input\"\n",
    "\n",
    "data = pd.read_csv(f\"{DS_NAME}.csv\")['input'].to_list()\n",
    "podzbiory = list(chunked(data, ROZMIAR_PODZBIORU))\n",
    "run(gpt, podzbiory, DS_NAME[:-6], DS_NAME[:-6])"
   ]
  },
  {
   "cell_type": "code",
   "execution_count": null,
   "metadata": {},
   "outputs": [],
   "source": [
    "DS_NAME = \"cbr_2_8_f_gpt2_input\"\n",
    "\n",
    "data = pd.read_csv(f\"{DS_NAME}.csv\")['input'].to_list()\n",
    "podzbiory = list(chunked(data, ROZMIAR_PODZBIORU))\n",
    "run(gpt, podzbiory, DS_NAME[:-6], DS_NAME[:-6])"
   ]
  },
  {
   "cell_type": "code",
   "execution_count": null,
   "metadata": {},
   "outputs": [],
   "source": [
    "DS_NAME = \"cbr_3_0_f_gpt2_input\"\n",
    "\n",
    "data = pd.read_csv(f\"{DS_NAME}.csv\")['input'].to_list()\n",
    "podzbiory = list(chunked(data, ROZMIAR_PODZBIORU))\n",
    "run(gpt, podzbiory, DS_NAME[:-6], DS_NAME[:-6])"
   ]
  },
  {
   "cell_type": "code",
   "execution_count": null,
   "metadata": {},
   "outputs": [],
   "source": [
    "DS_NAME = \"cbr_3_3_f_gpt2_input\"\n",
    "\n",
    "data = pd.read_csv(f\"{DS_NAME}.csv\")['input'].to_list()\n",
    "podzbiory = list(chunked(data, ROZMIAR_PODZBIORU))\n",
    "run(gpt, podzbiory, DS_NAME[:-6], DS_NAME[:-6])"
   ]
  },
  {
   "cell_type": "code",
   "execution_count": null,
   "metadata": {},
   "outputs": [],
   "source": [
    "DS_NAME = \"cbr_3_6_f_gpt2_input\"\n",
    "\n",
    "data = pd.read_csv(f\"{DS_NAME}.csv\")['input'].to_list()\n",
    "podzbiory = list(chunked(data, ROZMIAR_PODZBIORU))\n",
    "run(gpt, podzbiory, DS_NAME[:-6], DS_NAME[:-6])"
   ]
  },
  {
   "cell_type": "code",
   "execution_count": null,
   "metadata": {},
   "outputs": [],
   "source": [
    "DS_NAME = \"cbr_3_9_f_gpt2_input\"\n",
    "\n",
    "data = pd.read_csv(f\"{DS_NAME}.csv\")['input'].to_list()\n",
    "podzbiory = list(chunked(data, ROZMIAR_PODZBIORU))\n",
    "run(gpt, podzbiory, DS_NAME[:-6], DS_NAME[:-6])"
   ]
  },
  {
   "cell_type": "code",
   "execution_count": null,
   "metadata": {},
   "outputs": [],
   "source": [
    "DS_NAME = \"cbr_4_0_f_gpt2_input\"\n",
    "\n",
    "data = pd.read_csv(f\"{DS_NAME}.csv\")['input'].to_list()\n",
    "podzbiory = list(chunked(data, ROZMIAR_PODZBIORU))\n",
    "run(gpt, podzbiory, DS_NAME[:-6], DS_NAME[:-6])"
   ]
  },
  {
   "cell_type": "code",
   "execution_count": null,
   "metadata": {},
   "outputs": [],
   "source": [
    "DS_NAME = \"cbr_4_4_f_gpt2_input\"\n",
    "\n",
    "data = pd.read_csv(f\"{DS_NAME}.csv\")['input'].to_list()\n",
    "podzbiory = list(chunked(data, ROZMIAR_PODZBIORU))\n",
    "run(gpt, podzbiory, DS_NAME[:-6], DS_NAME[:-6])"
   ]
  },
  {
   "cell_type": "code",
   "execution_count": null,
   "metadata": {},
   "outputs": [],
   "source": [
    "DS_NAME = \"cbr_4_8_f_gpt2_input\"\n",
    "\n",
    "data = pd.read_csv(f\"{DS_NAME}.csv\")['input'].to_list()\n",
    "podzbiory = list(chunked(data, ROZMIAR_PODZBIORU))\n",
    "run(gpt, podzbiory, DS_NAME[:-6], DS_NAME[:-6])"
   ]
  },
  {
   "cell_type": "code",
   "execution_count": null,
   "metadata": {},
   "outputs": [],
   "source": [
    "DS_NAME = \"cbr_5_0_f_gpt2_input\"\n",
    "\n",
    "data = pd.read_csv(f\"{DS_NAME}.csv\")['input'].to_list()\n",
    "podzbiory = list(chunked(data, ROZMIAR_PODZBIORU))\n",
    "run(gpt, podzbiory, DS_NAME[:-6], DS_NAME[:-6])"
   ]
  },
  {
   "cell_type": "code",
   "execution_count": null,
   "metadata": {},
   "outputs": [],
   "source": [
    "DS_NAME = \"cbr_5_5_f_gpt2_input\"\n",
    "\n",
    "data = pd.read_csv(f\"{DS_NAME}.csv\")['input'].to_list()\n",
    "podzbiory = list(chunked(data, ROZMIAR_PODZBIORU))\n",
    "run(gpt, podzbiory, DS_NAME[:-6], DS_NAME[:-6])"
   ]
  },
  {
   "cell_type": "code",
   "execution_count": null,
   "metadata": {},
   "outputs": [],
   "source": [
    "DS_NAME = \"cbr_10_5_f_gpt2_input\"\n",
    "\n",
    "data = pd.read_csv(f\"{DS_NAME}.csv\")['input'].to_list()\n",
    "podzbiory = list(chunked(data, ROZMIAR_PODZBIORU))\n",
    "run(gpt, podzbiory, DS_NAME[:-6], DS_NAME[:-6])"
   ]
  }
 ],
 "metadata": {
  "kernelspec": {
   "display_name": "ml_lm",
   "language": "python",
   "name": "python3"
  },
  "language_info": {
   "codemirror_mode": {
    "name": "ipython",
    "version": 3
   },
   "file_extension": ".py",
   "mimetype": "text/x-python",
   "name": "python",
   "nbconvert_exporter": "python",
   "pygments_lexer": "ipython3",
   "version": "3.11.5"
  }
 },
 "nbformat": 4,
 "nbformat_minor": 2
}
