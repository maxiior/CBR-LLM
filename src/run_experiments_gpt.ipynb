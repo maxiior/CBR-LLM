{
 "cells": [
  {
   "cell_type": "code",
   "execution_count": null,
   "metadata": {},
   "outputs": [],
   "source": [
    "from experiment_gpt import run \n",
    "from models.gpt_2 import  GPT2\n",
    "import langchain\n",
    "langchain.debug = False #dx\n",
    "import pandas as pd\n",
    "from more_itertools import chunked\n",
    "\n",
    "ROZMIAR_PODZBIORU=5\n",
    "\n",
    "\n",
    "gpt = GPT2(num_beams=3)\n"
   ]
  },
  {
   "cell_type": "code",
   "execution_count": null,
   "metadata": {},
   "outputs": [],
   "source": [
    "DS_NAME = \"cbr_10_50_gpt2_input\"\n",
    "data = pd.read_csv(f\"{DS_NAME}.csv\")['input'].to_list()\n",
    "podzbiory = list(chunked(data, ROZMIAR_PODZBIORU))\n",
    "# run(gpt, podzbiory, DS_NAME[:-6], DS_NAME[:-6])"
   ]
  },
  {
   "cell_type": "code",
   "execution_count": null,
   "metadata": {},
   "outputs": [],
   "source": [
    "DS_NAME = \"cbr_10_100_gpt2_input\"\n",
    "data = pd.read_csv(f\"{DS_NAME}.csv\")['input'].to_list()\n",
    "podzbiory = list(chunked(data, ROZMIAR_PODZBIORU))\n",
    "# run(gpt, podzbiory, DS_NAME[:-6], DS_NAME[:-6])"
   ]
  },
  {
   "cell_type": "code",
   "execution_count": null,
   "metadata": {},
   "outputs": [],
   "source": [
    "DS_NAME = \"cbr_15_30_gpt2_input\"\n",
    "data = pd.read_csv(f\"{DS_NAME}.csv\")['input'].to_list()\n",
    "podzbiory = list(chunked(data, ROZMIAR_PODZBIORU))\n",
    "# run(gpt, podzbiory, DS_NAME[:-6], DS_NAME[:-6])"
   ]
  },
  {
   "cell_type": "code",
   "execution_count": null,
   "metadata": {},
   "outputs": [],
   "source": [
    "DS_NAME = \"cbr_15_70_gpt2_input\"\n",
    "data = pd.read_csv(f\"{DS_NAME}.csv\")['input'].to_list()\n",
    "podzbiory = list(chunked(data, ROZMIAR_PODZBIORU))\n",
    "# run(gpt, podzbiory, DS_NAME[:-6], DS_NAME[:-6])"
   ]
  },
  {
   "cell_type": "code",
   "execution_count": null,
   "metadata": {},
   "outputs": [],
   "source": [
    "DS_NAME = \"cbr_20_50_gpt2_input\"\n",
    "data = pd.read_csv(f\"{DS_NAME}.csv\")['input'].to_list()\n",
    "podzbiory = list(chunked(data, ROZMIAR_PODZBIORU))\n",
    "# run(gpt, podzbiory, DS_NAME[:-6], DS_NAME[:-6])"
   ]
  },
  {
   "cell_type": "code",
   "execution_count": null,
   "metadata": {},
   "outputs": [],
   "source": [
    "DS_NAME = \"validation_cbr_00_gpt2_input\"\n",
    "data = pd.read_csv(f\"{DS_NAME}.csv\")['input'].to_list()\n",
    "podzbiory = list(chunked(data, ROZMIAR_PODZBIORU))\n",
    "# run(gpt, podzbiory, DS_NAME[:-6], DS_NAME[:-6])\n"
   ]
  },
  {
   "cell_type": "code",
   "execution_count": null,
   "metadata": {},
   "outputs": [],
   "source": [
    "DS_NAME = \"validation_pe2_gpt2_input\"\n",
    "data = pd.read_csv(f\"{DS_NAME}.csv\")['input'].to_list()\n",
    "podzbiory = list(chunked(data, ROZMIAR_PODZBIORU))\n",
    "# run(gpt, podzbiory, DS_NAME[:-6], DS_NAME[:-6])"
   ]
  },
  {
   "cell_type": "code",
   "execution_count": null,
   "metadata": {},
   "outputs": [],
   "source": [
    "DS_NAME = \"cbr_augmentation_1_gpt2_input\"\n",
    "data = pd.read_csv(f\"{DS_NAME}.csv\")['input'].to_list()\n",
    "podzbiory = list(chunked(data, ROZMIAR_PODZBIORU))\n",
    "# run(gpt, podzbiory, DS_NAME[:-6], DS_NAME[:-6])"
   ]
  },
  {
   "cell_type": "code",
   "execution_count": null,
   "metadata": {},
   "outputs": [],
   "source": [
    "DS_NAME = \"cbr_augmentation_2_gpt2_input\"\n",
    "data = pd.read_csv(f\"{DS_NAME}.csv\")['input'].to_list()\n",
    "podzbiory = list(chunked(data, ROZMIAR_PODZBIORU))\n",
    "# run(gpt, podzbiory, DS_NAME[:-6], DS_NAME[:-6])"
   ]
  },
  {
   "cell_type": "code",
   "execution_count": null,
   "metadata": {},
   "outputs": [],
   "source": [
    "DS_NAME = \"cbr_augmentation_gpt2_input\"\n",
    "data = pd.read_csv(f\"{DS_NAME}.csv\")['input'].to_list()\n",
    "podzbiory = list(chunked(data, ROZMIAR_PODZBIORU))\n",
    "# run(gpt, podzbiory, DS_NAME[:-6], DS_NAME[:-6])"
   ]
  },
  {
   "cell_type": "code",
   "execution_count": null,
   "metadata": {},
   "outputs": [],
   "source": []
  }
 ],
 "metadata": {
  "kernelspec": {
   "display_name": "ml_lm",
   "language": "python",
   "name": "python3"
  },
  "language_info": {
   "codemirror_mode": {
    "name": "ipython",
    "version": 3
   },
   "file_extension": ".py",
   "mimetype": "text/x-python",
   "name": "python",
   "nbconvert_exporter": "python",
   "pygments_lexer": "ipython3",
   "version": "3.11.5"
  }
 },
 "nbformat": 4,
 "nbformat_minor": 2
}
