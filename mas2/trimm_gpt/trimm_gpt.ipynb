{
 "cells": [
  {
   "cell_type": "code",
   "execution_count": 1,
   "metadata": {},
   "outputs": [],
   "source": [
    "import pandas as pd \n",
    "import numpy as np"
   ]
  },
  {
   "cell_type": "code",
   "execution_count": 2,
   "metadata": {},
   "outputs": [],
   "source": [
    "DFI = \"cbr_2_4_nf_gpt2_input\"\n",
    "DFG = \"cbr_2_4_nf_gpt2_results\""
   ]
  },
  {
   "cell_type": "code",
   "execution_count": 3,
   "metadata": {},
   "outputs": [
    {
     "name": "stdout",
     "output_type": "stream",
     "text": [
      "2125 2125\n",
      "True\n",
      "True\n"
     ]
    }
   ],
   "source": [
    "dfi = pd.read_csv(f\"{DFI}.csv\")\n",
    "dfg = pd.read_csv(f\"{DFG}.csv\")\n",
    "\n",
    "inputs = dfi.input.to_list()\n",
    "results = dfg.result.to_list()\n",
    "\n",
    "print(len(inputs), len(results))\n",
    "\n",
    "if np.all([i in r for i, r in zip(inputs, results)]):\n",
    "    print(True)\n",
    "else:\n",
    "    raise\n",
    "res_p1 = [e.replace(\"<|endoftext|>\", \"\") for e in results]\n",
    "if np.all([i in r for i, r in zip(inputs, res_p1)]):\n",
    "    print(True)\n",
    "else:\n",
    "    raise\n",
    "\n",
    "def trimm_semicolon(res):\n",
    "    res = res.replace(\"  ;  \", \"\")\n",
    "    res = res.replace(\"  ; \", \"\")\n",
    "    res = res.replace(\"  ;\", \"\")\n",
    "    res = res.replace(\" ; \", \"\")\n",
    "    res = res.replace(\"; \", \"\")\n",
    "    res = res.replace(\" ;\", \"\")\n",
    "    res = res.replace(\";\", \"\")\n",
    "    return res\n",
    "\n",
    "\n",
    "res_p2 = [trimm_semicolon(r.replace(i, \"\").split(\"ingredients:\")[0].split(\"name:\")[0]) for i, r in zip(inputs, res_p1)]\n",
    "res_p3 = [\".\".join(list(dict.fromkeys(e.split(\".\")))) for e in res_p2]\n",
    "\n",
    "pd.DataFrame({\"result\":res_p3}).to_csv(f\"{DFG}_p.csv\")"
   ]
  }
 ],
 "metadata": {
  "kernelspec": {
   "display_name": "ml_lm",
   "language": "python",
   "name": "python3"
  },
  "language_info": {
   "codemirror_mode": {
    "name": "ipython",
    "version": 3
   },
   "file_extension": ".py",
   "mimetype": "text/x-python",
   "name": "python",
   "nbconvert_exporter": "python",
   "pygments_lexer": "ipython3",
   "version": "3.11.5"
  }
 },
 "nbformat": 4,
 "nbformat_minor": 2
}
