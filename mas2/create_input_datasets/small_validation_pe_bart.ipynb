{
 "cells": [
  {
   "cell_type": "code",
   "execution_count": 1,
   "metadata": {},
   "outputs": [
    {
     "name": "stderr",
     "output_type": "stream",
     "text": [
      "/home/maciej/anaconda3/envs/ml_lm/lib/python3.11/site-packages/tqdm/auto.py:21: TqdmWarning: IProgress not found. Please update jupyter and ipywidgets. See https://ipywidgets.readthedocs.io/en/stable/user_install.html\n",
      "  from .autonotebook import tqdm as notebook_tqdm\n"
     ]
    }
   ],
   "source": [
    "import pandas as pd\n",
    "from helpers import load_all_datasets, compose\n",
    "import random\n",
    "from transformers import LlamaTokenizerFast\n",
    "\n",
    "SAFE_FILE = \"validation_pe2_gpt2_input\""
   ]
  },
  {
   "cell_type": "code",
   "execution_count": 2,
   "metadata": {},
   "outputs": [],
   "source": [
    "_, _, _, _, cbr_database, _, validation = load_all_datasets()"
   ]
  },
  {
   "cell_type": "code",
   "execution_count": 3,
   "metadata": {},
   "outputs": [],
   "source": [
    "tokenizer = LlamaTokenizerFast.from_pretrained(\"hf-internal-testing/llama-tokenizer\")"
   ]
  },
  {
   "cell_type": "code",
   "execution_count": 4,
   "metadata": {},
   "outputs": [
    {
     "name": "stdout",
     "output_type": "stream",
     "text": [
      "REPEAT - 1071\n",
      "REPEAT - 1141\n",
      "REPEAT - 1072\n",
      "REPEAT - 1032\n",
      "REPEAT - 1033\n",
      "REPEAT - 1084\n",
      "REPEAT - 1049\n",
      "REPEAT - 1070\n",
      "REPEAT - 1111\n",
      "REPEAT - 1049\n",
      "REPEAT - 1059\n",
      "REPEAT - 1047\n",
      "REPEAT - 1058\n",
      "REPEAT - 1035\n",
      "REPEAT - 1073\n",
      "REPEAT - 1041\n",
      "REPEAT - 1066\n",
      "REPEAT - 1027\n",
      "REPEAT - 1098\n",
      "REPEAT - 1029\n",
      "REPEAT - 1052\n",
      "REPEAT - 1054\n",
      "REPEAT - 1048\n",
      "REPEAT - 1064\n",
      "REPEAT - 1060\n",
      "REPEAT - 1037\n",
      "REPEAT - 1039\n",
      "REPEAT - 1085\n",
      "REPEAT - 1193\n",
      "REPEAT - 1106\n",
      "REPEAT - 1095\n",
      "REPEAT - 1086\n",
      "REPEAT - 1064\n",
      "REPEAT - 1096\n",
      "REPEAT - 1111\n",
      "REPEAT - 1156\n",
      "REPEAT - 1109\n",
      "REPEAT - 1028\n",
      "REPEAT - 1039\n",
      "REPEAT - 1049\n",
      "REPEAT - 1220\n",
      "REPEAT - 1067\n",
      "REPEAT - 1066\n",
      "REPEAT - 1040\n",
      "REPEAT - 1106\n",
      "REPEAT - 1046\n",
      "REPEAT - 1080\n",
      "REPEAT - 1183\n",
      "REPEAT - 1036\n",
      "REPEAT - 1033\n",
      "REPEAT - 1027\n",
      "REPEAT - 1027\n",
      "REPEAT - 1091\n",
      "REPEAT - 1086\n",
      "REPEAT - 1049\n",
      "REPEAT - 1050\n",
      "REPEAT - 1061\n",
      "REPEAT - 1051\n",
      "REPEAT - 1049\n",
      "REPEAT - 1088\n",
      "REPEAT - 1084\n",
      "REPEAT - 1027\n",
      "REPEAT - 1026\n",
      "REPEAT - 1031\n",
      "REPEAT - 1025\n",
      "REPEAT - 1034\n",
      "REPEAT - 1085\n",
      "REPEAT - 1057\n",
      "REPEAT - 1111\n",
      "REPEAT - 1119\n",
      "REPEAT - 1040\n",
      "REPEAT - 1075\n",
      "REPEAT - 1050\n",
      "REPEAT - 1033\n",
      "REPEAT - 1041\n",
      "REPEAT - 1047\n"
     ]
    }
   ],
   "source": [
    "\n",
    "inputs = []\n",
    "pe_recipes = []\n",
    "target_recipe = []\n",
    "\n",
    "for i, e in validation.iterrows():\n",
    "\n",
    "    while True:\n",
    "        recipe_ixs = [random.randint(0, len(cbr_database)-1) for _ in range(5)]\n",
    "        gen_input = compose(cbr_database.iloc[recipe_ixs], e)\n",
    "        if len(tokenizer.encode(gen_input)) <= 1024: \n",
    "            break\n",
    "        else:\n",
    "            print(f\"REPEAT - {len(tokenizer.encode(gen_input))}\")\n",
    "        \n",
    "    pe_recipes.append(list(cbr_database.iloc[recipe_ixs].id.values))\n",
    "    target_recipe.append(e[\"id\"])\n",
    "    inputs.append(gen_input)\n",
    "\n"
   ]
  },
  {
   "cell_type": "code",
   "execution_count": 5,
   "metadata": {},
   "outputs": [],
   "source": [
    "df = pd.DataFrame()\n",
    "df[\"input\"] = inputs\n",
    "df[\"pe_recipes\"] = pe_recipes\n",
    "df[\"target_recipe\"] = target_recipe\n",
    "df.to_csv(f\"input_datasets/{SAFE_FILE}.csv\", index=False)\n"
   ]
  },
  {
   "cell_type": "code",
   "execution_count": null,
   "metadata": {},
   "outputs": [],
   "source": []
  },
  {
   "cell_type": "code",
   "execution_count": null,
   "metadata": {},
   "outputs": [],
   "source": []
  }
 ],
 "metadata": {
  "kernelspec": {
   "display_name": "ml_lm",
   "language": "python",
   "name": "python3"
  },
  "language_info": {
   "codemirror_mode": {
    "name": "ipython",
    "version": 3
   },
   "file_extension": ".py",
   "mimetype": "text/x-python",
   "name": "python",
   "nbconvert_exporter": "python",
   "pygments_lexer": "ipython3",
   "version": "3.11.5"
  }
 },
 "nbformat": 4,
 "nbformat_minor": 2
}
