{
 "cells": [
  {
   "cell_type": "code",
   "execution_count": 1,
   "metadata": {},
   "outputs": [],
   "source": [
    "from helpers import load_all_datasets, compose, str_rep_vdb, str_rep_no_steps, CBRDatabase, str_rep_vdb_ing, str_rep_vdb_nam \n",
    "import pandas as pd\n",
    "additional_cbr_1, additional_cbr_2, additional_validation, cbr_augmentation, cbr_database, model_training, validation = load_all_datasets()\n",
    "\n",
    "DATABASE_NAME = \"cbr_database\"\n",
    "OUTPUT_FILE = \"validation_cbr_00_gpt2_input.csv\"\n",
    "cbr_id = cbr_database.set_index(\"id\")"
   ]
  },
  {
   "cell_type": "code",
   "execution_count": null,
   "metadata": {},
   "outputs": [],
   "source": []
  },
  {
   "cell_type": "code",
   "execution_count": 2,
   "metadata": {},
   "outputs": [],
   "source": [
    "# large_cbr = pd.concat([cbr_database, cbr_augmentation, additional_cbr_1, additional_cbr_2])\n",
    "# large_cbr_id = large_cbr.set_index(\"id\")\n",
    "# large_cbr_reps = str_rep_vdb(large_cbr_id)\n",
    "# len(large_cbr_reps)"
   ]
  },
  {
   "cell_type": "code",
   "execution_count": 3,
   "metadata": {},
   "outputs": [
    {
     "name": "stdout",
     "output_type": "stream",
     "text": [
      "bert_load_from_file: gguf version     = 2\n",
      "bert_load_from_file: gguf alignment   = 32\n",
      "bert_load_from_file: gguf data offset = 695552\n",
      "bert_load_from_file: model name           = BERT\n",
      "bert_load_from_file: model architecture   = bert\n",
      "bert_load_from_file: model file type      = 1\n",
      "bert_load_from_file: bert tokenizer vocab = 30522\n",
      "10627\n",
      "[Document(page_content='name: jalapeo cheese and smoked paprika bread bread machine ; ingredients: water, bread flour, jalapeno cheddar cheese, smoked paprika, garlic clove, sugar, salt, active dry yeast ; preparation:', metadata={'dataset': 'cbr_database', 'recipe_id': 244278})]\n"
     ]
    }
   ],
   "source": [
    "# meta = CBRDatabase.create_metadatas([int(e) for e in list(cbr_id[\"id\"].values)], {\"dataset\":\"cbr_database\"})\n",
    "# vdb = CBRDatabase(large_cbr_reps, metadatas=meta, db_directory=f\"dataset_vector/{DATABASE_NAME}\", initialize_new=True)\n",
    "\n",
    "vdb = CBRDatabase(db_directory=f\"dataset_vector/{DATABASE_NAME}\", initialize_new=False)\n",
    "print(len(vdb.get_texts()))\n",
    "print(vdb.similarity_search(query=\"test\", k=1))"
   ]
  },
  {
   "cell_type": "code",
   "execution_count": 4,
   "metadata": {},
   "outputs": [
    {
     "name": "stderr",
     "output_type": "stream",
     "text": [
      "/home/maciej/anaconda3/envs/ml_lm/lib/python3.11/site-packages/tqdm/auto.py:21: TqdmWarning: IProgress not found. Please update jupyter and ipywidgets. See https://ipywidgets.readthedocs.io/en/stable/user_install.html\n",
      "  from .autonotebook import tqdm as notebook_tqdm\n"
     ]
    },
    {
     "name": "stdout",
     "output_type": "stream",
     "text": [
      "1 - 1292\n"
     ]
    }
   ],
   "source": [
    "# generowanie inputów - 1500 tokenów \n",
    "import random\n",
    "from transformers import LlamaTokenizerFast\n",
    "\n",
    "tokenizer = LlamaTokenizerFast.from_pretrained(\"hf-internal-testing/llama-tokenizer\")\n",
    "\n",
    "inputs = []\n",
    "pe_recipes = []\n",
    "target_recipe = []\n",
    "lens = []\n",
    "\n",
    "for i, v_recipe in validation.iterrows():\n",
    "    while True:\n",
    "        # recipe_ixs = [random.randint(0, len(cbr_database)-1) for _ in range(7)]\n",
    "        recipe_ixs = [e.metadata[CBRDatabase.RECIPE_ID_KEY] for e in vdb.similarity_search(query=str_rep_no_steps(v_recipe), k=5)]\n",
    "        # recipe_ixs = [e.metadata[CBRDatabase.RECIPE_ID_KEY] for e in vdb.similarity_search(query=v_recipe[\"ingredients\"], k=7)]\n",
    "        # recipe_ixs = [e.metadata[CBRDatabase.RECIPE_ID_KEY] for e in vdb.similarity_search(query=v_recipe[\"name\"], k=7)]\n",
    "        # print(vdb.similarity_search(query=v_recipe[\"ingredients\"], k=7))#dev\n",
    "        # print(large_cbr_id.loc[recipe_ixs])#dev\n",
    "\n",
    "        gen_input = compose(cbr_id.loc[recipe_ixs], v_recipe)\n",
    "        br = False\n",
    "        if len(tokenizer.encode(gen_input)) <= 1024: \n",
    "            br = True\n",
    "        else:\n",
    "            for ii in list(range(6, -1, -1)):\n",
    "                gen_input = compose(cbr_id.loc[recipe_ixs[:ii] + recipe_ixs[ii+1:]], v_recipe)\n",
    "                if len(tokenizer.encode(gen_input)) <= 1024: \n",
    "                    br = True\n",
    "                    print(f\"1 - {len(tokenizer.encode(gen_input))}\")\n",
    "                    break\n",
    "            if br: break\n",
    "            for ii in list(range(5, -1, -1)):\n",
    "                gen_input = compose(cbr_id.loc[recipe_ixs[:ii] + recipe_ixs[ii+2:]], v_recipe)\n",
    "                if len(tokenizer.encode(gen_input)) <= 1024: \n",
    "                    br = True\n",
    "                    print(f\"2 - {len(tokenizer.encode(gen_input))}\")\n",
    "                    break\n",
    "        \n",
    "        if not br:\n",
    "            print(cbr_id.loc[recipe_ixs].steps.values)\n",
    "            print(f\"REPEAT - {len(tokenizer.encode(gen_input))}\")\n",
    "        else:\n",
    "            lens.append(len(tokenizer.encode(gen_input)))\n",
    "            break\n",
    "            \n",
    "        \n",
    "    pe_recipes.append(recipe_ixs)\n",
    "    target_recipe.append(v_recipe[\"id\"])\n",
    "    inputs.append(gen_input)"
   ]
  },
  {
   "cell_type": "code",
   "execution_count": 5,
   "metadata": {},
   "outputs": [],
   "source": [
    "df = pd.DataFrame()\n",
    "df[\"input\"] = inputs\n",
    "df[\"pe_recipes\"] = pe_recipes\n",
    "df[\"target_recipe\"] = target_recipe\n",
    "df.to_csv(f\"input_datasets/{OUTPUT_FILE}\", index=False)"
   ]
  },
  {
   "cell_type": "code",
   "execution_count": 6,
   "metadata": {},
   "outputs": [
    {
     "data": {
      "text/plain": [
       "[Document(page_content='name: v s crock pot bottom round roast ; ingredients: boneless bottom round roast, dijon mustard, brown sugar, worcestershire sauce, dry red wine, beef broth, onion, carrots, kosher salt & freshly ground black pepper ; preparation:', metadata={'dataset': 'cbr_database', 'recipe_id': 276903}),\n",
       " Document(page_content='name: holiday vegan golden gravy ; ingredients: flour, nutritional yeast flakes, oil, water, soy sauce, salt & pepper ; preparation:', metadata={'dataset': 'cbr_database', 'recipe_id': 35838}),\n",
       " Document(page_content='name: savory slow cooker beef roast ; ingredients: boneless beef roast, onion, vegetable juice, brown gravy mix, garlic cloves, pepper, thyme ; preparation:', metadata={'dataset': 'cbr_database', 'recipe_id': 257081}),\n",
       " Document(page_content='name: vegan caesar salad dressing ; ingredients: dijon mustard, nutritional yeast flakes, almonds, garlic cloves, water, lemon juice, soy sauce, olive oil, white pepper ; preparation:', metadata={'dataset': 'cbr_database', 'recipe_id': 143126}),\n",
       " Document(page_content='name: posole crockpot ; ingredients: pork roast, onions, green enchilada sauce, green chilies, chicken broth, oregano, garlic cloves, hominy, adobo sauce ; preparation:', metadata={'dataset': 'cbr_database', 'recipe_id': 473239}),\n",
       " Document(page_content='name: new potatoes with fresh horseradish sauce vegan ; ingredients: tiny new potatoes, tofu sour cream, horseradish root, sugar, salt, white pepper, fresh chives ; preparation:', metadata={'dataset': 'cbr_database', 'recipe_id': 143212}),\n",
       " Document(page_content='name: make ahead mashed potatoes for crock pot ; ingredients: potatoes, sour cream, cream cheese, butter, chives, salt and pepper, paprika ; preparation:', metadata={'dataset': 'cbr_database', 'recipe_id': 71205})]"
      ]
     },
     "execution_count": 6,
     "metadata": {},
     "output_type": "execute_result"
    }
   ],
   "source": [
    "vdb.similarity_search(query=\"str_rep_no_steps(v_recipe)\", k=7)"
   ]
  }
 ],
 "metadata": {
  "kernelspec": {
   "display_name": "ml_lm",
   "language": "python",
   "name": "python3"
  },
  "language_info": {
   "codemirror_mode": {
    "name": "ipython",
    "version": 3
   },
   "file_extension": ".py",
   "mimetype": "text/x-python",
   "name": "python",
   "nbconvert_exporter": "python",
   "pygments_lexer": "ipython3",
   "version": "3.11.5"
  }
 },
 "nbformat": 4,
 "nbformat_minor": 2
}
