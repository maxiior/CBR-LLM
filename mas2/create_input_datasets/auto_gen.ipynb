{
 "cells": [
  {
   "cell_type": "code",
   "execution_count": 1,
   "metadata": {},
   "outputs": [],
   "source": [
    "from helpers import load_all_datasets, compose, str_rep_vdb, str_rep_no_steps, CBRDatabase, str_rep_vdb_ing, str_rep_vdb_nam \n",
    "import pandas as pd\n",
    "\n",
    "additional_cbr_1, additional_cbr_2, additional_validation, cbr_augmentation, cbr_database, model_training, validation = load_all_datasets()\n",
    "\n",
    "cbr_database = cbr_database.set_index(\"id\")\n",
    "\n",
    "EX_APP = \"nf\"\n",
    "\n",
    "INITIAL_C = 0\n",
    "GENERATED_C = 1\n",
    "\n",
    "DATABASE_NAME = f\"cbr_database_{INITIAL_C}_{GENERATED_C}_{EX_APP}\"\n",
    "OUTPUT_FILE = f\"cbr_{INITIAL_C}_{GENERATED_C}_{EX_APP}_gpt2_input\"\n",
    "\n",
    "IX_FILE = \"cbr_augmentation_12_gpt2_results_p_ix.csv\"\n",
    "dfix = pd.read_csv(f\"{IX_FILE}\")\n"
   ]
  },
  {
   "cell_type": "code",
   "execution_count": 2,
   "metadata": {},
   "outputs": [
    {
     "data": {
      "text/plain": [
       "1000"
      ]
     },
     "execution_count": 2,
     "metadata": {},
     "output_type": "execute_result"
    }
   ],
   "source": [
    "# cbr_db = pd.concat([cbr_database, additional_cbr_1])\n",
    "cbr_database = cbr_database[:int(INITIAL_C*1000)]\n",
    "dfix = dfix[:int(GENERATED_C*1000)]\n",
    "dfix = dfix.set_index(\"id\")\n",
    "cbr_db_ix = pd.concat([cbr_database, dfix])\n",
    "# cbr_db_ix = cbr_db_ix.set_index(\"id\")\n",
    "\n",
    "cbr_reps = str_rep_vdb(cbr_db_ix)\n",
    "len(cbr_reps)"
   ]
  },
  {
   "cell_type": "code",
   "execution_count": 3,
   "metadata": {},
   "outputs": [
    {
     "name": "stdout",
     "output_type": "stream",
     "text": [
      "bert_load_from_file: gguf version     = 2\n",
      "bert_load_from_file: gguf alignment   = 32\n",
      "bert_load_from_file: gguf data offset = 695552\n",
      "bert_load_from_file: model name           = BERT\n",
      "bert_load_from_file: model architecture   = bert\n",
      "bert_load_from_file: model file type      = 1\n",
      "bert_load_from_file: bert tokenizer vocab = 30522\n",
      "1000\n",
      "[Document(page_content='name: easy no fail chocolate fudge no thermometer ; ingredients: sugar, evaporated milk, butter, salt, mini marshmallows, semi-sweet chocolate chips, walnuts, vanilla ; preparation:', metadata={'dataset': 'cbr_database_0_1_nf', 'recipe_id': 80447}), Document(page_content='name: blt club sandwich ; ingredients: bread, mayonnaise, american cheese, tomatoes, lettuce, crisp bacon ; preparation:', metadata={'dataset': 'cbr_database_0_1_nf', 'recipe_id': 267197})]\n"
     ]
    }
   ],
   "source": [
    "meta = CBRDatabase.create_metadatas([int(e) for e in list(cbr_db_ix.index.values)], {\"dataset\":DATABASE_NAME})\n",
    "vdb = CBRDatabase(cbr_reps, metadatas=meta, db_directory=f\"dataset_vector/{DATABASE_NAME}\", initialize_new=True)\n",
    "\n",
    "# vdb = CBRDatabase(db_directory=f\"dataset_vector/{DATABASE_NAME}\", initialize_new=False)\n",
    "\n",
    "print(len(vdb.get_texts()))\n",
    "print(vdb.similarity_search(query=\"test\", k=2))"
   ]
  },
  {
   "cell_type": "code",
   "execution_count": 4,
   "metadata": {},
   "outputs": [
    {
     "data": {
      "text/plain": [
       "[168244, 385, 38545, 132112, 307186]"
      ]
     },
     "execution_count": 4,
     "metadata": {},
     "output_type": "execute_result"
    }
   ],
   "source": [
    "tem = vdb.similarity_search(query=\"akjsjd\", k=5)\n",
    "recipe_ixs = [e.metadata[CBRDatabase.RECIPE_ID_KEY] for e in tem]\n",
    "recipe_ixs"
   ]
  },
  {
   "cell_type": "code",
   "execution_count": 5,
   "metadata": {},
   "outputs": [
    {
     "name": "stderr",
     "output_type": "stream",
     "text": [
      "/home/maciej/anaconda3/envs/ml_lm/lib/python3.11/site-packages/tqdm/auto.py:21: TqdmWarning: IProgress not found. Please update jupyter and ipywidgets. See https://ipywidgets.readthedocs.io/en/stable/user_install.html\n",
      "  from .autonotebook import tqdm as notebook_tqdm\n"
     ]
    },
    {
     "name": "stdout",
     "output_type": "stream",
     "text": [
      "[Document(page_content='name: white cream bars ; ingredients: flour, sugar, butter, nuts, cream cheese, powdered sugar, milk, cool whip, heath candy bars ; preparation:', metadata={'dataset': 'cbr_database_0_1_nf', 'recipe_id': 255645}), Document(page_content='name: rum mocha chocolate sauce ; ingredients: butter, granulated sugar, unsweetened cocoa powder, dark rum, heavy cream, salt, dry instant coffee, vanilla extract ; preparation:', metadata={'dataset': 'cbr_database_0_1_nf', 'recipe_id': 108617}), Document(page_content='name: plantation bars ; ingredients: sugar, corn syrup, chunky peanut butter, cheerios toasted oat cereal, rice krispies ; preparation:', metadata={'dataset': 'cbr_database_0_1_nf', 'recipe_id': 272639}), Document(page_content='name: fat free chocolate banana muffins ; ingredients: whole wheat flour, sugar, unsweetened cocoa, baking powder, baking soda, salt, bananas, nonfat milk, vinegar ; preparation:', metadata={'dataset': 'cbr_database_0_1_nf', 'recipe_id': 206764}), Document(page_content='name: no nut banana bread ; ingredients: bananas, butter, sugar, egg, vanilla, baking soda, salt, flour ; preparation:', metadata={'dataset': 'cbr_database_0_1_nf', 'recipe_id': 481698})]\n",
      "[255645, 108617, 272639, 206764, 481698]\n",
      "name: white cream bars ; ingredients: flour, sugar, butter, nuts, cream cheese, powdered sugar, milk, cool whip, heath candy bars ; preparation:Preheat oven to 350 degrees. In a large mixing bowl, cream together the butter and two sugars until well combined. Beat in vanilla pudding mix. Add eggs, one at a time, until well incorporated. Mix in vanilla extract. In another small bowl, mix together flour, baking soda, and salt. Add the dry ingredients to the wet ingredients, mixing until just incorporated. Fold in m&ms and white chocolate chips. Drop tablespoon size cookie dough onto prepared cookie sheet. Bake for 10 minutes, or until just turning golden brown. Cool on cookie sheet for 5 minutes before removing to wire rack to cool completely. ; name: rum mocha chocolate sauce ; ingredients: butter, granulated sugar, unsweetened cocoa powder, dark rum, heavy cream, salt, dry instant coffee, vanilla extract ; preparation:Combine all ingredients, except rum& flavouring in a heavy pot. Bring to a boil to melt butter& combine well. Remove from heat. Stir in rum& flavouring. Refrigerate in a covered container. ; name: mocha almond bars ; ingredients: flour, sugar, butter, egg, instant coffee granules, sliced almonds, powdered sugar, almond extract, milk ; preparation:\n",
      "['',\n",
      " 'white cream bars ; ingredients: flour, sugar, butter, nuts, cream cheese, '\n",
      " 'powdered sugar, milk, cool whip, heath candy bars ; preparation:Preheat oven '\n",
      " 'to 350 degrees. In a large mixing bowl, cream together the butter and two '\n",
      " 'sugars until well combined. Beat in vanilla pudding mix. Add eggs, one at a '\n",
      " 'time, until well incorporated. Mix in vanilla extract. In another small '\n",
      " 'bowl, mix together flour, baking soda, and salt. Add the dry ingredients to '\n",
      " 'the wet ingredients, mixing until just incorporated. Fold in m&ms and white '\n",
      " 'chocolate chips. Drop tablespoon size cookie dough onto prepared cookie '\n",
      " 'sheet. Bake for 10 minutes, or until just turning golden brown. Cool on '\n",
      " 'cookie sheet for 5 minutes before removing to wire rack to cool completely. '\n",
      " '; ',\n",
      " 'rum mocha chocolate sauce ; ingredients: butter, granulated sugar, '\n",
      " 'unsweetened cocoa powder, dark rum, heavy cream, salt, dry instant coffee, '\n",
      " 'vanilla extract ; preparation:Combine all ingredients, except rum& '\n",
      " 'flavouring in a heavy pot. Bring to a boil to melt butter& combine well. '\n",
      " 'Remove from heat. Stir in rum& flavouring. Refrigerate in a covered '\n",
      " 'container. ; ',\n",
      " 'mocha almond bars ; ingredients: flour, sugar, butter, egg, instant coffee '\n",
      " 'granules, sliced almonds, powdered sugar, almond extract, milk ; '\n",
      " 'preparation:']\n"
     ]
    },
    {
     "ename": "RuntimeError",
     "evalue": "No active exception to reraise",
     "output_type": "error",
     "traceback": [
      "\u001b[0;31m---------------------------------------------------------------------------\u001b[0m",
      "\u001b[0;31mRuntimeError\u001b[0m                              Traceback (most recent call last)",
      "Cell \u001b[0;32mIn[5], line 22\u001b[0m\n\u001b[1;32m     20\u001b[0m \u001b[38;5;28mprint\u001b[39m(composed)\u001b[38;5;66;03m#dev\u001b[39;00m\n\u001b[1;32m     21\u001b[0m pprint(composed\u001b[38;5;241m.\u001b[39msplit(\u001b[38;5;124m\"\u001b[39m\u001b[38;5;124mname: \u001b[39m\u001b[38;5;124m\"\u001b[39m))\u001b[38;5;66;03m#dev\u001b[39;00m\n\u001b[0;32m---> 22\u001b[0m \u001b[38;5;28;01mraise\u001b[39;00m\n\u001b[1;32m     24\u001b[0m gen_input \u001b[38;5;241m=\u001b[39m compose(cbr_db_ix\u001b[38;5;241m.\u001b[39mloc[recipe_ixs], v_recipe)\n\u001b[1;32m     25\u001b[0m br \u001b[38;5;241m=\u001b[39m \u001b[38;5;28;01mFalse\u001b[39;00m\n",
      "\u001b[0;31mRuntimeError\u001b[0m: No active exception to reraise"
     ]
    }
   ],
   "source": [
    "# generowanie inputów - 850 tokenów \n",
    "from pprint import pprint\n",
    "import random\n",
    "from transformers import LlamaTokenizerFast\n",
    "\n",
    "tokenizer = LlamaTokenizerFast.from_pretrained(\"hf-internal-testing/llama-tokenizer\")\n",
    "\n",
    "inputs = []\n",
    "pe_recipes = []\n",
    "target_recipe = []\n",
    "lens = []\n",
    "\n",
    "for i, v_recipe in validation.iterrows():\n",
    "    while True:\n",
    "        tem = vdb.similarity_search(query=str_rep_no_steps(v_recipe), k=5)\n",
    "        recipe_ixs = [e.metadata[CBRDatabase.RECIPE_ID_KEY] for e in tem]\n",
    "        \n",
    "        #dev\n",
    "        # print(tem)\n",
    "        # composed = compose(cbr_db_ix.loc[recipe_ixs[0:2]], v_recipe)\n",
    "        # print(recipe_ixs)\n",
    "        # print(composed)\n",
    "        # pprint(composed.split(\"name: \"))\n",
    "        # raise\n",
    "        #dev\n",
    "\n",
    "        gen_input = compose(cbr_db_ix.loc[recipe_ixs], v_recipe)\n",
    "        br = False\n",
    "        if len(tokenizer.encode(gen_input)) <= 850: \n",
    "            br = True\n",
    "        else:\n",
    "            for ii in list(range(4, -1, -1)):\n",
    "                gen_input = compose(cbr_db_ix.loc[recipe_ixs[:ii] + recipe_ixs[ii+1:]], v_recipe)\n",
    "                if len(tokenizer.encode(gen_input)) <= 850: \n",
    "                    br = True\n",
    "                    print(f\"1 - {len(tokenizer.encode(gen_input))}\")\n",
    "                    break\n",
    "            if br: break\n",
    "            for ii in list(range(3, -1, -1)):\n",
    "                gen_input = compose(cbr_db_ix.loc[recipe_ixs[:ii] + recipe_ixs[ii+2:]], v_recipe)\n",
    "                if len(tokenizer.encode(gen_input)) <= 850: \n",
    "                    br = True\n",
    "                    print(f\"2 - {len(tokenizer.encode(gen_input))}\")\n",
    "                    break\n",
    "            if br: break\n",
    "            for ii in list(range(2, -1, -1)):\n",
    "                gen_input = compose(cbr_db_ix.loc[recipe_ixs[:ii] + recipe_ixs[ii+3:]], v_recipe)\n",
    "                if len(tokenizer.encode(gen_input)) <= 850: \n",
    "                    br = True\n",
    "                    print(f\"2 - {len(tokenizer.encode(gen_input))}\")\n",
    "                    break\n",
    "        \n",
    "        if not br:\n",
    "            print(cbr_db_ix.loc[recipe_ixs].steps.values)\n",
    "            print(f\"REPEAT - {len(tokenizer.encode(gen_input))}\")\n",
    "        else:\n",
    "            lens.append(len(tokenizer.encode(gen_input)))\n",
    "            break\n",
    "            \n",
    "        \n",
    "    pe_recipes.append(recipe_ixs)\n",
    "    target_recipe.append(v_recipe[\"id\"])\n",
    "    inputs.append(gen_input)"
   ]
  },
  {
   "cell_type": "code",
   "execution_count": null,
   "metadata": {},
   "outputs": [],
   "source": [
    "df = pd.DataFrame()\n",
    "df[\"input\"] = inputs\n",
    "df[\"pe_recipes\"] = pe_recipes\n",
    "df[\"target_recipe\"] = target_recipe\n",
    "df.to_csv(f\"input_datasets/{OUTPUT_FILE}.csv\", index=False)"
   ]
  },
  {
   "cell_type": "code",
   "execution_count": null,
   "metadata": {},
   "outputs": [
    {
     "data": {
      "text/plain": [
       "[Document(page_content='name: stroganoff 1953 ; ingredients: round steaks, flour, salt, pepper, butter, fresh mushrooms, onion, consomme, vinegar, sour cream ; preparation:', metadata={'dataset': 'cbr_database_1_1_nf', 'recipe_id': 464216}),\n",
       " Document(page_content='name: homemade tvp crumbles ; ingredients: textured vegetable protein, wheat germ, curry powder, cayenne pepper, sea salt, braggs liquid aminos, boiling water, whole wheat flour, olive oil, garlic ; preparation:', metadata={'dataset': 'cbr_database_1_1_nf', 'recipe_id': 513}),\n",
       " Document(page_content='name: make ahead mashed potatoes for crock pot ; ingredients: potatoes, sour cream, cream cheese, butter, chives, salt and pepper, paprika ; preparation:', metadata={'dataset': 'cbr_database_1_1_nf', 'recipe_id': 71205}),\n",
       " Document(page_content='name: crock pot savory pork roast ; ingredients: pork loin roast, onion, bay leaf, soy sauce, garlic powder ; preparation:', metadata={'dataset': 'cbr_database_1_1_nf', 'recipe_id': 203892})]"
      ]
     },
     "execution_count": 6,
     "metadata": {},
     "output_type": "execute_result"
    }
   ],
   "source": [
    "vdb.similarity_search(query=\"str_rep_no_steps(v_recipe)\", k=4)"
   ]
  },
  {
   "cell_type": "code",
   "execution_count": null,
   "metadata": {},
   "outputs": [
    {
     "data": {
      "text/plain": [
       "Counter({6: 1095, 7: 1009, 5: 19, 4: 2})"
      ]
     },
     "execution_count": 7,
     "metadata": {},
     "output_type": "execute_result"
    }
   ],
   "source": [
    "from collections import Counter\n",
    "\n",
    "\n",
    "Counter(df.input.apply(lambda x: x.split(\"name:\")).apply(lambda x: len(x)))"
   ]
  }
 ],
 "metadata": {
  "kernelspec": {
   "display_name": "ml_lm",
   "language": "python",
   "name": "python3"
  },
  "language_info": {
   "codemirror_mode": {
    "name": "ipython",
    "version": 3
   },
   "file_extension": ".py",
   "mimetype": "text/x-python",
   "name": "python",
   "nbconvert_exporter": "python",
   "pygments_lexer": "ipython3",
   "version": "3.11.5"
  }
 },
 "nbformat": 4,
 "nbformat_minor": 2
}
