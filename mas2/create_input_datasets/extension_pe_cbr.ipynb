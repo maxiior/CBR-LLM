{
 "cells": [
  {
   "cell_type": "code",
   "execution_count": 1,
   "metadata": {},
   "outputs": [
    {
     "name": "stderr",
     "output_type": "stream",
     "text": [
      "/home/maciej/anaconda3/envs/ml_lm/lib/python3.11/site-packages/tqdm/auto.py:21: TqdmWarning: IProgress not found. Please update jupyter and ipywidgets. See https://ipywidgets.readthedocs.io/en/stable/user_install.html\n",
      "  from .autonotebook import tqdm as notebook_tqdm\n"
     ]
    }
   ],
   "source": [
    "import pandas as pd\n",
    "from helpers import load_all_datasets, compose\n",
    "import random\n",
    "from transformers import LlamaTokenizerFast\n",
    "\n",
    "SAFE_FILE = \"cbr_pe_input\""
   ]
  },
  {
   "cell_type": "code",
   "execution_count": 2,
   "metadata": {},
   "outputs": [],
   "source": [
    "_, _, _, cbr_augmentation, cbr_database, _, _ = load_all_datasets()"
   ]
  },
  {
   "cell_type": "code",
   "execution_count": 3,
   "metadata": {},
   "outputs": [],
   "source": [
    "tokenizer = LlamaTokenizerFast.from_pretrained(\"hf-internal-testing/llama-tokenizer\")"
   ]
  },
  {
   "cell_type": "code",
   "execution_count": 4,
   "metadata": {},
   "outputs": [
    {
     "name": "stdout",
     "output_type": "stream",
     "text": [
      "REPEAT - 1640\n",
      "REPEAT - 1584\n",
      "REPEAT - 1580\n",
      "REPEAT - 1557\n",
      "REPEAT - 1677\n",
      "REPEAT - 1650\n",
      "REPEAT - 1554\n",
      "REPEAT - 1613\n",
      "REPEAT - 1582\n",
      "REPEAT - 1568\n",
      "REPEAT - 1558\n",
      "REPEAT - 1571\n",
      "REPEAT - 1553\n",
      "REPEAT - 1612\n",
      "REPEAT - 1582\n",
      "REPEAT - 1577\n",
      "REPEAT - 1585\n",
      "REPEAT - 1566\n",
      "REPEAT - 1674\n",
      "REPEAT - 1612\n",
      "REPEAT - 1620\n",
      "REPEAT - 1562\n",
      "REPEAT - 1572\n",
      "REPEAT - 1584\n",
      "REPEAT - 1585\n",
      "REPEAT - 1596\n",
      "REPEAT - 1574\n",
      "REPEAT - 1645\n"
     ]
    }
   ],
   "source": [
    "\n",
    "inputs = []\n",
    "pe_recipes = []\n",
    "target_recipe = []\n",
    "\n",
    "for i, e in cbr_database.iterrows():\n",
    "\n",
    "    while True:\n",
    "        recipe_ixs = [random.randint(0, len(cbr_augmentation)-1) for _ in range(7)]\n",
    "        gen_input = compose(cbr_augmentation.iloc[recipe_ixs], e)\n",
    "        if len(tokenizer.encode(gen_input)) <= 1550: \n",
    "            break\n",
    "        else:\n",
    "            print(f\"REPEAT - {len(tokenizer.encode(gen_input))}\")\n",
    "        \n",
    "    pe_recipes.append(list(cbr_augmentation.iloc[recipe_ixs].id.values))\n",
    "    target_recipe.append(e[\"id\"])\n",
    "    inputs.append(gen_input)\n",
    "\n"
   ]
  },
  {
   "cell_type": "code",
   "execution_count": 5,
   "metadata": {},
   "outputs": [],
   "source": [
    "df = pd.DataFrame()\n",
    "df[\"input\"] = inputs\n",
    "df[\"pe_recipes\"] = pe_recipes\n",
    "df[\"target_recipe\"] = target_recipe\n",
    "df.to_csv(f\"input_datasets/{SAFE_FILE}.csv\", index=False)\n"
   ]
  },
  {
   "cell_type": "code",
   "execution_count": null,
   "metadata": {},
   "outputs": [],
   "source": []
  },
  {
   "cell_type": "code",
   "execution_count": null,
   "metadata": {},
   "outputs": [],
   "source": []
  }
 ],
 "metadata": {
  "kernelspec": {
   "display_name": "ml_lm",
   "language": "python",
   "name": "python3"
  },
  "language_info": {
   "codemirror_mode": {
    "name": "ipython",
    "version": 3
   },
   "file_extension": ".py",
   "mimetype": "text/x-python",
   "name": "python",
   "nbconvert_exporter": "python",
   "pygments_lexer": "ipython3",
   "version": "3.11.5"
  }
 },
 "nbformat": 4,
 "nbformat_minor": 2
}
