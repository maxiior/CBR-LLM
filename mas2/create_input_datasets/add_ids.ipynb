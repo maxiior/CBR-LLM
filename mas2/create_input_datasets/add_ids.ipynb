{
 "cells": [
  {
   "cell_type": "code",
   "execution_count": 1,
   "metadata": {},
   "outputs": [],
   "source": [
    "import pandas as pd \n",
    "import numpy as np\n",
    "\n",
    "from helpers import load_all_datasets"
   ]
  },
  {
   "cell_type": "code",
   "execution_count": 2,
   "metadata": {},
   "outputs": [],
   "source": [
    "additional_cbr_1, additional_cbr_2, additional_validation, cbr_augmentation, cbr_database, model_training, validation = load_all_datasets()\n",
    "\n",
    "# DFS = \"sejf/cbr_augmentation_2_gpt2_input\"\n",
    "DFG = \"cbr_augmentation_2_gpt2_results_p\"\n",
    "\n",
    "dfs = additional_cbr_2\n",
    "dfg = pd.read_csv(f\"{DFG}.csv\")"
   ]
  },
  {
   "cell_type": "code",
   "execution_count": 3,
   "metadata": {},
   "outputs": [],
   "source": [
    "dfs_id = dfs.id.to_list()\n",
    "dfs_name = dfs.name.to_list()\n",
    "dfs_ingredients = dfs.ingredients.to_list()\n",
    "dfg_result = dfg.result.to_list()\n"
   ]
  },
  {
   "cell_type": "code",
   "execution_count": 4,
   "metadata": {},
   "outputs": [],
   "source": [
    "df = pd.DataFrame({\"steps\":dfg_result, \"ingredients\":dfs_ingredients, \"name\":dfs_name, \"id\":dfs_id})\n",
    "df.to_csv(f\"{DFG}_ix.csv\", index=False)"
   ]
  }
 ],
 "metadata": {
  "kernelspec": {
   "display_name": "ml_lm",
   "language": "python",
   "name": "python3"
  },
  "language_info": {
   "codemirror_mode": {
    "name": "ipython",
    "version": 3
   },
   "file_extension": ".py",
   "mimetype": "text/x-python",
   "name": "python",
   "nbconvert_exporter": "python",
   "pygments_lexer": "ipython3",
   "version": "3.11.5"
  }
 },
 "nbformat": 4,
 "nbformat_minor": 2
}
