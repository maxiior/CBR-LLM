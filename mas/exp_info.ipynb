{
 "cells": [
  {
   "cell_type": "markdown",
   "metadata": {},
   "source": [
    "GPT 3.5 turbo - r"
   ]
  },
  {
   "cell_type": "markdown",
   "metadata": {},
   "source": [
    "final experiments\n",
    "\n",
    "r_cbr = cbr\n",
    "r_valid = valid*(1(cbr)+1(cbr0.5)+1(RAK)+1(base))\n",
    "\n",
    "1.5*cbr + 4*valid\n",
    "\n",
    "\n",
    "<!-- r_test_prompts = 1000  -->\n",
    "\n",
    "\n"
   ]
  },
  {
   "cell_type": "code",
   "execution_count": null,
   "metadata": {},
   "outputs": [],
   "source": [
    "\"\"\"\n",
    "50k \n",
    "=\n",
    "początkowy CBR: 15 k \n",
    "rozszerzenie CBR: 15 k\n",
    "walidacyjny: 2 k\n",
    "treningowy BART/testowy GPT: 18 k\n",
    "= 30k requestów + ? tuning GPT\n",
    "\n",
    "or\n",
    "\n",
    "50k \n",
    "=\n",
    "początkowy CBR: 10 k \n",
    "rozszerzenie CBR: 10 k\n",
    "walidacyjny: 2 k\n",
    "treningowy BART/testowy GPT: 28 k\n",
    "= 23k requestów + ? tuning GPT\n",
    "\n",
    "or \n",
    "\n",
    "50k \n",
    "=\n",
    "początkowy CBR: 1 k \n",
    "rozszerzenie CBR: 1 k\n",
    "walidacyjny: 0.5 k\n",
    "treningowy BART/testowy GPT: 42.5 k\n",
    "= 3.5k requestów + ? tuning GPT\n",
    "\n",
    "\n",
    "\"\"\"\n"
   ]
  },
  {
   "cell_type": "code",
   "execution_count": null,
   "metadata": {},
   "outputs": [],
   "source": []
  }
 ],
 "metadata": {
  "kernelspec": {
   "display_name": "ml_lm",
   "language": "python",
   "name": "python3"
  },
  "language_info": {
   "codemirror_mode": {
    "name": "ipython",
    "version": 3
   },
   "file_extension": ".py",
   "mimetype": "text/x-python",
   "name": "python",
   "nbconvert_exporter": "python",
   "pygments_lexer": "ipython3",
   "version": "3.11.5"
  }
 },
 "nbformat": 4,
 "nbformat_minor": 2
}
