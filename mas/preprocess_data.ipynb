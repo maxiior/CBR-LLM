{
 "cells": [
  {
   "cell_type": "code",
   "execution_count": 1,
   "metadata": {},
   "outputs": [],
   "source": [
    "import pandas as pd\n",
    "import numpy as np\n",
    "from ast import literal_eval\n",
    "from collections import Counter"
   ]
  },
  {
   "cell_type": "code",
   "execution_count": 2,
   "metadata": {},
   "outputs": [],
   "source": [
    "df = pd.read_csv(\"data_RAW_recipes.csv\")"
   ]
  },
  {
   "cell_type": "code",
   "execution_count": 3,
   "metadata": {},
   "outputs": [
    {
     "data": {
      "text/html": [
       "<div>\n",
       "<style scoped>\n",
       "    .dataframe tbody tr th:only-of-type {\n",
       "        vertical-align: middle;\n",
       "    }\n",
       "\n",
       "    .dataframe tbody tr th {\n",
       "        vertical-align: top;\n",
       "    }\n",
       "\n",
       "    .dataframe thead th {\n",
       "        text-align: right;\n",
       "    }\n",
       "</style>\n",
       "<table border=\"1\" class=\"dataframe\">\n",
       "  <thead>\n",
       "    <tr style=\"text-align: right;\">\n",
       "      <th></th>\n",
       "      <th>name</th>\n",
       "      <th>id</th>\n",
       "      <th>minutes</th>\n",
       "      <th>contributor_id</th>\n",
       "      <th>submitted</th>\n",
       "      <th>tags</th>\n",
       "      <th>nutrition</th>\n",
       "      <th>n_steps</th>\n",
       "      <th>steps</th>\n",
       "      <th>description</th>\n",
       "      <th>ingredients</th>\n",
       "      <th>n_ingredients</th>\n",
       "    </tr>\n",
       "  </thead>\n",
       "  <tbody>\n",
       "    <tr>\n",
       "      <th>0</th>\n",
       "      <td>arriba   baked winter squash mexican style</td>\n",
       "      <td>137739</td>\n",
       "      <td>55</td>\n",
       "      <td>47892</td>\n",
       "      <td>2005-09-16</td>\n",
       "      <td>['60-minutes-or-less', 'time-to-make', 'course...</td>\n",
       "      <td>[51.5, 0.0, 13.0, 0.0, 2.0, 0.0, 4.0]</td>\n",
       "      <td>11</td>\n",
       "      <td>['make a choice and proceed with recipe', 'dep...</td>\n",
       "      <td>autumn is my favorite time of year to cook! th...</td>\n",
       "      <td>['winter squash', 'mexican seasoning', 'mixed ...</td>\n",
       "      <td>7</td>\n",
       "    </tr>\n",
       "    <tr>\n",
       "      <th>1</th>\n",
       "      <td>a bit different  breakfast pizza</td>\n",
       "      <td>31490</td>\n",
       "      <td>30</td>\n",
       "      <td>26278</td>\n",
       "      <td>2002-06-17</td>\n",
       "      <td>['30-minutes-or-less', 'time-to-make', 'course...</td>\n",
       "      <td>[173.4, 18.0, 0.0, 17.0, 22.0, 35.0, 1.0]</td>\n",
       "      <td>9</td>\n",
       "      <td>['preheat oven to 425 degrees f', 'press dough...</td>\n",
       "      <td>this recipe calls for the crust to be prebaked...</td>\n",
       "      <td>['prepared pizza crust', 'sausage patty', 'egg...</td>\n",
       "      <td>6</td>\n",
       "    </tr>\n",
       "    <tr>\n",
       "      <th>2</th>\n",
       "      <td>all in the kitchen  chili</td>\n",
       "      <td>112140</td>\n",
       "      <td>130</td>\n",
       "      <td>196586</td>\n",
       "      <td>2005-02-25</td>\n",
       "      <td>['time-to-make', 'course', 'preparation', 'mai...</td>\n",
       "      <td>[269.8, 22.0, 32.0, 48.0, 39.0, 27.0, 5.0]</td>\n",
       "      <td>6</td>\n",
       "      <td>['brown ground beef in large pot', 'add choppe...</td>\n",
       "      <td>this modified version of 'mom's' chili was a h...</td>\n",
       "      <td>['ground beef', 'yellow onions', 'diced tomato...</td>\n",
       "      <td>13</td>\n",
       "    </tr>\n",
       "  </tbody>\n",
       "</table>\n",
       "</div>"
      ],
      "text/plain": [
       "                                         name      id  minutes  \\\n",
       "0  arriba   baked winter squash mexican style  137739       55   \n",
       "1            a bit different  breakfast pizza   31490       30   \n",
       "2                   all in the kitchen  chili  112140      130   \n",
       "\n",
       "   contributor_id   submitted  \\\n",
       "0           47892  2005-09-16   \n",
       "1           26278  2002-06-17   \n",
       "2          196586  2005-02-25   \n",
       "\n",
       "                                                tags  \\\n",
       "0  ['60-minutes-or-less', 'time-to-make', 'course...   \n",
       "1  ['30-minutes-or-less', 'time-to-make', 'course...   \n",
       "2  ['time-to-make', 'course', 'preparation', 'mai...   \n",
       "\n",
       "                                    nutrition  n_steps  \\\n",
       "0       [51.5, 0.0, 13.0, 0.0, 2.0, 0.0, 4.0]       11   \n",
       "1   [173.4, 18.0, 0.0, 17.0, 22.0, 35.0, 1.0]        9   \n",
       "2  [269.8, 22.0, 32.0, 48.0, 39.0, 27.0, 5.0]        6   \n",
       "\n",
       "                                               steps  \\\n",
       "0  ['make a choice and proceed with recipe', 'dep...   \n",
       "1  ['preheat oven to 425 degrees f', 'press dough...   \n",
       "2  ['brown ground beef in large pot', 'add choppe...   \n",
       "\n",
       "                                         description  \\\n",
       "0  autumn is my favorite time of year to cook! th...   \n",
       "1  this recipe calls for the crust to be prebaked...   \n",
       "2  this modified version of 'mom's' chili was a h...   \n",
       "\n",
       "                                         ingredients  n_ingredients  \n",
       "0  ['winter squash', 'mexican seasoning', 'mixed ...              7  \n",
       "1  ['prepared pizza crust', 'sausage patty', 'egg...              6  \n",
       "2  ['ground beef', 'yellow onions', 'diced tomato...             13  "
      ]
     },
     "execution_count": 3,
     "metadata": {},
     "output_type": "execute_result"
    }
   ],
   "source": [
    "# name, steps, ingredients\n",
    "\n",
    "df.head(3)\n"
   ]
  },
  {
   "cell_type": "code",
   "execution_count": 4,
   "metadata": {},
   "outputs": [
    {
     "name": "stdout",
     "output_type": "stream",
     "text": [
      "<class 'pandas.core.frame.DataFrame'>\n",
      "RangeIndex: 231637 entries, 0 to 231636\n",
      "Data columns (total 12 columns):\n",
      " #   Column          Non-Null Count   Dtype \n",
      "---  ------          --------------   ----- \n",
      " 0   name            231636 non-null  object\n",
      " 1   id              231637 non-null  int64 \n",
      " 2   minutes         231637 non-null  int64 \n",
      " 3   contributor_id  231637 non-null  int64 \n",
      " 4   submitted       231637 non-null  object\n",
      " 5   tags            231637 non-null  object\n",
      " 6   nutrition       231637 non-null  object\n",
      " 7   n_steps         231637 non-null  int64 \n",
      " 8   steps           231637 non-null  object\n",
      " 9   description     226658 non-null  object\n",
      " 10  ingredients     231637 non-null  object\n",
      " 11  n_ingredients   231637 non-null  int64 \n",
      "dtypes: int64(5), object(7)\n",
      "memory usage: 21.2+ MB\n"
     ]
    }
   ],
   "source": [
    "df.info()"
   ]
  },
  {
   "cell_type": "code",
   "execution_count": 5,
   "metadata": {},
   "outputs": [],
   "source": [
    "df = df.dropna()"
   ]
  },
  {
   "cell_type": "code",
   "execution_count": 6,
   "metadata": {},
   "outputs": [
    {
     "data": {
      "text/plain": [
       "226657"
      ]
     },
     "execution_count": 6,
     "metadata": {},
     "output_type": "execute_result"
    }
   ],
   "source": [
    "len(df)"
   ]
  },
  {
   "cell_type": "code",
   "execution_count": 7,
   "metadata": {},
   "outputs": [],
   "source": [
    "def validate_symbols(not_allowed):\n",
    "    def fun(lestring):\n",
    "        fnd = [e for e in not_allowed if e in lestring]\n",
    "        return len(fnd) == 0\n",
    "\n",
    "    return fun\n"
   ]
  },
  {
   "cell_type": "code",
   "execution_count": 8,
   "metadata": {},
   "outputs": [],
   "source": [
    "not_allowed_row = [\n",
    " '.', #dev filtrować na poziomie df TODO\n",
    " ':', #dev filtrować na poziomie df TODO\n",
    " ';', #dev filtrować na poziomie df TODO\n",
    "]"
   ]
  },
  {
   "cell_type": "code",
   "execution_count": 9,
   "metadata": {},
   "outputs": [],
   "source": [
    "df = df[np.vectorize(validate_symbols(not_allowed_row))(df.steps)]"
   ]
  },
  {
   "cell_type": "code",
   "execution_count": 10,
   "metadata": {},
   "outputs": [
    {
     "data": {
      "text/plain": [
       "202475"
      ]
     },
     "execution_count": 10,
     "metadata": {},
     "output_type": "execute_result"
    }
   ],
   "source": [
    "len(df)"
   ]
  },
  {
   "cell_type": "code",
   "execution_count": 11,
   "metadata": {},
   "outputs": [
    {
     "name": "stdout",
     "output_type": "stream",
     "text": [
      "n_steps\n",
      "1      2362\n",
      "2      6749\n",
      "3     10951\n",
      "4     13984\n",
      "5     17058\n",
      "6     18644\n",
      "7     19254\n",
      "8     18395\n",
      "9     16561\n",
      "10    14496\n",
      "11    12378\n",
      "12    10233\n",
      "13     8453\n",
      "14     6730\n",
      "15     5373\n",
      "16     4228\n",
      "17     3447\n",
      "18     2632\n",
      "19     2228\n",
      "20     1695\n",
      "Name: id, dtype: int64\n"
     ]
    },
    {
     "name": "stderr",
     "output_type": "stream",
     "text": [
      "/tmp/ipykernel_26705/1192130333.py:1: UserWarning: Boolean Series key will be reindexed to match DataFrame index.\n",
      "  print(df[df.n_steps<=20][df.n_steps>=1].groupby(df.n_steps)[\"id\"].count())\n",
      "/tmp/ipykernel_26705/1192130333.py:2: UserWarning: Boolean Series key will be reindexed to match DataFrame index.\n",
      "  df = df[df.n_steps<=12][df.n_steps>=5] #dev\n"
     ]
    },
    {
     "data": {
      "text/plain": [
       "127019"
      ]
     },
     "execution_count": 11,
     "metadata": {},
     "output_type": "execute_result"
    }
   ],
   "source": [
    "print(df[df.n_steps<=20][df.n_steps>=1].groupby(df.n_steps)[\"id\"].count())\n",
    "df = df[df.n_steps<=12][df.n_steps>=5] #dev\n",
    "len(df)"
   ]
  },
  {
   "cell_type": "code",
   "execution_count": 12,
   "metadata": {},
   "outputs": [
    {
     "name": "stdout",
     "output_type": "stream",
     "text": [
      "n_ingredients\n",
      "1        10\n",
      "2       909\n",
      "3      3073\n",
      "4      6514\n",
      "5     10595\n",
      "6     13332\n",
      "7     15291\n",
      "8     15749\n",
      "9     14903\n",
      "10    12705\n",
      "11    10465\n",
      "12     7791\n",
      "13     5507\n",
      "14     3694\n",
      "15     2454\n",
      "16     1590\n",
      "17      939\n",
      "18      605\n",
      "19      353\n",
      "20      202\n",
      "Name: id, dtype: int64\n"
     ]
    },
    {
     "name": "stderr",
     "output_type": "stream",
     "text": [
      "/tmp/ipykernel_26705/2601168383.py:1: UserWarning: Boolean Series key will be reindexed to match DataFrame index.\n",
      "  print(df[df.n_ingredients<=20][df.n_ingredients>=1].groupby(df.n_ingredients)[\"id\"].count())\n",
      "/tmp/ipykernel_26705/2601168383.py:2: UserWarning: Boolean Series key will be reindexed to match DataFrame index.\n",
      "  df = df[df.n_ingredients<=10][df.n_ingredients>=4]\n"
     ]
    },
    {
     "data": {
      "text/plain": [
       "89089"
      ]
     },
     "execution_count": 12,
     "metadata": {},
     "output_type": "execute_result"
    }
   ],
   "source": [
    "print(df[df.n_ingredients<=20][df.n_ingredients>=1].groupby(df.n_ingredients)[\"id\"].count())\n",
    "df = df[df.n_ingredients<=10][df.n_ingredients>=4]\n",
    "len(df)"
   ]
  },
  {
   "cell_type": "markdown",
   "metadata": {},
   "source": [
    "Pomysły na prunning:\n",
    "- zrobić listę zezwolonych symboli\n",
    "- jeżeli na końcu jest inny znak interpunkcyjny to nie dodawać \".\""
   ]
  },
  {
   "cell_type": "code",
   "execution_count": 13,
   "metadata": {},
   "outputs": [],
   "source": [
    "df.steps = df.steps.apply(lambda x: literal_eval(x))"
   ]
  },
  {
   "cell_type": "code",
   "execution_count": 14,
   "metadata": {},
   "outputs": [],
   "source": [
    "def concatenate_steps(steps):\n",
    "    steps = [list(s) for s in steps]\n",
    "    steps = [[step[0].upper()] + step[1:] + [\".\"] for step in steps] # dev jeżeli na końcu jest inny znak interpunkcyjny to nie dodawać \".\"\n",
    "    steps = [\"\".join(step) for step in steps]\n",
    "    return \" \".join(steps)\n",
    "\n",
    "def concatenate_listed(listed):\n",
    "    return \", \".join(literal_eval(listed))\n",
    "\n",
    "def recipe_representation(recipe):\n",
    "    rep = f\"Name: {recipe['name']} ; Ingredients: {concatenate_listed(recipe['ingredients'])} ; Preparation: {concatenate_steps(recipe['steps'])}\"\n",
    "    f_symbols = [\",\", \"?\", \"!\"]\n",
    "    for e in f_symbols:\n",
    "        rep = rep.replace(f\" {e}\", f\"{e}\")\n",
    "    rep = rep.replace(f\"!.\", f\"!\")\n",
    "    rep = rep.replace(f\"?.\", f\"?\")\n",
    "    rep = \" \".join(rep.split())\n",
    "    return rep\n"
   ]
  },
  {
   "cell_type": "code",
   "execution_count": 15,
   "metadata": {},
   "outputs": [],
   "source": [
    "recipes_rep = df.apply(recipe_representation, axis=1)"
   ]
  },
  {
   "cell_type": "code",
   "execution_count": 16,
   "metadata": {},
   "outputs": [
    {
     "data": {
      "text/plain": [
       "Counter({' ': 8670461,\n",
       "         'e': 4944128,\n",
       "         'a': 3330262,\n",
       "         't': 3106799,\n",
       "         'o': 2967996,\n",
       "         'n': 2935740,\n",
       "         'r': 2867897,\n",
       "         'i': 2829075,\n",
       "         's': 2336362,\n",
       "         'l': 1887539,\n",
       "         'd': 1567832,\n",
       "         'h': 1407053,\n",
       "         'c': 1383169,\n",
       "         'u': 1263593,\n",
       "         'p': 1149322,\n",
       "         'm': 1066817,\n",
       "         'g': 999873,\n",
       "         ',': 927784,\n",
       "         'b': 711903,\n",
       "         '.': 697920,\n",
       "         'f': 618620,\n",
       "         'w': 547317,\n",
       "         'k': 526204,\n",
       "         'v': 392386,\n",
       "         'y': 370740,\n",
       "         ':': 267267,\n",
       "         ';': 178178,\n",
       "         'P': 177496,\n",
       "         'x': 144296,\n",
       "         'I': 132079,\n",
       "         'S': 115296,\n",
       "         '1': 104530,\n",
       "         'N': 90549,\n",
       "         '-': 90460,\n",
       "         '0': 88916,\n",
       "         '5': 80971,\n",
       "         'C': 79249,\n",
       "         'A': 75708,\n",
       "         '2': 74504,\n",
       "         '3': 71427,\n",
       "         'j': 65013,\n",
       "         'z': 63197,\n",
       "         'B': 57892,\n",
       "         '4': 41556,\n",
       "         'R': 38746,\n",
       "         'M': 38352,\n",
       "         'T': 37995,\n",
       "         'q': 35003,\n",
       "         '/': 31557,\n",
       "         'D': 26784,\n",
       "         'W': 18996,\n",
       "         'L': 16096,\n",
       "         '8': 14756,\n",
       "         'H': 14632,\n",
       "         'F': 14353,\n",
       "         'G': 12115,\n",
       "         '&': 12028,\n",
       "         \"'\": 10872,\n",
       "         '9': 10688,\n",
       "         '7': 10642,\n",
       "         '6': 10020,\n",
       "         '!': 9549,\n",
       "         '\"': 8799,\n",
       "         'U': 6055,\n",
       "         'O': 5530,\n",
       "         'E': 4871,\n",
       "         'Y': 3899,\n",
       "         'K': 1794,\n",
       "         'J': 1007,\n",
       "         '%': 735,\n",
       "         ')': 399,\n",
       "         'Q': 370,\n",
       "         '@': 325,\n",
       "         '(': 293,\n",
       "         'V': 292,\n",
       "         '~': 256,\n",
       "         '#': 180,\n",
       "         '[': 164,\n",
       "         ']': 157,\n",
       "         '=': 150,\n",
       "         '+': 137,\n",
       "         'X': 104,\n",
       "         '?': 97,\n",
       "         'Z': 75,\n",
       "         '`': 60,\n",
       "         '>': 35,\n",
       "         '^': 32,\n",
       "         '{': 29,\n",
       "         '}': 29,\n",
       "         '<': 18,\n",
       "         '_': 10,\n",
       "         '$': 8,\n",
       "         '|': 3,\n",
       "         '*': 3,\n",
       "         '\\\\': 2})"
      ]
     },
     "execution_count": 16,
     "metadata": {},
     "output_type": "execute_result"
    }
   ],
   "source": [
    "c = Counter(\"\".join(recipes_rep))\n",
    "c"
   ]
  },
  {
   "cell_type": "code",
   "execution_count": 17,
   "metadata": {},
   "outputs": [],
   "source": [
    "not_allowed = [\n",
    "#  ' ',\n",
    "#  'e',\n",
    "#  'a',\n",
    "#  't',\n",
    "#  'n',\n",
    "#  'o',\n",
    "#  'r',\n",
    "#  'i',\n",
    "#  's',\n",
    "#  'l',\n",
    "#  'd',\n",
    "#  'c',\n",
    "#  'h',\n",
    "#  'u',\n",
    "#  'p',\n",
    "#  'm',\n",
    "#  'g',\n",
    "#  ',',\n",
    "#  'b',\n",
    "#  '.', #dev filtrować na poziomie df TODO\n",
    "#  'f',\n",
    "#  'w',\n",
    "#  'k',\n",
    "#  'v',\n",
    "#  'y',\n",
    "#  ':', #dev filtrować na poziomie df TODO\n",
    "#  ';', #dev filtrować na poziomie df TODO\n",
    "#  'P',\n",
    "#  'x',\n",
    "#  'I',\n",
    "#  'S',\n",
    "#  '1',\n",
    "#  'N',\n",
    "#  '-', #dev większość przepisów go ma\n",
    "#  '0',\n",
    "#  '5',\n",
    "#  'C',\n",
    "#  'A',\n",
    "#  '2',\n",
    "#  '3',\n",
    "#  'j',\n",
    "#  'z',\n",
    "#  'B',\n",
    "#  '4',\n",
    "#  'M',\n",
    "#  'T',\n",
    "#  'R',\n",
    "#  'q',\n",
    " '/', #dev very popular # can be deleted -12k\n",
    "#  'D',\n",
    "#  'W',\n",
    "#  'L',\n",
    "#  'F',\n",
    "#  '8',\n",
    "#  'H',\n",
    "#  '&',\n",
    "#  'G',\n",
    "#  '9',\n",
    "#  '7',\n",
    " \"'\", #dev 's w j angielskim\n",
    "#  '6',\n",
    " '!', #dev\n",
    " '\"',\n",
    "#  'O',\n",
    "#  'U',\n",
    "#  'E',\n",
    "#  'Y',\n",
    "#  'K',\n",
    "#  'J',\n",
    " '%',\n",
    " ')',\n",
    "#  'V',\n",
    " '@',\n",
    "#  'Q',\n",
    " '(',\n",
    " '~',\n",
    " '#',\n",
    " '[',\n",
    " '=',\n",
    " ']',\n",
    " '+',\n",
    " '?',\n",
    "#  'X',\n",
    "#  'Z',\n",
    " '`',\n",
    " '}',\n",
    " '{',\n",
    " '>',\n",
    " '^',\n",
    " '<',\n",
    " '_',\n",
    " '\\\\',\n",
    " '$',\n",
    " '|',\n",
    " '*']"
   ]
  },
  {
   "cell_type": "code",
   "execution_count": 18,
   "metadata": {},
   "outputs": [
    {
     "data": {
      "text/plain": [
       "(52326, 89089)"
      ]
     },
     "execution_count": 18,
     "metadata": {},
     "output_type": "execute_result"
    }
   ],
   "source": [
    "filtered = recipes_rep[np.vectorize(validate_symbols(not_allowed))(recipes_rep)]\n",
    "len(filtered), len(recipes_rep)"
   ]
  },
  {
   "cell_type": "code",
   "execution_count": 19,
   "metadata": {},
   "outputs": [
    {
     "data": {
      "text/plain": [
       "52319"
      ]
     },
     "execution_count": 19,
     "metadata": {},
     "output_type": "execute_result"
    }
   ],
   "source": [
    "fin = filtered[np.vectorize(lambda x: len(x.split(\" \")) <= 250)(filtered.values)]\n",
    "len(fin)"
   ]
  },
  {
   "cell_type": "code",
   "execution_count": 20,
   "metadata": {},
   "outputs": [],
   "source": [
    "fin.to_csv(\"food_com_p_v1.csv\")"
   ]
  }
 ],
 "metadata": {
  "kernelspec": {
   "display_name": "ml",
   "language": "python",
   "name": "python3"
  },
  "language_info": {
   "codemirror_mode": {
    "name": "ipython",
    "version": 3
   },
   "file_extension": ".py",
   "mimetype": "text/x-python",
   "name": "python",
   "nbconvert_exporter": "python",
   "pygments_lexer": "ipython3",
   "version": "3.10.9"
  }
 },
 "nbformat": 4,
 "nbformat_minor": 2
}
