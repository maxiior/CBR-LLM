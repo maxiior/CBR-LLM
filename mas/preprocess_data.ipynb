{
 "cells": [
  {
   "cell_type": "code",
   "execution_count": 1,
   "metadata": {},
   "outputs": [],
   "source": [
    "import pandas as pd\n",
    "import numpy as np\n",
    "from ast import literal_eval\n",
    "from collections import Counter"
   ]
  },
  {
   "cell_type": "code",
   "execution_count": 2,
   "metadata": {},
   "outputs": [],
   "source": [
    "df = pd.read_csv(\"dataset_RAW_recipes.csv\")"
   ]
  },
  {
   "cell_type": "code",
   "execution_count": 3,
   "metadata": {},
   "outputs": [
    {
     "data": {
      "text/html": [
       "<div>\n",
       "<style scoped>\n",
       "    .dataframe tbody tr th:only-of-type {\n",
       "        vertical-align: middle;\n",
       "    }\n",
       "\n",
       "    .dataframe tbody tr th {\n",
       "        vertical-align: top;\n",
       "    }\n",
       "\n",
       "    .dataframe thead th {\n",
       "        text-align: right;\n",
       "    }\n",
       "</style>\n",
       "<table border=\"1\" class=\"dataframe\">\n",
       "  <thead>\n",
       "    <tr style=\"text-align: right;\">\n",
       "      <th></th>\n",
       "      <th>name</th>\n",
       "      <th>id</th>\n",
       "      <th>minutes</th>\n",
       "      <th>contributor_id</th>\n",
       "      <th>submitted</th>\n",
       "      <th>tags</th>\n",
       "      <th>nutrition</th>\n",
       "      <th>n_steps</th>\n",
       "      <th>steps</th>\n",
       "      <th>description</th>\n",
       "      <th>ingredients</th>\n",
       "      <th>n_ingredients</th>\n",
       "    </tr>\n",
       "  </thead>\n",
       "  <tbody>\n",
       "    <tr>\n",
       "      <th>0</th>\n",
       "      <td>arriba   baked winter squash mexican style</td>\n",
       "      <td>137739</td>\n",
       "      <td>55</td>\n",
       "      <td>47892</td>\n",
       "      <td>2005-09-16</td>\n",
       "      <td>['60-minutes-or-less', 'time-to-make', 'course...</td>\n",
       "      <td>[51.5, 0.0, 13.0, 0.0, 2.0, 0.0, 4.0]</td>\n",
       "      <td>11</td>\n",
       "      <td>['make a choice and proceed with recipe', 'dep...</td>\n",
       "      <td>autumn is my favorite time of year to cook! th...</td>\n",
       "      <td>['winter squash', 'mexican seasoning', 'mixed ...</td>\n",
       "      <td>7</td>\n",
       "    </tr>\n",
       "    <tr>\n",
       "      <th>1</th>\n",
       "      <td>a bit different  breakfast pizza</td>\n",
       "      <td>31490</td>\n",
       "      <td>30</td>\n",
       "      <td>26278</td>\n",
       "      <td>2002-06-17</td>\n",
       "      <td>['30-minutes-or-less', 'time-to-make', 'course...</td>\n",
       "      <td>[173.4, 18.0, 0.0, 17.0, 22.0, 35.0, 1.0]</td>\n",
       "      <td>9</td>\n",
       "      <td>['preheat oven to 425 degrees f', 'press dough...</td>\n",
       "      <td>this recipe calls for the crust to be prebaked...</td>\n",
       "      <td>['prepared pizza crust', 'sausage patty', 'egg...</td>\n",
       "      <td>6</td>\n",
       "    </tr>\n",
       "    <tr>\n",
       "      <th>2</th>\n",
       "      <td>all in the kitchen  chili</td>\n",
       "      <td>112140</td>\n",
       "      <td>130</td>\n",
       "      <td>196586</td>\n",
       "      <td>2005-02-25</td>\n",
       "      <td>['time-to-make', 'course', 'preparation', 'mai...</td>\n",
       "      <td>[269.8, 22.0, 32.0, 48.0, 39.0, 27.0, 5.0]</td>\n",
       "      <td>6</td>\n",
       "      <td>['brown ground beef in large pot', 'add choppe...</td>\n",
       "      <td>this modified version of 'mom's' chili was a h...</td>\n",
       "      <td>['ground beef', 'yellow onions', 'diced tomato...</td>\n",
       "      <td>13</td>\n",
       "    </tr>\n",
       "  </tbody>\n",
       "</table>\n",
       "</div>"
      ],
      "text/plain": [
       "                                         name      id  minutes  \\\n",
       "0  arriba   baked winter squash mexican style  137739       55   \n",
       "1            a bit different  breakfast pizza   31490       30   \n",
       "2                   all in the kitchen  chili  112140      130   \n",
       "\n",
       "   contributor_id   submitted  \\\n",
       "0           47892  2005-09-16   \n",
       "1           26278  2002-06-17   \n",
       "2          196586  2005-02-25   \n",
       "\n",
       "                                                tags  \\\n",
       "0  ['60-minutes-or-less', 'time-to-make', 'course...   \n",
       "1  ['30-minutes-or-less', 'time-to-make', 'course...   \n",
       "2  ['time-to-make', 'course', 'preparation', 'mai...   \n",
       "\n",
       "                                    nutrition  n_steps  \\\n",
       "0       [51.5, 0.0, 13.0, 0.0, 2.0, 0.0, 4.0]       11   \n",
       "1   [173.4, 18.0, 0.0, 17.0, 22.0, 35.0, 1.0]        9   \n",
       "2  [269.8, 22.0, 32.0, 48.0, 39.0, 27.0, 5.0]        6   \n",
       "\n",
       "                                               steps  \\\n",
       "0  ['make a choice and proceed with recipe', 'dep...   \n",
       "1  ['preheat oven to 425 degrees f', 'press dough...   \n",
       "2  ['brown ground beef in large pot', 'add choppe...   \n",
       "\n",
       "                                         description  \\\n",
       "0  autumn is my favorite time of year to cook! th...   \n",
       "1  this recipe calls for the crust to be prebaked...   \n",
       "2  this modified version of 'mom's' chili was a h...   \n",
       "\n",
       "                                         ingredients  n_ingredients  \n",
       "0  ['winter squash', 'mexican seasoning', 'mixed ...              7  \n",
       "1  ['prepared pizza crust', 'sausage patty', 'egg...              6  \n",
       "2  ['ground beef', 'yellow onions', 'diced tomato...             13  "
      ]
     },
     "execution_count": 3,
     "metadata": {},
     "output_type": "execute_result"
    }
   ],
   "source": [
    "# name, steps, ingredients\n",
    "\n",
    "df.head(3)\n"
   ]
  },
  {
   "cell_type": "code",
   "execution_count": 4,
   "metadata": {},
   "outputs": [
    {
     "name": "stdout",
     "output_type": "stream",
     "text": [
      "<class 'pandas.core.frame.DataFrame'>\n",
      "RangeIndex: 231637 entries, 0 to 231636\n",
      "Data columns (total 12 columns):\n",
      " #   Column          Non-Null Count   Dtype \n",
      "---  ------          --------------   ----- \n",
      " 0   name            231636 non-null  object\n",
      " 1   id              231637 non-null  int64 \n",
      " 2   minutes         231637 non-null  int64 \n",
      " 3   contributor_id  231637 non-null  int64 \n",
      " 4   submitted       231637 non-null  object\n",
      " 5   tags            231637 non-null  object\n",
      " 6   nutrition       231637 non-null  object\n",
      " 7   n_steps         231637 non-null  int64 \n",
      " 8   steps           231637 non-null  object\n",
      " 9   description     226658 non-null  object\n",
      " 10  ingredients     231637 non-null  object\n",
      " 11  n_ingredients   231637 non-null  int64 \n",
      "dtypes: int64(5), object(7)\n",
      "memory usage: 21.2+ MB\n"
     ]
    }
   ],
   "source": [
    "df.info()"
   ]
  },
  {
   "cell_type": "code",
   "execution_count": 5,
   "metadata": {},
   "outputs": [],
   "source": [
    "df = df.dropna()"
   ]
  },
  {
   "cell_type": "code",
   "execution_count": 6,
   "metadata": {},
   "outputs": [
    {
     "name": "stdout",
     "output_type": "stream",
     "text": [
      "<class 'pandas.core.frame.DataFrame'>\n",
      "Index: 226657 entries, 0 to 231636\n",
      "Data columns (total 12 columns):\n",
      " #   Column          Non-Null Count   Dtype \n",
      "---  ------          --------------   ----- \n",
      " 0   name            226657 non-null  object\n",
      " 1   id              226657 non-null  int64 \n",
      " 2   minutes         226657 non-null  int64 \n",
      " 3   contributor_id  226657 non-null  int64 \n",
      " 4   submitted       226657 non-null  object\n",
      " 5   tags            226657 non-null  object\n",
      " 6   nutrition       226657 non-null  object\n",
      " 7   n_steps         226657 non-null  int64 \n",
      " 8   steps           226657 non-null  object\n",
      " 9   description     226657 non-null  object\n",
      " 10  ingredients     226657 non-null  object\n",
      " 11  n_ingredients   226657 non-null  int64 \n",
      "dtypes: int64(5), object(7)\n",
      "memory usage: 22.5+ MB\n"
     ]
    }
   ],
   "source": [
    "df.info()"
   ]
  },
  {
   "cell_type": "code",
   "execution_count": 7,
   "metadata": {},
   "outputs": [],
   "source": [
    "def validate_symbols(not_allowed):\n",
    "    def fun(lestring):\n",
    "        fnd = [e for e in not_allowed if e in lestring]\n",
    "        return len(fnd) == 0\n",
    "\n",
    "    return fun\n"
   ]
  },
  {
   "cell_type": "code",
   "execution_count": 8,
   "metadata": {},
   "outputs": [],
   "source": [
    "not_allowed_row = [\n",
    " '.', #dev filtrować na poziomie df TODO\n",
    " ':', #dev filtrować na poziomie df TODO\n",
    " ';', #dev filtrować na poziomie df TODO\n",
    "]"
   ]
  },
  {
   "cell_type": "code",
   "execution_count": 9,
   "metadata": {},
   "outputs": [],
   "source": [
    "df = df[np.vectorize(validate_symbols(not_allowed_row))(df.steps)]"
   ]
  },
  {
   "cell_type": "code",
   "execution_count": 10,
   "metadata": {},
   "outputs": [
    {
     "name": "stdout",
     "output_type": "stream",
     "text": [
      "<class 'pandas.core.frame.DataFrame'>\n",
      "Index: 202475 entries, 0 to 231636\n",
      "Data columns (total 12 columns):\n",
      " #   Column          Non-Null Count   Dtype \n",
      "---  ------          --------------   ----- \n",
      " 0   name            202475 non-null  object\n",
      " 1   id              202475 non-null  int64 \n",
      " 2   minutes         202475 non-null  int64 \n",
      " 3   contributor_id  202475 non-null  int64 \n",
      " 4   submitted       202475 non-null  object\n",
      " 5   tags            202475 non-null  object\n",
      " 6   nutrition       202475 non-null  object\n",
      " 7   n_steps         202475 non-null  int64 \n",
      " 8   steps           202475 non-null  object\n",
      " 9   description     202475 non-null  object\n",
      " 10  ingredients     202475 non-null  object\n",
      " 11  n_ingredients   202475 non-null  int64 \n",
      "dtypes: int64(5), object(7)\n",
      "memory usage: 20.1+ MB\n"
     ]
    }
   ],
   "source": [
    "df.info()"
   ]
  },
  {
   "cell_type": "code",
   "execution_count": 11,
   "metadata": {},
   "outputs": [
    {
     "name": "stdout",
     "output_type": "stream",
     "text": [
      "n_steps\n",
      "1      2362\n",
      "2      6749\n",
      "3     10951\n",
      "4     13984\n",
      "5     17058\n",
      "6     18644\n",
      "7     19254\n",
      "8     18395\n",
      "9     16561\n",
      "10    14496\n",
      "11    12378\n",
      "12    10233\n",
      "13     8453\n",
      "14     6730\n",
      "15     5373\n",
      "16     4228\n",
      "17     3447\n",
      "18     2632\n",
      "19     2228\n",
      "20     1695\n",
      "Name: id, dtype: int64\n"
     ]
    },
    {
     "name": "stderr",
     "output_type": "stream",
     "text": [
      "/tmp/ipykernel_14180/1192130333.py:1: UserWarning: Boolean Series key will be reindexed to match DataFrame index.\n",
      "  print(df[df.n_steps<=20][df.n_steps>=1].groupby(df.n_steps)[\"id\"].count())\n",
      "/tmp/ipykernel_14180/1192130333.py:2: UserWarning: Boolean Series key will be reindexed to match DataFrame index.\n",
      "  df = df[df.n_steps<=12][df.n_steps>=5] #dev\n"
     ]
    },
    {
     "data": {
      "text/plain": [
       "127019"
      ]
     },
     "execution_count": 11,
     "metadata": {},
     "output_type": "execute_result"
    }
   ],
   "source": [
    "print(df[df.n_steps<=20][df.n_steps>=1].groupby(df.n_steps)[\"id\"].count())\n",
    "df = df[df.n_steps<=12][df.n_steps>=5] #dev\n",
    "len(df)"
   ]
  },
  {
   "cell_type": "code",
   "execution_count": 12,
   "metadata": {},
   "outputs": [
    {
     "name": "stdout",
     "output_type": "stream",
     "text": [
      "n_ingredients\n",
      "1        10\n",
      "2       909\n",
      "3      3073\n",
      "4      6514\n",
      "5     10595\n",
      "6     13332\n",
      "7     15291\n",
      "8     15749\n",
      "9     14903\n",
      "10    12705\n",
      "11    10465\n",
      "12     7791\n",
      "13     5507\n",
      "14     3694\n",
      "15     2454\n",
      "16     1590\n",
      "17      939\n",
      "18      605\n",
      "19      353\n",
      "20      202\n",
      "Name: id, dtype: int64\n"
     ]
    },
    {
     "name": "stderr",
     "output_type": "stream",
     "text": [
      "/tmp/ipykernel_14180/2601168383.py:1: UserWarning: Boolean Series key will be reindexed to match DataFrame index.\n",
      "  print(df[df.n_ingredients<=20][df.n_ingredients>=1].groupby(df.n_ingredients)[\"id\"].count())\n",
      "/tmp/ipykernel_14180/2601168383.py:2: UserWarning: Boolean Series key will be reindexed to match DataFrame index.\n",
      "  df = df[df.n_ingredients<=10][df.n_ingredients>=4]\n"
     ]
    },
    {
     "data": {
      "text/plain": [
       "89089"
      ]
     },
     "execution_count": 12,
     "metadata": {},
     "output_type": "execute_result"
    }
   ],
   "source": [
    "print(df[df.n_ingredients<=20][df.n_ingredients>=1].groupby(df.n_ingredients)[\"id\"].count())\n",
    "df = df[df.n_ingredients<=10][df.n_ingredients>=4]\n",
    "len(df)"
   ]
  },
  {
   "cell_type": "code",
   "execution_count": 13,
   "metadata": {},
   "outputs": [],
   "source": [
    "# def find_symbol(text_list, symbol=\"a\"):\n",
    "#     txt = \"\".join(text_list)\n",
    "#     return symbol in txt"
   ]
  },
  {
   "cell_type": "markdown",
   "metadata": {},
   "source": [
    "Pomysły na prunning:\n",
    "- zrobić listę zezwolonych symboli\n",
    "- jeżeli na końcu jest inny znak interpunkcyjny to nie dodawać \".\""
   ]
  },
  {
   "cell_type": "code",
   "execution_count": 14,
   "metadata": {},
   "outputs": [],
   "source": [
    "df.steps = df.steps.apply(lambda x: literal_eval(x))"
   ]
  },
  {
   "cell_type": "code",
   "execution_count": 15,
   "metadata": {},
   "outputs": [],
   "source": [
    "def concatenate_steps(steps):\n",
    "    steps = [list(s) for s in steps]\n",
    "    steps = [[step[0].upper()] + step[1:] + [\".\"] for step in steps] # dev jeżeli na końcu jest inny znak interpunkcyjny to nie dodawać \".\"\n",
    "    steps = [\"\".join(step) for step in steps]\n",
    "    return \" \".join(steps)\n",
    "\n",
    "def concatenate_listed(listed):\n",
    "    return \", \".join(literal_eval(listed))\n"
   ]
  },
  {
   "cell_type": "code",
   "execution_count": 16,
   "metadata": {},
   "outputs": [],
   "source": [
    "# recipes_rep = df.apply(recipe_representation, axis=1)"
   ]
  },
  {
   "cell_type": "code",
   "execution_count": 23,
   "metadata": {},
   "outputs": [],
   "source": [
    "# c = Counter(\"\".join(recipes_rep))\n",
    "# c"
   ]
  },
  {
   "cell_type": "code",
   "execution_count": 24,
   "metadata": {},
   "outputs": [],
   "source": [
    "# [e[0] for e in sorted(c.items(),key = lambda i: -i[1])]"
   ]
  },
  {
   "cell_type": "code",
   "execution_count": 19,
   "metadata": {},
   "outputs": [],
   "source": [
    "not_allowed = [\n",
    "#  ' ',\n",
    "#  'e',\n",
    "#  'a',\n",
    "#  't',\n",
    "#  'n',\n",
    "#  'o',\n",
    "#  'r',\n",
    "#  'i',\n",
    "#  's',\n",
    "#  'l',\n",
    "#  'd',\n",
    "#  'c',\n",
    "#  'h',\n",
    "#  'u',\n",
    "#  'p',\n",
    "#  'm',\n",
    "#  'g',\n",
    "#  ',',\n",
    "#  'b',\n",
    "#  '.', #dev filtrować na poziomie df TODO\n",
    "#  'f',\n",
    "#  'w',\n",
    "#  'k',\n",
    "#  'v',\n",
    "#  'y',\n",
    "#  ':', #dev filtrować na poziomie df TODO\n",
    "#  ';', #dev filtrować na poziomie df TODO\n",
    "#  'P',\n",
    "#  'x',\n",
    "#  'I',\n",
    "#  'S',\n",
    "#  '1',\n",
    "#  'N',\n",
    "#  '-', #dev większość przepisów go ma\n",
    "#  '0',\n",
    "#  '5',\n",
    "#  'C',\n",
    "#  'A',\n",
    "#  '2',\n",
    "#  '3',\n",
    "#  'j',\n",
    "#  'z',\n",
    "#  'B',\n",
    "#  '4',\n",
    "#  'M',\n",
    "#  'T',\n",
    "#  'R',\n",
    "#  'q',\n",
    " '/', #dev very popular # can be deleted -12k\n",
    "#  'D',\n",
    "#  'W',\n",
    "#  'L',\n",
    "#  'F',\n",
    "#  '8',\n",
    "#  'H',\n",
    "#  '&',\n",
    "#  'G',\n",
    "#  '9',\n",
    "#  '7',\n",
    " \"'\", #dev 's w j angielskim\n",
    "#  '6',\n",
    " '!', #dev\n",
    " '\"',\n",
    "#  'O',\n",
    "#  'U',\n",
    "#  'E',\n",
    "#  'Y',\n",
    "#  'K',\n",
    "#  'J',\n",
    " '%',\n",
    " ')',\n",
    "#  'V',\n",
    " '@',\n",
    "#  'Q',\n",
    " '(',\n",
    " '~',\n",
    " '#',\n",
    " '[',\n",
    " '=',\n",
    " ']',\n",
    " '+',\n",
    " '?',\n",
    "#  'X',\n",
    "#  'Z',\n",
    " '`',\n",
    " '}',\n",
    " '{',\n",
    " '>',\n",
    " '^',\n",
    " '<',\n",
    " '_',\n",
    " '\\\\',\n",
    " '$',\n",
    " '|',\n",
    " '*']"
   ]
  },
  {
   "cell_type": "code",
   "execution_count": 20,
   "metadata": {},
   "outputs": [
    {
     "data": {
      "text/plain": [
       "(52326, 89089)"
      ]
     },
     "execution_count": 20,
     "metadata": {},
     "output_type": "execute_result"
    }
   ],
   "source": [
    "filtered = recipes_rep[np.vectorize(validate_symbols(not_allowed))(recipes_rep)]\n",
    "len(filtered), len(recipes_rep)"
   ]
  },
  {
   "cell_type": "code",
   "execution_count": 21,
   "metadata": {},
   "outputs": [
    {
     "data": {
      "text/plain": [
       "52319"
      ]
     },
     "execution_count": 21,
     "metadata": {},
     "output_type": "execute_result"
    }
   ],
   "source": [
    "fin = filtered[np.vectorize(lambda x: len(x.split(\" \")) <= 250)(filtered.values)]\n",
    "len(fin)"
   ]
  },
  {
   "cell_type": "code",
   "execution_count": 62,
   "metadata": {},
   "outputs": [
    {
     "data": {
      "text/html": [
       "<div>\n",
       "<style scoped>\n",
       "    .dataframe tbody tr th:only-of-type {\n",
       "        vertical-align: middle;\n",
       "    }\n",
       "\n",
       "    .dataframe tbody tr th {\n",
       "        vertical-align: top;\n",
       "    }\n",
       "\n",
       "    .dataframe thead th {\n",
       "        text-align: right;\n",
       "    }\n",
       "</style>\n",
       "<table border=\"1\" class=\"dataframe\">\n",
       "  <thead>\n",
       "    <tr style=\"text-align: right;\">\n",
       "      <th></th>\n",
       "      <th>0</th>\n",
       "      <th>recipe_id</th>\n",
       "    </tr>\n",
       "  </thead>\n",
       "  <tbody>\n",
       "    <tr>\n",
       "      <th>0</th>\n",
       "      <td>Name: arriba baked winter squash mexican style...</td>\n",
       "      <td>0</td>\n",
       "    </tr>\n",
       "    <tr>\n",
       "      <th>1</th>\n",
       "      <td>Name: a bit different breakfast pizza ; Ingred...</td>\n",
       "      <td>1</td>\n",
       "    </tr>\n",
       "    <tr>\n",
       "      <th>2</th>\n",
       "      <td>Name: boat house collard greens ; Ingredients:...</td>\n",
       "      <td>13</td>\n",
       "    </tr>\n",
       "    <tr>\n",
       "      <th>3</th>\n",
       "      <td>Name: chicken lickin good pork chops ; Ingredi...</td>\n",
       "      <td>15</td>\n",
       "    </tr>\n",
       "    <tr>\n",
       "      <th>4</th>\n",
       "      <td>Name: crispy crunchy chicken ; Ingredients: bo...</td>\n",
       "      <td>22</td>\n",
       "    </tr>\n",
       "    <tr>\n",
       "      <th>...</th>\n",
       "      <td>...</td>\n",
       "      <td>...</td>\n",
       "    </tr>\n",
       "    <tr>\n",
       "      <th>52314</th>\n",
       "      <td>Name: zuring sorrel ; Ingredients: sorrel, but...</td>\n",
       "      <td>231613</td>\n",
       "    </tr>\n",
       "    <tr>\n",
       "      <th>52315</th>\n",
       "      <td>Name: zwiebeln salat swiss onion salad ; Ingre...</td>\n",
       "      <td>231625</td>\n",
       "    </tr>\n",
       "    <tr>\n",
       "      <th>52316</th>\n",
       "      <td>Name: zydeco green beans ; Ingredients: garlic...</td>\n",
       "      <td>231628</td>\n",
       "    </tr>\n",
       "    <tr>\n",
       "      <th>52317</th>\n",
       "      <td>Name: zydeco ya ya deviled eggs ; Ingredients:...</td>\n",
       "      <td>231634</td>\n",
       "    </tr>\n",
       "    <tr>\n",
       "      <th>52318</th>\n",
       "      <td>Name: cookies by design sugar shortbread cooki...</td>\n",
       "      <td>231636</td>\n",
       "    </tr>\n",
       "  </tbody>\n",
       "</table>\n",
       "<p>52319 rows × 2 columns</p>\n",
       "</div>"
      ],
      "text/plain": [
       "                                                       0  recipe_id\n",
       "0      Name: arriba baked winter squash mexican style...          0\n",
       "1      Name: a bit different breakfast pizza ; Ingred...          1\n",
       "2      Name: boat house collard greens ; Ingredients:...         13\n",
       "3      Name: chicken lickin good pork chops ; Ingredi...         15\n",
       "4      Name: crispy crunchy chicken ; Ingredients: bo...         22\n",
       "...                                                  ...        ...\n",
       "52314  Name: zuring sorrel ; Ingredients: sorrel, but...     231613\n",
       "52315  Name: zwiebeln salat swiss onion salad ; Ingre...     231625\n",
       "52316  Name: zydeco green beans ; Ingredients: garlic...     231628\n",
       "52317  Name: zydeco ya ya deviled eggs ; Ingredients:...     231634\n",
       "52318  Name: cookies by design sugar shortbread cooki...     231636\n",
       "\n",
       "[52319 rows x 2 columns]"
      ]
     },
     "execution_count": 62,
     "metadata": {},
     "output_type": "execute_result"
    }
   ],
   "source": [
    "df_fin = pd.DataFrame(fin)\n",
    "df_fin['recipe_id'] = df_fin.index\n",
    "df_fin = df_fin.reset_index(drop=True)\n",
    "df_fin"
   ]
  },
  {
   "cell_type": "code",
   "execution_count": 64,
   "metadata": {},
   "outputs": [],
   "source": [
    "df_fin.to_csv(\"fin.csv\", index=False)"
   ]
  },
  {
   "cell_type": "code",
   "execution_count": null,
   "metadata": {},
   "outputs": [],
   "source": [
    "def recipe_representation(recipe):\n",
    "    rep = f\"Name: {recipe['name']} ; Ingredients: {concatenate_listed(recipe['ingredients'])} ; Preparation: {concatenate_steps(recipe['steps'])}\"\n",
    "    f_symbols = [\",\", \"?\", \"!\"]\n",
    "    for e in f_symbols:\n",
    "        rep = rep.replace(f\" {e}\", f\"{e}\")\n",
    "    rep = rep.replace(f\"!.\", f\"!\")\n",
    "    rep = rep.replace(f\"?.\", f\"?\")\n",
    "    rep = \" \".join(rep.split())\n",
    "    return rep"
   ]
  },
  {
   "cell_type": "code",
   "execution_count": 65,
   "metadata": {},
   "outputs": [
    {
     "data": {
      "text/html": [
       "<div>\n",
       "<style scoped>\n",
       "    .dataframe tbody tr th:only-of-type {\n",
       "        vertical-align: middle;\n",
       "    }\n",
       "\n",
       "    .dataframe tbody tr th {\n",
       "        vertical-align: top;\n",
       "    }\n",
       "\n",
       "    .dataframe thead th {\n",
       "        text-align: right;\n",
       "    }\n",
       "</style>\n",
       "<table border=\"1\" class=\"dataframe\">\n",
       "  <thead>\n",
       "    <tr style=\"text-align: right;\">\n",
       "      <th></th>\n",
       "      <th>0</th>\n",
       "      <th>recipe_id</th>\n",
       "    </tr>\n",
       "  </thead>\n",
       "  <tbody>\n",
       "    <tr>\n",
       "      <th>0</th>\n",
       "      <td>Name: arriba baked winter squash mexican style...</td>\n",
       "      <td>0</td>\n",
       "    </tr>\n",
       "    <tr>\n",
       "      <th>1</th>\n",
       "      <td>Name: a bit different breakfast pizza ; Ingred...</td>\n",
       "      <td>1</td>\n",
       "    </tr>\n",
       "    <tr>\n",
       "      <th>2</th>\n",
       "      <td>Name: boat house collard greens ; Ingredients:...</td>\n",
       "      <td>13</td>\n",
       "    </tr>\n",
       "    <tr>\n",
       "      <th>3</th>\n",
       "      <td>Name: chicken lickin good pork chops ; Ingredi...</td>\n",
       "      <td>15</td>\n",
       "    </tr>\n",
       "    <tr>\n",
       "      <th>4</th>\n",
       "      <td>Name: crispy crunchy chicken ; Ingredients: bo...</td>\n",
       "      <td>22</td>\n",
       "    </tr>\n",
       "    <tr>\n",
       "      <th>...</th>\n",
       "      <td>...</td>\n",
       "      <td>...</td>\n",
       "    </tr>\n",
       "    <tr>\n",
       "      <th>52314</th>\n",
       "      <td>Name: zuring sorrel ; Ingredients: sorrel, but...</td>\n",
       "      <td>231613</td>\n",
       "    </tr>\n",
       "    <tr>\n",
       "      <th>52315</th>\n",
       "      <td>Name: zwiebeln salat swiss onion salad ; Ingre...</td>\n",
       "      <td>231625</td>\n",
       "    </tr>\n",
       "    <tr>\n",
       "      <th>52316</th>\n",
       "      <td>Name: zydeco green beans ; Ingredients: garlic...</td>\n",
       "      <td>231628</td>\n",
       "    </tr>\n",
       "    <tr>\n",
       "      <th>52317</th>\n",
       "      <td>Name: zydeco ya ya deviled eggs ; Ingredients:...</td>\n",
       "      <td>231634</td>\n",
       "    </tr>\n",
       "    <tr>\n",
       "      <th>52318</th>\n",
       "      <td>Name: cookies by design sugar shortbread cooki...</td>\n",
       "      <td>231636</td>\n",
       "    </tr>\n",
       "  </tbody>\n",
       "</table>\n",
       "<p>52319 rows × 2 columns</p>\n",
       "</div>"
      ],
      "text/plain": [
       "                                                       0  recipe_id\n",
       "0      Name: arriba baked winter squash mexican style...          0\n",
       "1      Name: a bit different breakfast pizza ; Ingred...          1\n",
       "2      Name: boat house collard greens ; Ingredients:...         13\n",
       "3      Name: chicken lickin good pork chops ; Ingredi...         15\n",
       "4      Name: crispy crunchy chicken ; Ingredients: bo...         22\n",
       "...                                                  ...        ...\n",
       "52314  Name: zuring sorrel ; Ingredients: sorrel, but...     231613\n",
       "52315  Name: zwiebeln salat swiss onion salad ; Ingre...     231625\n",
       "52316  Name: zydeco green beans ; Ingredients: garlic...     231628\n",
       "52317  Name: zydeco ya ya deviled eggs ; Ingredients:...     231634\n",
       "52318  Name: cookies by design sugar shortbread cooki...     231636\n",
       "\n",
       "[52319 rows x 2 columns]"
      ]
     },
     "execution_count": 65,
     "metadata": {},
     "output_type": "execute_result"
    }
   ],
   "source": [
    "pd.read_csv(\"fin.csv\")"
   ]
  }
 ],
 "metadata": {
  "kernelspec": {
   "display_name": "ml",
   "language": "python",
   "name": "python3"
  },
  "language_info": {
   "codemirror_mode": {
    "name": "ipython",
    "version": 3
   },
   "file_extension": ".py",
   "mimetype": "text/x-python",
   "name": "python",
   "nbconvert_exporter": "python",
   "pygments_lexer": "ipython3",
   "version": "3.11.5"
  }
 },
 "nbformat": 4,
 "nbformat_minor": 2
}
