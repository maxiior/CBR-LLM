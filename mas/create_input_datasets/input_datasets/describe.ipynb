{
 "cells": [
  {
   "cell_type": "code",
   "execution_count": 1,
   "metadata": {},
   "outputs": [],
   "source": [
    "import pandas as pd\n",
    "import numpy as np\n",
    "from collections import Counter\n",
    "from ast import literal_eval\n"
   ]
  },
  {
   "cell_type": "code",
   "execution_count": 2,
   "metadata": {},
   "outputs": [],
   "source": [
    "def desc(df_path):\n",
    "    df = pd.read_csv(df_path)\n",
    "    pe_recipes = df.pe_recipes.values[:1000]\n",
    "    used_recipes = np.array([np.array(literal_eval(e)) for e in pe_recipes])\n",
    "    used = used_recipes.reshape(-1)\n",
    "    ctr = Counter(used)\n",
    "    print(df_path)\n",
    "    print(len(ctr))\n",
    "    print(np.average(list(ctr.values())))\n",
    "    print()\n",
    "\n"
   ]
  },
  {
   "cell_type": "code",
   "execution_count": 3,
   "metadata": {},
   "outputs": [
    {
     "name": "stdout",
     "output_type": "stream",
     "text": [
      "small_validation_pe_input.csv\n",
      "5126\n",
      "1.3655872024970737\n",
      "\n",
      "small_validation_cbr_00_input.csv\n",
      "4289\n",
      "1.6320820704126837\n",
      "\n",
      "small_validation_cbr_00_input_ing.csv\n",
      "4335\n",
      "1.6147635524798154\n",
      "\n",
      "old_small_validation_cbr_00_input.csv\n",
      "2796\n",
      "2.503576537911302\n",
      "\n",
      "small_validation_cbr_00_input_nam.csv\n",
      "4401\n",
      "1.5905476028175414\n",
      "\n",
      "small_validation_cbr_00_large_input_half.csv\n",
      "5742\n",
      "1.2190874259839777\n",
      "\n"
     ]
    }
   ],
   "source": [
    "# inputs datasets\n",
    "PE = \"small_validation_pe_input.csv\"\n",
    "CBR = \"small_validation_cbr_00_input.csv\"\n",
    "CBR_ING = \"small_validation_cbr_00_input_ing.csv\"\n",
    "OLD_CBR = \"old_small_validation_cbr_00_input.csv\"\n",
    "CBR_NAM = \"small_validation_cbr_00_input_nam.csv\"\n",
    "CBR_LARGE = \"small_validation_cbr_00_large_input_half.csv\"\n",
    "\n",
    "desc(PE)\n",
    "desc(CBR)\n",
    "desc(CBR_ING)\n",
    "desc(OLD_CBR)\n",
    "desc(CBR_NAM)\n",
    "desc(CBR_LARGE)\n"
   ]
  },
  {
   "cell_type": "markdown",
   "metadata": {},
   "source": [
    "small_validation_pe_input.csv\n",
    "5126\n",
    "1.3655872024970737\n",
    "\n",
    "small_validation_cbr_00_input.csv\n",
    "4289\n",
    "1.6320820704126837\n",
    "\n",
    "small_validation_cbr_00_input_ing.csv\n",
    "4335\n",
    "1.6147635524798154\n",
    "\n",
    "old_small_validation_cbr_00_input.csv\n",
    "2796\n",
    "2.503576537911302\n",
    "\n",
    "small_validation_cbr_00_input_nam.csv\n",
    "4401\n",
    "1.5905476028175414\n",
    "\n",
    "small_validation_cbr_00_large_input_half.csv\n",
    "5742\n",
    "1.2190874259839777"
   ]
  }
 ],
 "metadata": {
  "kernelspec": {
   "display_name": "ml_lm",
   "language": "python",
   "name": "python3"
  },
  "language_info": {
   "codemirror_mode": {
    "name": "ipython",
    "version": 3
   },
   "file_extension": ".py",
   "mimetype": "text/x-python",
   "name": "python",
   "nbconvert_exporter": "python",
   "pygments_lexer": "ipython3",
   "version": "3.11.5"
  }
 },
 "nbformat": 4,
 "nbformat_minor": 2
}
