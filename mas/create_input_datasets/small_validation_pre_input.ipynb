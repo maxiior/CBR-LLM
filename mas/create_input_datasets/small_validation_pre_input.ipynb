{
 "cells": [
  {
   "cell_type": "code",
   "execution_count": 2,
   "metadata": {},
   "outputs": [],
   "source": [
    "import pandas as pd\n"
   ]
  },
  {
   "cell_type": "code",
   "execution_count": 3,
   "metadata": {},
   "outputs": [],
   "source": [
    "additional_cbr_1 = pd.read_csv(\"datasets/_additional_cbr_1.csv\")\n",
    "additional_cbr_2 = pd.read_csv(\"datasets/_additional_cbr_2.csv\")\n",
    "additional_validation = pd.read_csv(\"datasets/_additional_validation.csv\")\n",
    "cbr_augmentation = pd.read_csv(\"datasets/_cbr_augmentation.csv\")\n",
    "cbr_database = pd.read_csv(\"datasets/_cbr_database.csv\")\n",
    "model_training = pd.read_csv(\"datasets/_model_training.csv\")\n",
    "validation = pd.read_csv(\"datasets/_validation.csv\")\n",
    "\n",
    "additional_cbr_1_2 = pd.concat([additional_cbr_1, additional_cbr_2])"
   ]
  },
  {
   "cell_type": "code",
   "execution_count": 5,
   "metadata": {},
   "outputs": [
    {
     "data": {
      "text/plain": [
       "9988"
      ]
     },
     "execution_count": 5,
     "metadata": {},
     "output_type": "execute_result"
    }
   ],
   "source": [
    "len(_additional_cbr_1_2)"
   ]
  },
  {
   "cell_type": "code",
   "execution_count": null,
   "metadata": {},
   "outputs": [],
   "source": [
    "def compose(factual, masked):\n",
    "    comp = [f\"name: {e[2]} ; ingredients: {e[4]} ; preparation:{e[3]}\" for e in factual.values[:-1]]\n",
    "    comp = comp + [f\"name: {e[2]} ; ingredients: {e[4]} ; preparation:\" for e in [masked.values[-1]]]\n",
    "    return \" ; \".join(comp)"
   ]
  },
  {
   "cell_type": "code",
   "execution_count": null,
   "metadata": {},
   "outputs": [],
   "source": []
  },
  {
   "cell_type": "code",
   "execution_count": null,
   "metadata": {},
   "outputs": [],
   "source": []
  }
 ],
 "metadata": {
  "kernelspec": {
   "display_name": "ml_lm",
   "language": "python",
   "name": "python3"
  },
  "language_info": {
   "codemirror_mode": {
    "name": "ipython",
    "version": 3
   },
   "file_extension": ".py",
   "mimetype": "text/x-python",
   "name": "python",
   "nbconvert_exporter": "python",
   "pygments_lexer": "ipython3",
   "version": "3.11.5"
  }
 },
 "nbformat": 4,
 "nbformat_minor": 2
}
