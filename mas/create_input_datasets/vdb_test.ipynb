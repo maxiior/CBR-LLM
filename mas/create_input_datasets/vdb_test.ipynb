{
 "cells": [
  {
   "cell_type": "code",
   "execution_count": 1,
   "metadata": {},
   "outputs": [],
   "source": [
    "from helpers import load_all_datasets, compose, str_rep_vdb, str_rep_no_steps, CBRDatabase\n",
    "import pandas as pd\n",
    "\n",
    "DATABASE_NAME = \"cbr_database\"\n",
    "OUTPUT_FILE = \"small_validation_cbr_00_input.csv\""
   ]
  },
  {
   "cell_type": "code",
   "execution_count": 2,
   "metadata": {},
   "outputs": [],
   "source": [
    "_, _, _, _, cbr_database, _, validation = load_all_datasets()\n",
    "cbr_database_id = cbr_database.set_index(\"id\")"
   ]
  },
  {
   "cell_type": "code",
   "execution_count": 3,
   "metadata": {},
   "outputs": [
    {
     "name": "stdout",
     "output_type": "stream",
     "text": [
      "bert_load_from_file: gguf version     = 2\n",
      "bert_load_from_file: gguf alignment   = 32\n",
      "bert_load_from_file: gguf data offset = 695552\n",
      "bert_load_from_file: model name           = BERT\n",
      "bert_load_from_file: model architecture   = bert\n",
      "bert_load_from_file: model file type      = 1\n",
      "bert_load_from_file: bert tokenizer vocab = 30522\n"
     ]
    }
   ],
   "source": [
    "meta = CBRDatabase.create_metadatas([int(e) for e in list(cbr_database[\"id\"].values)], {\"dataset\":\"cbr_database\"})\n",
    "\n",
    "vdb = CBRDatabase(db_directory=f\"dataset_vector/{DATABASE_NAME}\", initialize_new=False)"
   ]
  },
  {
   "cell_type": "code",
   "execution_count": 7,
   "metadata": {},
   "outputs": [
    {
     "data": {
      "text/plain": [
       "['name: creamy baked salmon ; ingredients: butter, onion, garlic cloves, tomatoes, cream, dried basil, salt and pepper, salmon fillets ; preparation:',\n",
       " 'name: baked herbed salmon ; ingredients: salmon fillets, fresh parsley, garlic cloves, dried oregano, lemon juice, butter, tomatoes ; preparation:',\n",
       " 'name: special salmon supper ; ingredients: salmon fillets, salt, onion, pickling spices, lemon, garlic clove, cucumber, mayonnaise ; preparation:',\n",
       " 'name: savory salmon ; ingredients: salmon fillet, ranch salad dressing, dried dill, dried parsley ; preparation:',\n",
       " 'name: salt roasted salmon ; ingredients: olive oil, salmon fillets, coarse salt, fresh ground black pepper, extra virgin olive oil, lemon ; preparation:',\n",
       " 'name: broiled salmon with bacon ; ingredients: salmon fillet, salt, fresh ground pepper, bacon, balsamic vinegar ; preparation:',\n",
       " 'name: beer salmon ; ingredients: salmon fillets, garlic salt, brown sugar, butter, red onion, beer ; preparation:',\n",
       " 'name: lemony salmon ; ingredients: salmon, lemon juice, parsley, salt and pepper ; preparation:']"
      ]
     },
     "execution_count": 7,
     "metadata": {},
     "output_type": "execute_result"
    }
   ],
   "source": [
    "\n",
    "NAME = \"\"\n",
    "INGREDIENTS = \"salmon\"\n",
    "\n",
    "q = f\"name: {NAME} ; ingredients: {INGREDIENTS} ; preparation:\"\n",
    "\n",
    "res = vdb.similarity_search(query=q, k=8, filter = {\"dataset\":\"cbr_database\"})\n",
    "[e.page_content for e in res]"
   ]
  },
  {
   "cell_type": "code",
   "execution_count": 5,
   "metadata": {},
   "outputs": [
    {
     "name": "stdout",
     "output_type": "stream",
     "text": [
      "[Document(page_content='name: creamy baked salmon ; ingredients: butter, onion, garlic cloves, tomatoes, cream, dried basil, salt and pepper, salmon fillets ; preparation:', metadata={'dataset': 'cbr_database', 'recipe_id': 350221}), Document(page_content='name: baked herbed salmon ; ingredients: salmon fillets, fresh parsley, garlic cloves, dried oregano, lemon juice, butter, tomatoes ; preparation:', metadata={'dataset': 'cbr_database', 'recipe_id': 277904}), Document(page_content='name: special salmon supper ; ingredients: salmon fillets, salt, onion, pickling spices, lemon, garlic clove, cucumber, mayonnaise ; preparation:', metadata={'dataset': 'cbr_database', 'recipe_id': 235117}), Document(page_content='name: savory salmon ; ingredients: salmon fillet, ranch salad dressing, dried dill, dried parsley ; preparation:', metadata={'dataset': 'cbr_database', 'recipe_id': 108561}), Document(page_content='name: salt roasted salmon ; ingredients: olive oil, salmon fillets, coarse salt, fresh ground black pepper, extra virgin olive oil, lemon ; preparation:', metadata={'dataset': 'cbr_database', 'recipe_id': 123268}), Document(page_content='name: broiled salmon with bacon ; ingredients: salmon fillet, salt, fresh ground pepper, bacon, balsamic vinegar ; preparation:', metadata={'dataset': 'cbr_database', 'recipe_id': 264787}), Document(page_content='name: beer salmon ; ingredients: salmon fillets, garlic salt, brown sugar, butter, red onion, beer ; preparation:', metadata={'dataset': 'cbr_database', 'recipe_id': 188917}), Document(page_content='name: lemony salmon ; ingredients: salmon, lemon juice, parsley, salt and pepper ; preparation:', metadata={'dataset': 'cbr_database', 'recipe_id': 149476})]\n"
     ]
    }
   ],
   "source": [
    "print(res)"
   ]
  }
 ],
 "metadata": {
  "kernelspec": {
   "display_name": "ml_lm",
   "language": "python",
   "name": "python3"
  },
  "language_info": {
   "codemirror_mode": {
    "name": "ipython",
    "version": 3
   },
   "file_extension": ".py",
   "mimetype": "text/x-python",
   "name": "python",
   "nbconvert_exporter": "python",
   "pygments_lexer": "ipython3",
   "version": "3.11.5"
  }
 },
 "nbformat": 4,
 "nbformat_minor": 2
}
