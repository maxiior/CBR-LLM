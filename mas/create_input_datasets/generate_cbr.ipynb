{
 "cells": [
  {
   "cell_type": "code",
   "execution_count": 12,
   "metadata": {},
   "outputs": [
    {
     "ename": "ImportError",
     "evalue": "cannot import name 'str_rep' from 'helpers' (/home/maciej/projects/LLM-IN-CBR/mas/create_input_datasets/helpers.py)",
     "output_type": "error",
     "traceback": [
      "\u001b[0;31m---------------------------------------------------------------------------\u001b[0m",
      "\u001b[0;31mImportError\u001b[0m                               Traceback (most recent call last)",
      "Cell \u001b[0;32mIn[12], line 2\u001b[0m\n\u001b[1;32m      1\u001b[0m \u001b[38;5;28;01mfrom\u001b[39;00m \u001b[38;5;21;01mcbr_database\u001b[39;00m \u001b[38;5;28;01mimport\u001b[39;00m CBRDatabase\n\u001b[0;32m----> 2\u001b[0m \u001b[38;5;28;01mfrom\u001b[39;00m \u001b[38;5;21;01mhelpers\u001b[39;00m \u001b[38;5;28;01mimport\u001b[39;00m load_all_datasets, compose, str_rep\n",
      "\u001b[0;31mImportError\u001b[0m: cannot import name 'str_rep' from 'helpers' (/home/maciej/projects/LLM-IN-CBR/mas/create_input_datasets/helpers.py)"
     ]
    }
   ],
   "source": [
    "from cbr_database import CBRDatabase\n",
    "from helpers import load_all_datasets, compose, str_rep"
   ]
  },
  {
   "cell_type": "code",
   "execution_count": 2,
   "metadata": {},
   "outputs": [],
   "source": [
    "_, _, _, _, cbr_database, _, validation = load_all_datasets()"
   ]
  },
  {
   "cell_type": "code",
   "execution_count": 7,
   "metadata": {},
   "outputs": [
    {
     "ename": "NameError",
     "evalue": "name 'str_rep' is not defined",
     "output_type": "error",
     "traceback": [
      "\u001b[0;31m---------------------------------------------------------------------------\u001b[0m",
      "\u001b[0;31mNameError\u001b[0m                                 Traceback (most recent call last)",
      "Cell \u001b[0;32mIn[7], line 1\u001b[0m\n\u001b[0;32m----> 1\u001b[0m \u001b[43mstr_rep\u001b[49m(cbr_database[\u001b[38;5;241m9\u001b[39m])\n",
      "\u001b[0;31mNameError\u001b[0m: name 'str_rep' is not defined"
     ]
    }
   ],
   "source": [
    "str_rep(cbr_database[9])"
   ]
  }
 ],
 "metadata": {
  "kernelspec": {
   "display_name": "ml_lm",
   "language": "python",
   "name": "python3"
  },
  "language_info": {
   "codemirror_mode": {
    "name": "ipython",
    "version": 3
   },
   "file_extension": ".py",
   "mimetype": "text/x-python",
   "name": "python",
   "nbconvert_exporter": "python",
   "pygments_lexer": "ipython3",
   "version": "3.11.5"
  }
 },
 "nbformat": 4,
 "nbformat_minor": 2
}
