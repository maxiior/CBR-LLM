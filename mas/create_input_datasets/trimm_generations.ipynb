{
 "cells": [
  {
   "cell_type": "code",
   "execution_count": 1,
   "metadata": {},
   "outputs": [],
   "source": [
    "import pandas as pd\n",
    "import numpy as np"
   ]
  },
  {
   "cell_type": "code",
   "execution_count": 2,
   "metadata": {},
   "outputs": [],
   "source": [
    "df1 = pd.read_csv(\"small_validation_pe_2_results.csv\")\n",
    "df2 = pd.read_csv(\"small_validation_pe_input.csv\")\n",
    "\n",
    "# df1 = pd.read_csv(\"small_validation_cbr_00_results.csv\")\n",
    "# df2 = pd.read_csv(\"small_validation_cbr_00_input.csv\")\n",
    "\n",
    "# df1 = pd.read_csv(\"test_results.csv\")\n",
    "# df2 = pd.read_csv(\"test_input.csv\")\n"
   ]
  },
  {
   "cell_type": "code",
   "execution_count": 3,
   "metadata": {},
   "outputs": [],
   "source": [
    "def validate_datestet(df1:pd.DataFrame, df2:pd.DataFrame):\n",
    "    return np.all(df1.target_recipe.values == df2.target_recipe.values)"
   ]
  },
  {
   "cell_type": "code",
   "execution_count": 4,
   "metadata": {},
   "outputs": [
    {
     "data": {
      "text/plain": [
       "True"
      ]
     },
     "execution_count": 4,
     "metadata": {},
     "output_type": "execute_result"
    }
   ],
   "source": [
    "validate_datestet(df1, df2)"
   ]
  },
  {
   "cell_type": "code",
   "execution_count": 5,
   "metadata": {},
   "outputs": [
    {
     "data": {
      "text/html": [
       "<div>\n",
       "<style scoped>\n",
       "    .dataframe tbody tr th:only-of-type {\n",
       "        vertical-align: middle;\n",
       "    }\n",
       "\n",
       "    .dataframe tbody tr th {\n",
       "        vertical-align: top;\n",
       "    }\n",
       "\n",
       "    .dataframe thead th {\n",
       "        text-align: right;\n",
       "    }\n",
       "</style>\n",
       "<table border=\"1\" class=\"dataframe\">\n",
       "  <thead>\n",
       "    <tr style=\"text-align: right;\">\n",
       "      <th></th>\n",
       "      <th>Unnamed: 0</th>\n",
       "      <th>target_recipe</th>\n",
       "      <th>response</th>\n",
       "    </tr>\n",
       "  </thead>\n",
       "  <tbody>\n",
       "    <tr>\n",
       "      <th>13</th>\n",
       "      <td>In a small bowl whisk together hoisin sauce, o...</td>\n",
       "      <td>163922</td>\n",
       "      <td>NaN</td>\n",
       "    </tr>\n",
       "    <tr>\n",
       "      <th>14</th>\n",
       "      <td>Preheat oven to 400 degrees f. In a food proce...</td>\n",
       "      <td>488707</td>\n",
       "      <td>NaN</td>\n",
       "    </tr>\n",
       "    <tr>\n",
       "      <th>15</th>\n",
       "      <td>In a small saucepan over medium-low heat, melt...</td>\n",
       "      <td>464929</td>\n",
       "      <td>NaN</td>\n",
       "    </tr>\n",
       "    <tr>\n",
       "      <th>16</th>\n",
       "      <td>Preheat oven to 400 degrees. Season tenderloin...</td>\n",
       "      <td>208315</td>\n",
       "      <td>NaN</td>\n",
       "    </tr>\n",
       "    <tr>\n",
       "      <th>17</th>\n",
       "      <td>Preheat oven to 375. Prepare crust as directed...</td>\n",
       "      <td>42314</td>\n",
       "      <td>NaN</td>\n",
       "    </tr>\n",
       "    <tr>\n",
       "      <th>18</th>\n",
       "      <td>Combine butter and sugar in large bowl. Beat u...</td>\n",
       "      <td>133356</td>\n",
       "      <td>NaN</td>\n",
       "    </tr>\n",
       "    <tr>\n",
       "      <th>19</th>\n",
       "      <td>In a large bowl combine oats, almonds, wheat g...</td>\n",
       "      <td>458952</td>\n",
       "      <td>NaN</td>\n",
       "    </tr>\n",
       "    <tr>\n",
       "      <th>20</th>\n",
       "      <td>Cut oranges in half and remove seeds. Slice ea...</td>\n",
       "      <td>19941</td>\n",
       "      <td>NaN</td>\n",
       "    </tr>\n",
       "    <tr>\n",
       "      <th>21</th>\n",
       "      <td>Preheat oven to 350 degrees F (175 degrees C)....</td>\n",
       "      <td>43515</td>\n",
       "      <td>NaN</td>\n",
       "    </tr>\n",
       "    <tr>\n",
       "      <th>22</th>\n",
       "      <td>Preheat oven to 375 degrees Fahrenheit. Beat b...</td>\n",
       "      <td>222103</td>\n",
       "      <td>NaN</td>\n",
       "    </tr>\n",
       "  </tbody>\n",
       "</table>\n",
       "</div>"
      ],
      "text/plain": [
       "                                           Unnamed: 0  target_recipe  response\n",
       "13  In a small bowl whisk together hoisin sauce, o...         163922       NaN\n",
       "14  Preheat oven to 400 degrees f. In a food proce...         488707       NaN\n",
       "15  In a small saucepan over medium-low heat, melt...         464929       NaN\n",
       "16  Preheat oven to 400 degrees. Season tenderloin...         208315       NaN\n",
       "17  Preheat oven to 375. Prepare crust as directed...          42314       NaN\n",
       "18  Combine butter and sugar in large bowl. Beat u...         133356       NaN\n",
       "19  In a large bowl combine oats, almonds, wheat g...         458952       NaN\n",
       "20  Cut oranges in half and remove seeds. Slice ea...          19941       NaN\n",
       "21  Preheat oven to 350 degrees F (175 degrees C)....          43515       NaN\n",
       "22  Preheat oven to 375 degrees Fahrenheit. Beat b...         222103       NaN"
      ]
     },
     "execution_count": 5,
     "metadata": {},
     "output_type": "execute_result"
    }
   ],
   "source": [
    "df1[-10:]"
   ]
  },
  {
   "cell_type": "code",
   "execution_count": 6,
   "metadata": {},
   "outputs": [
    {
     "data": {
      "text/html": [
       "<div>\n",
       "<style scoped>\n",
       "    .dataframe tbody tr th:only-of-type {\n",
       "        vertical-align: middle;\n",
       "    }\n",
       "\n",
       "    .dataframe tbody tr th {\n",
       "        vertical-align: top;\n",
       "    }\n",
       "\n",
       "    .dataframe thead th {\n",
       "        text-align: right;\n",
       "    }\n",
       "</style>\n",
       "<table border=\"1\" class=\"dataframe\">\n",
       "  <thead>\n",
       "    <tr style=\"text-align: right;\">\n",
       "      <th></th>\n",
       "      <th>input</th>\n",
       "      <th>pe_recipes</th>\n",
       "      <th>target_recipe</th>\n",
       "    </tr>\n",
       "  </thead>\n",
       "  <tbody>\n",
       "    <tr>\n",
       "      <th>13</th>\n",
       "      <td>name: stuffed jalapeno pita bites ; ingredient...</td>\n",
       "      <td>[7884, 7872, 10203, 10524, 2387, 6105, 3497]</td>\n",
       "      <td>163922</td>\n",
       "    </tr>\n",
       "    <tr>\n",
       "      <th>14</th>\n",
       "      <td>name: chicken pot pie casserole ; ingredients:...</td>\n",
       "      <td>[1511, 7618, 5771, 2026, 6831, 3845, 81]</td>\n",
       "      <td>488707</td>\n",
       "    </tr>\n",
       "    <tr>\n",
       "      <th>15</th>\n",
       "      <td>name: new orleans crab spread ; ingredients: r...</td>\n",
       "      <td>[1486, 1179, 2453, 7733, 8102, 2349, 6804]</td>\n",
       "      <td>464929</td>\n",
       "    </tr>\n",
       "    <tr>\n",
       "      <th>16</th>\n",
       "      <td>name: tamarillo and date chutney new zealand ;...</td>\n",
       "      <td>[8272, 923, 1679, 8360, 3997, 6828, 9561]</td>\n",
       "      <td>208315</td>\n",
       "    </tr>\n",
       "    <tr>\n",
       "      <th>17</th>\n",
       "      <td>name: pomegranate and blueberry oatmeal ; ingr...</td>\n",
       "      <td>[6537, 3356, 2489, 7091, 6829, 1247, 5238]</td>\n",
       "      <td>42314</td>\n",
       "    </tr>\n",
       "    <tr>\n",
       "      <th>18</th>\n",
       "      <td>name: bollywood potato salad pink potato salad...</td>\n",
       "      <td>[2660, 6543, 6334, 6122, 1558, 6945, 2700]</td>\n",
       "      <td>133356</td>\n",
       "    </tr>\n",
       "    <tr>\n",
       "      <th>19</th>\n",
       "      <td>name: easy cream walnut sauce for ravioli ; in...</td>\n",
       "      <td>[529, 8839, 8877, 1007, 4343, 9063, 7484]</td>\n",
       "      <td>458952</td>\n",
       "    </tr>\n",
       "    <tr>\n",
       "      <th>20</th>\n",
       "      <td>name: tart cherry jam cooked ; ingredients: ch...</td>\n",
       "      <td>[10, 3756, 516, 3823, 8199, 1231, 8129]</td>\n",
       "      <td>19941</td>\n",
       "    </tr>\n",
       "    <tr>\n",
       "      <th>21</th>\n",
       "      <td>name: ginger spiced tea ; ingredients: water, ...</td>\n",
       "      <td>[545, 7971, 5441, 8336, 4706, 9803, 8937]</td>\n",
       "      <td>43515</td>\n",
       "    </tr>\n",
       "    <tr>\n",
       "      <th>22</th>\n",
       "      <td>name: creamed spinach ; ingredients: frozen sp...</td>\n",
       "      <td>[9347, 6736, 17, 7068, 3367, 7805, 6100]</td>\n",
       "      <td>222103</td>\n",
       "    </tr>\n",
       "  </tbody>\n",
       "</table>\n",
       "</div>"
      ],
      "text/plain": [
       "                                                input  \\\n",
       "13  name: stuffed jalapeno pita bites ; ingredient...   \n",
       "14  name: chicken pot pie casserole ; ingredients:...   \n",
       "15  name: new orleans crab spread ; ingredients: r...   \n",
       "16  name: tamarillo and date chutney new zealand ;...   \n",
       "17  name: pomegranate and blueberry oatmeal ; ingr...   \n",
       "18  name: bollywood potato salad pink potato salad...   \n",
       "19  name: easy cream walnut sauce for ravioli ; in...   \n",
       "20  name: tart cherry jam cooked ; ingredients: ch...   \n",
       "21  name: ginger spiced tea ; ingredients: water, ...   \n",
       "22  name: creamed spinach ; ingredients: frozen sp...   \n",
       "\n",
       "                                      pe_recipes  target_recipe  \n",
       "13  [7884, 7872, 10203, 10524, 2387, 6105, 3497]         163922  \n",
       "14      [1511, 7618, 5771, 2026, 6831, 3845, 81]         488707  \n",
       "15    [1486, 1179, 2453, 7733, 8102, 2349, 6804]         464929  \n",
       "16     [8272, 923, 1679, 8360, 3997, 6828, 9561]         208315  \n",
       "17    [6537, 3356, 2489, 7091, 6829, 1247, 5238]          42314  \n",
       "18    [2660, 6543, 6334, 6122, 1558, 6945, 2700]         133356  \n",
       "19     [529, 8839, 8877, 1007, 4343, 9063, 7484]         458952  \n",
       "20       [10, 3756, 516, 3823, 8199, 1231, 8129]          19941  \n",
       "21     [545, 7971, 5441, 8336, 4706, 9803, 8937]          43515  \n",
       "22      [9347, 6736, 17, 7068, 3367, 7805, 6100]         222103  "
      ]
     },
     "execution_count": 6,
     "metadata": {},
     "output_type": "execute_result"
    }
   ],
   "source": [
    "df2[-10:]"
   ]
  },
  {
   "cell_type": "code",
   "execution_count": null,
   "metadata": {},
   "outputs": [],
   "source": [
    "# def test(df1:pd.DataFrame, df2:pd.DataFrame):\n",
    "#     for (_, r1), (_, r2) in zip(df1.iterrows(), df2.iterrows()):\n",
    "#         if r1[\"target_recipe\"] != r1[\"target_recipe\"]:\n",
    "#             print()\n",
    "#             print(r1)\n",
    "#             print()\n",
    "#             print(r2)\n",
    "#             break"
   ]
  }
 ],
 "metadata": {
  "kernelspec": {
   "display_name": "ml_lm",
   "language": "python",
   "name": "python3"
  },
  "language_info": {
   "codemirror_mode": {
    "name": "ipython",
    "version": 3
   },
   "file_extension": ".py",
   "mimetype": "text/x-python",
   "name": "python",
   "nbconvert_exporter": "python",
   "pygments_lexer": "ipython3",
   "version": "3.11.5"
  }
 },
 "nbformat": 4,
 "nbformat_minor": 2
}
