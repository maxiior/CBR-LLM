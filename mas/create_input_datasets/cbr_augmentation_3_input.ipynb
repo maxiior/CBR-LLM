{
 "cells": [
  {
   "cell_type": "code",
   "execution_count": 1,
   "metadata": {},
   "outputs": [],
   "source": [
    "from helpers import load_all_datasets, compose, str_rep, str_rep_no_steps, CBRDatabase\n",
    "import pandas as pd\n",
    "\n",
    "DATABASE_NAME = \"cbr_database\"\n",
    "OUTPUT_FILE = \"cbr_augmentation_3_input.csv\""
   ]
  },
  {
   "cell_type": "code",
   "execution_count": 2,
   "metadata": {},
   "outputs": [],
   "source": [
    "_, additional_cbr_2, _, _, cbr_database, _, _ = load_all_datasets()\n",
    "cbr_database_id = cbr_database.set_index(\"id\")"
   ]
  },
  {
   "cell_type": "code",
   "execution_count": 3,
   "metadata": {},
   "outputs": [],
   "source": [
    "cbr_database_reps = str_rep(cbr_database)"
   ]
  },
  {
   "cell_type": "code",
   "execution_count": 4,
   "metadata": {},
   "outputs": [
    {
     "name": "stdout",
     "output_type": "stream",
     "text": [
      "bert_load_from_file: gguf version     = 2\n",
      "bert_load_from_file: gguf alignment   = 32\n",
      "bert_load_from_file: gguf data offset = 695552\n",
      "bert_load_from_file: model name           = BERT\n",
      "bert_load_from_file: model architecture   = bert\n",
      "bert_load_from_file: model file type      = 1\n",
      "bert_load_from_file: bert tokenizer vocab = 30522\n"
     ]
    }
   ],
   "source": [
    "# meta = CBRDatabase.create_metadatas([int(e) for e in list(cbr_database[\"id\"].values)], {\"dataset\":\"cbr_database\"})\n",
    "\n",
    "# vdb = CBRDatabase(cbr_database_reps, metadatas=meta, db_directory=f\"dataset_vector/{DATABASE_NAME}\", initialize_new=True)\n",
    "vdb = CBRDatabase(db_directory=f\"dataset_vector/{DATABASE_NAME}\", initialize_new=False)"
   ]
  },
  {
   "cell_type": "code",
   "execution_count": 5,
   "metadata": {},
   "outputs": [],
   "source": [
    "\n",
    "\n",
    "# [e.metadata[CBRDatabase.RECIPE_ID_KEY] for e in vdb.similarity_search(query=\"xd\", k=4)]"
   ]
  },
  {
   "cell_type": "code",
   "execution_count": 6,
   "metadata": {},
   "outputs": [
    {
     "name": "stderr",
     "output_type": "stream",
     "text": [
      "/home/maciej/anaconda3/envs/ml_lm/lib/python3.11/site-packages/tqdm/auto.py:21: TqdmWarning: IProgress not found. Please update jupyter and ipywidgets. See https://ipywidgets.readthedocs.io/en/stable/user_install.html\n",
      "  from .autonotebook import tqdm as notebook_tqdm\n"
     ]
    },
    {
     "name": "stdout",
     "output_type": "stream",
     "text": [
      "1 - 1366\n",
      "2 - 1118\n",
      "1 - 1410\n",
      "2 - 1168\n",
      "1 - 1453\n",
      "2 - 1198\n",
      "1 - 1380\n",
      "2 - 1196\n",
      "1 - 1391\n",
      "2 - 1209\n",
      "1 - 1438\n",
      "2 - 1251\n",
      "1 - 1418\n",
      "2 - 1267\n",
      "1 - 1341\n",
      "2 - 1171\n",
      "1 - 1436\n",
      "2 - 1191\n",
      "1 - 1334\n",
      "2 - 1223\n",
      "1 - 1359\n",
      "2 - 1130\n",
      "1 - 1275\n",
      "2 - 1052\n",
      "1 - 1435\n",
      "2 - 1185\n",
      "1 - 1343\n",
      "2 - 1158\n",
      "1 - 1344\n",
      "2 - 1153\n",
      "1 - 1351\n",
      "2 - 1132\n",
      "1 - 1465\n",
      "2 - 1339\n",
      "1 - 1390\n",
      "2 - 1187\n",
      "1 - 1367\n",
      "2 - 1074\n",
      "1 - 1402\n",
      "2 - 1245\n",
      "1 - 1348\n",
      "2 - 1136\n",
      "1 - 1510\n",
      "2 - 1232\n",
      "1 - 1443\n",
      "2 - 1110\n",
      "1 - 1393\n",
      "2 - 1085\n",
      "1 - 1362\n",
      "2 - 1125\n",
      "1 - 1363\n",
      "2 - 1222\n",
      "1 - 1391\n",
      "2 - 1174\n",
      "1 - 1298\n",
      "2 - 1083\n",
      "1 - 1450\n",
      "2 - 1117\n"
     ]
    }
   ],
   "source": [
    "# generowanie inputów - 1500 tokenów \n",
    "import random\n",
    "from transformers import LlamaTokenizerFast\n",
    "\n",
    "tokenizer = LlamaTokenizerFast.from_pretrained(\"hf-internal-testing/llama-tokenizer\")\n",
    "\n",
    "inputs = []\n",
    "pe_recipes = []\n",
    "target_recipe = []\n",
    "lens = []\n",
    "\n",
    "for i, v_recipe in additional_cbr_2.iterrows():\n",
    "    while True:\n",
    "        # recipe_ixs = [random.randint(0, len(cbr_database)-1) for _ in range(7)]\n",
    "        recipe_ixs = [e.metadata[CBRDatabase.RECIPE_ID_KEY] for e in vdb.similarity_search(query=str_rep_no_steps(v_recipe), k=7)]\n",
    "\n",
    "        gen_input = compose(cbr_database_id.loc[recipe_ixs], v_recipe)\n",
    "        \n",
    "        if len(tokenizer.encode(gen_input)) <= 1550: \n",
    "            br = True\n",
    "        else:\n",
    "            for ii in list(range(6, -1, -1)):\n",
    "                gen_input = compose(cbr_database_id.loc[recipe_ixs[:ii] + recipe_ixs[ii+1:]], v_recipe)\n",
    "                if len(tokenizer.encode(gen_input)) <= 1550: \n",
    "                    br = True\n",
    "                    print(f\"1 - {len(tokenizer.encode(gen_input))}\")\n",
    "                    break\n",
    "            for ii in list(range(5, -1, -1)):\n",
    "                gen_input = compose(cbr_database_id.loc[recipe_ixs[:ii] + recipe_ixs[ii+2:]], v_recipe)\n",
    "                if len(tokenizer.encode(gen_input)) <= 1550: \n",
    "                    br = True\n",
    "                    print(f\"2 - {len(tokenizer.encode(gen_input))}\")\n",
    "                    break\n",
    "        \n",
    "        if not br:\n",
    "            print(cbr_database_id.loc[recipe_ixs].steps.values)\n",
    "            print(f\"REPEAT - {len(tokenizer.encode(gen_input))}\")\n",
    "        else:\n",
    "            lens.append(len(tokenizer.encode(gen_input)))\n",
    "            break\n",
    "            \n",
    "        \n",
    "    pe_recipes.append(recipe_ixs)\n",
    "    target_recipe.append(v_recipe[\"id\"])\n",
    "    inputs.append(gen_input)"
   ]
  },
  {
   "cell_type": "code",
   "execution_count": 7,
   "metadata": {},
   "outputs": [],
   "source": [
    "df = pd.DataFrame()\n",
    "df[\"input\"] = inputs\n",
    "df[\"pe_recipes\"] = pe_recipes\n",
    "df[\"target_recipe\"] = target_recipe\n",
    "df.to_csv(f\"input_datasets/{OUTPUT_FILE}\", index=False)"
   ]
  },
  {
   "cell_type": "code",
   "execution_count": 8,
   "metadata": {},
   "outputs": [
    {
     "data": {
      "text/html": [
       "<div>\n",
       "<style scoped>\n",
       "    .dataframe tbody tr th:only-of-type {\n",
       "        vertical-align: middle;\n",
       "    }\n",
       "\n",
       "    .dataframe tbody tr th {\n",
       "        vertical-align: top;\n",
       "    }\n",
       "\n",
       "    .dataframe thead th {\n",
       "        text-align: right;\n",
       "    }\n",
       "</style>\n",
       "<table border=\"1\" class=\"dataframe\">\n",
       "  <thead>\n",
       "    <tr style=\"text-align: right;\">\n",
       "      <th></th>\n",
       "      <th>name</th>\n",
       "      <th>steps</th>\n",
       "      <th>ingredients</th>\n",
       "    </tr>\n",
       "    <tr>\n",
       "      <th>id</th>\n",
       "      <th></th>\n",
       "      <th></th>\n",
       "      <th></th>\n",
       "    </tr>\n",
       "  </thead>\n",
       "  <tbody>\n",
       "    <tr>\n",
       "      <th>227451</th>\n",
       "      <td>russian berry custard kissel</td>\n",
       "      <td>Place the berries and 4 cups of the water in a...</td>\n",
       "      <td>fresh cranberries, water, sugar, potato starch</td>\n",
       "    </tr>\n",
       "    <tr>\n",
       "      <th>227451</th>\n",
       "      <td>russian berry custard kissel</td>\n",
       "      <td>Place the berries and 4 cups of the water in a...</td>\n",
       "      <td>fresh cranberries, water, sugar, potato starch</td>\n",
       "    </tr>\n",
       "  </tbody>\n",
       "</table>\n",
       "</div>"
      ],
      "text/plain": [
       "                                name  \\\n",
       "id                                     \n",
       "227451  russian berry custard kissel   \n",
       "227451  russian berry custard kissel   \n",
       "\n",
       "                                                    steps  \\\n",
       "id                                                          \n",
       "227451  Place the berries and 4 cups of the water in a...   \n",
       "227451  Place the berries and 4 cups of the water in a...   \n",
       "\n",
       "                                           ingredients  \n",
       "id                                                      \n",
       "227451  fresh cranberries, water, sugar, potato starch  \n",
       "227451  fresh cranberries, water, sugar, potato starch  "
      ]
     },
     "execution_count": 8,
     "metadata": {},
     "output_type": "execute_result"
    }
   ],
   "source": [
    "cbr_database_id.loc[[227451, 227451]]"
   ]
  }
 ],
 "metadata": {
  "kernelspec": {
   "display_name": "ml_lm",
   "language": "python",
   "name": "python3"
  },
  "language_info": {
   "codemirror_mode": {
    "name": "ipython",
    "version": 3
   },
   "file_extension": ".py",
   "mimetype": "text/x-python",
   "name": "python",
   "nbconvert_exporter": "python",
   "pygments_lexer": "ipython3",
   "version": "3.11.5"
  }
 },
 "nbformat": 4,
 "nbformat_minor": 2
}
