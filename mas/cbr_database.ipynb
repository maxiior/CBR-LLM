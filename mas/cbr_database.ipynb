{
 "cells": [
  {
   "cell_type": "code",
   "execution_count": 1,
   "metadata": {},
   "outputs": [],
   "source": [
    "import pandas as pd\n",
    "from langchain_community.vectorstores import Chroma\n",
    "from langchain_community.embeddings import GPT4AllEmbeddings\n",
    "import os\n"
   ]
  },
  {
   "cell_type": "code",
   "execution_count": 2,
   "metadata": {},
   "outputs": [],
   "source": [
    "df = pd.read_csv(\"train.csv\")"
   ]
  },
  {
   "cell_type": "code",
   "execution_count": 3,
   "metadata": {},
   "outputs": [],
   "source": [
    "# db_init = [\"name: \"+n+\" ; ingredients: \"+i+\" ; preparation: \"+i for n, i in zip(df[\"name\"].values, df[\"ingredients\"].values, df[\"steps\"].values)]\n",
    "db_init = [\"name: \"+e[\"name\"]+\" ; ingredients: \"+e[\"ingredients\"]+\" ; preparation: \"+e[\"steps\"] for i, e in df.iterrows()]\n",
    "db_init = db_init[:50]"
   ]
  },
  {
   "cell_type": "code",
   "execution_count": 4,
   "metadata": {},
   "outputs": [],
   "source": [
    "\n",
    "class CBRDatabase:\n",
    "    RECIPE_ID_KEY = \"recipe_id\"\n",
    "\n",
    "    def __init__(self, texts = None, metadatas:list = None, db_directory=\"dataset_chroma_db\", initialize_new=False) -> None:\n",
    "        embedding_function = GPT4AllEmbeddings()\n",
    "        \n",
    "        if initialize_new:\n",
    "            if os.path.isdir(db_directory): raise Exception(\"Provided directory exists\")\n",
    "            self.db = Chroma.from_texts(texts = texts, embedding = embedding_function, metadatas=metadatas, persist_directory=db_directory)\n",
    "        else:\n",
    "            if texts or metadatas: raise Exception(\"You are trying to load exising database, not crate new.\")\n",
    "            self.db = Chroma(persist_directory=db_directory, embedding_function=embedding_function)\n",
    "\n",
    "    def add_examples(self, texts, metadatas:list = None):\n",
    "        self.db.add_texts(texts, metadatas)\n",
    "\n",
    "    def similarity_search(self, **kwargs):\n",
    "        res = self.db.similarity_search(**kwargs)\n",
    "        return res\n",
    "\n",
    "    @staticmethod\n",
    "    def create_metadatas(recipe_indices:list, batch_metadata:dict = None):\n",
    "        metadatas = [{CBRDatabase.RECIPE_ID_KEY:e} for e in recipe_indices]\n",
    "        if batch_metadata:\n",
    "            for d in metadatas:\n",
    "                d.update(batch_metadata)\n",
    "        return metadatas\n"
   ]
  },
  {
   "cell_type": "code",
   "execution_count": 6,
   "metadata": {},
   "outputs": [
    {
     "name": "stdout",
     "output_type": "stream",
     "text": [
      "bert_load_from_file: gguf version     = 2\n",
      "bert_load_from_file: gguf alignment   = 32\n",
      "bert_load_from_file: gguf data offset = 695552\n",
      "bert_load_from_file: model name           = BERT\n",
      "bert_load_from_file: model architecture   = bert\n",
      "bert_load_from_file: model file type      = 1\n",
      "bert_load_from_file: bert tokenizer vocab = 30522\n"
     ]
    },
    {
     "data": {
      "text/plain": [
       "150"
      ]
     },
     "execution_count": 6,
     "metadata": {},
     "output_type": "execute_result"
    }
   ],
   "source": [
    "# example of create or load vextore database\n",
    "\n",
    "metadata = CBRDatabase.create_metadatas(list(range(len(db_init))))\n",
    "# db = CBRDatabase(db_init, metadata, db_directory=\"dataset_chroma_db\", initialize_new=True)\n",
    "db = CBRDatabase(db_directory=\"dataset_chroma_db\", initialize_new=False)\n",
    "\n",
    "# count of elements in database\n",
    "len(db.db._collection.get()[\"documents\"])\n"
   ]
  },
  {
   "cell_type": "code",
   "execution_count": 7,
   "metadata": {},
   "outputs": [
    {
     "data": {
      "text/plain": [
       "200"
      ]
     },
     "execution_count": 7,
     "metadata": {},
     "output_type": "execute_result"
    }
   ],
   "source": [
    "# example of adding new recipes \n",
    "\n",
    "# metadatas = CBRDatabase.create_metadatas(list(range(len(db_init))), {\"test\":True})\n",
    "# db.add_examples(db_init, metadatas)\n",
    "# len(db.db._collection.get()[\"documents\"])"
   ]
  },
  {
   "cell_type": "code",
   "execution_count": 8,
   "metadata": {},
   "outputs": [
    {
     "data": {
      "text/plain": [
       "[Document(page_content='name: Green deviled eggs n ham ; ingredients: eggs, mayonnaise, honey mustard, sweet pickle relish, green food coloring, honey-baked ham, lemon pepper, paprika ; preparation: Carefully cut eggs into halves lengthwise. Just as carefully, scoop out yolks & into a bowl. Mash yolks well, then mix in mayo, mustard & relish. Add green food color one drop at a time, mixing well after each drop, until desired intensity of green is achieved. Add chopped ham & lemon pepper & mix well. Carefully spoon & slightly mound yolk mixture into each hollowed egg white half. If using paprika, sprinkle lightly over the green deviled eggs & serve.', metadata={'recipe_id': 16, 'test': True}),\n",
       " Document(page_content='name: Green deviled eggs n ham ; ingredients: eggs, mayonnaise, honey mustard, sweet pickle relish, green food coloring, honey-baked ham, lemon pepper, paprika ; preparation: Carefully cut eggs into halves lengthwise. Just as carefully, scoop out yolks & into a bowl. Mash yolks well, then mix in mayo, mustard & relish. Add green food color one drop at a time, mixing well after each drop, until desired intensity of green is achieved. Add chopped ham & lemon pepper & mix well. Carefully spoon & slightly mound yolk mixture into each hollowed egg white half. If using paprika, sprinkle lightly over the green deviled eggs & serve.', metadata={'recipe_id': 16, 'test': True}),\n",
       " Document(page_content='name: Green deviled eggs n ham ; ingredients: eggs, mayonnaise, honey mustard, sweet pickle relish, green food coloring, honey-baked ham, lemon pepper, paprika ; preparation: Carefully cut eggs into halves lengthwise. Just as carefully, scoop out yolks & into a bowl. Mash yolks well, then mix in mayo, mustard & relish. Add green food color one drop at a time, mixing well after each drop, until desired intensity of green is achieved. Add chopped ham & lemon pepper & mix well. Carefully spoon & slightly mound yolk mixture into each hollowed egg white half. If using paprika, sprinkle lightly over the green deviled eggs & serve.', metadata={'recipe_id': 16, 'test': True}),\n",
       " Document(page_content='name: 1 pot 4 item sausage suprise ; ingredients: kielbasa, onions, potatoes, baby carrots ; preparation: Cut all ingredients into quarter sized chunks. Place all in 8 quart pot of boiling water. Add salt and pepper to taste. Boil until carrots and potatoes are tender but firm. Drain liquid. I like to serve with a little mustard or horseradish on the side.', metadata={'recipe_id': 38, 'test': True})]"
      ]
     },
     "execution_count": 8,
     "metadata": {},
     "output_type": "execute_result"
    }
   ],
   "source": [
    "# example of similarity search with filter\n",
    "\n",
    "NAME = \"Sandwich\"\n",
    "INGREDIENTS = \"cheese, ham\"\n",
    "query = \"name: \"+NAME+\" ; ingredients: \"+INGREDIENTS\n",
    "\n",
    "docs = db.similarity_search(query=query, k=4, filter={'test':True})\n",
    "docs"
   ]
  },
  {
   "cell_type": "code",
   "execution_count": 9,
   "metadata": {},
   "outputs": [
    {
     "data": {
      "text/plain": [
       "('name: Green deviled eggs n ham ; ingredients: eggs, mayonnaise, honey mustard, sweet pickle relish, green food coloring, honey-baked ham, lemon pepper, paprika ; preparation: Carefully cut eggs into halves lengthwise. Just as carefully, scoop out yolks & into a bowl. Mash yolks well, then mix in mayo, mustard & relish. Add green food color one drop at a time, mixing well after each drop, until desired intensity of green is achieved. Add chopped ham & lemon pepper & mix well. Carefully spoon & slightly mound yolk mixture into each hollowed egg white half. If using paprika, sprinkle lightly over the green deviled eggs & serve.',\n",
       " 16,\n",
       " {'recipe_id': 16, 'test': True})"
      ]
     },
     "execution_count": 9,
     "metadata": {},
     "output_type": "execute_result"
    }
   ],
   "source": [
    "# example of retrive document information and text content\n",
    "\n",
    "docs[0].page_content, docs[0].metadata[CBRDatabase.RECIPE_ID_KEY], docs[0].metadata"
   ]
  }
 ],
 "metadata": {
  "kernelspec": {
   "display_name": "ml",
   "language": "python",
   "name": "python3"
  },
  "language_info": {
   "codemirror_mode": {
    "name": "ipython",
    "version": 3
   },
   "file_extension": ".py",
   "mimetype": "text/x-python",
   "name": "python",
   "nbconvert_exporter": "python",
   "pygments_lexer": "ipython3",
   "version": "3.1.0"
  }
 },
 "nbformat": 4,
 "nbformat_minor": 2
}
