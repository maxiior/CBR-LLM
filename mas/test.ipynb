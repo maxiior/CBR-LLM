{
 "cells": [
  {
   "cell_type": "code",
   "execution_count": 1,
   "metadata": {},
   "outputs": [
    {
     "name": "stderr",
     "output_type": "stream",
     "text": [
      "/home/maciej/anaconda3/envs/ml_lm/lib/python3.11/site-packages/tqdm/auto.py:21: TqdmWarning: IProgress not found. Please update jupyter and ipywidgets. See https://ipywidgets.readthedocs.io/en/stable/user_install.html\n",
      "  from .autonotebook import tqdm as notebook_tqdm\n"
     ]
    }
   ],
   "source": [
    "import pandas as pd\n",
    "from langchain_community.embeddings import HuggingFaceEmbeddings\n",
    "from langchain_community.embeddings import GPT4AllEmbeddings\n",
    "\n",
    "from sentence_transformers import SentenceTransformer, util\n",
    "import torch\n",
    "# from langchain_community.utils.math import cosine_similarity\n",
    "from sklearn.metrics.pairwise import cosine_similarity"
   ]
  },
  {
   "cell_type": "code",
   "execution_count": 2,
   "metadata": {},
   "outputs": [
    {
     "name": "stderr",
     "output_type": "stream",
     "text": [
      "/home/maciej/anaconda3/envs/ml_lm/lib/python3.11/site-packages/torch/_utils.py:831: UserWarning: TypedStorage is deprecated. It will be removed in the future and UntypedStorage will be the only storage class. This should only matter to you if you are using storages directly.  To access UntypedStorage directly, use tensor.untyped_storage() instead of tensor.storage()\n",
      "  return self.fget.__get__(instance, owner)()\n"
     ]
    },
    {
     "name": "stdout",
     "output_type": "stream",
     "text": [
      "bert_load_from_file: gguf version     = 2\n",
      "bert_load_from_file: gguf alignment   = 32\n",
      "bert_load_from_file: gguf data offset = 695552\n",
      "bert_load_from_file: model name           = BERT\n",
      "bert_load_from_file: model architecture   = bert\n",
      "bert_load_from_file: model file type      = 1\n",
      "bert_load_from_file: bert tokenizer vocab = 30522\n"
     ]
    }
   ],
   "source": [
    "sentences = [\n",
    "    \"Preheat oven to 350 degrees F. Spray an 11x7x2-inch baking dish with cooking spray. In a large bowl, combine the chicken, celery and water chestnuts. Stir in the soup and mayonnaise. Spread half the mixture into the prepared pan. Unroll the dough and separate into 9 squares. Place 3 squares in the bottom of the pan. Spread with half the sour cream. Top with half the chicken mixture and half the Parmesan cheese. Repeat the layers. Bake for 40 minutes. Let stand for 10 minutes. Cut into 6 squares. Serve warm.\", \n",
    "    \"Preheat the oven to 375 degrees. Put the chicken, celery, water chestnuts, soup, mayonnaise and sour cream in a large bowl and stir until well combined. Put the chicken mixture into a 9x13 baking dish that has been coated with the cooking spray. Bake for 25-30 minutes, or until celery is crisp-tender. Remove the casserole from the oven. Unroll the croissant dough into flat pieces and cover the chicken mixture with the slices of dough. Drizzle with the melted butter. Bake for 10-12 minutes or until the croissant topping is turning golden brown. Remove the casserole from the oven and sprinkle with the parmesan cheese. Bake for 1-2 more minutes. Let stand 5 minutes before serving.\"\n",
    "    ]\n",
    "\n",
    "# sentences = [\n",
    "#     \"Preheat the oven to 375 degrees. Put the chicken, celery, water chestnuts, soup, mayonnaise and sour cream in a large bowl and stir until well combined. Put the chicken mixture into a 9x13 baking dish that has been coated with the cooking spray. Bake for 25-30 minutes, or until celery is crisp-tender. Remove the casserole from the oven. Unroll the croissant dough into flat pieces and cover the chicken mixture with the slices of dough. Drizzle with the melted butter. Bake for 10-12 minutes or until the croissant topping is turning golden brown. Remove the casserole from the oven and sprinkle with the parmesan cheese. Bake for 1-2 more minutes. Let stand 5 minutes before serving.\",\n",
    "#     \"Melt butter in a large skillet over medium heat. Stir in leeks. Cover and stir often until leeks are very soft. Cook potato in salted water until almost done. To potato and water, add broccoli stems and then florets or until tender. Drain well and transfer to food processor. Add leeks to the food processor and puree all. Return puree to skillet and add cream, dill, salt and pepper. Blend well and serve.\"\n",
    "#     ]\n",
    "\n",
    "model = SentenceTransformer('sentence-transformers/all-MiniLM-L6-v2')\n",
    "# model2 = HuggingFaceEmbeddings(model_name=\"sentence-transformers/all-MiniLM-L6-v2\")\n",
    "model2 = GPT4AllEmbeddings()\n",
    "\n"
   ]
  },
  {
   "cell_type": "code",
   "execution_count": 3,
   "metadata": {},
   "outputs": [],
   "source": [
    "df = pd.read_csv(\"first_gen.csv\")"
   ]
  },
  {
   "cell_type": "code",
   "execution_count": 4,
   "metadata": {},
   "outputs": [],
   "source": [
    "\n",
    "pred = df.iloc[9].values[2]\n",
    "y = \"Cook the pasta according to package directions. Drain and rinse in cold water. Place in a large bowl. Add remaining ingredients and toss to coat. Taste and adjust with salt and pepper. Cover and refrigerate for 2 hours or overnight.\""
   ]
  },
  {
   "cell_type": "code",
   "execution_count": 5,
   "metadata": {},
   "outputs": [],
   "source": [
    "pred = sentences[0]\n",
    "y = sentences[1]"
   ]
  },
  {
   "cell_type": "code",
   "execution_count": 6,
   "metadata": {},
   "outputs": [
    {
     "data": {
      "text/plain": [
       "('Preheat oven to 350 degrees F. Spray an 11x7x2-inch baking dish with cooking spray. In a large bowl, combine the chicken, celery and water chestnuts. Stir in the soup and mayonnaise. Spread half the mixture into the prepared pan. Unroll the dough and separate into 9 squares. Place 3 squares in the bottom of the pan. Spread with half the sour cream. Top with half the chicken mixture and half the Parmesan cheese. Repeat the layers. Bake for 40 minutes. Let stand for 10 minutes. Cut into 6 squares. Serve warm.',\n",
       " 'Preheat the oven to 375 degrees. Put the chicken, celery, water chestnuts, soup, mayonnaise and sour cream in a large bowl and stir until well combined. Put the chicken mixture into a 9x13 baking dish that has been coated with the cooking spray. Bake for 25-30 minutes, or until celery is crisp-tender. Remove the casserole from the oven. Unroll the croissant dough into flat pieces and cover the chicken mixture with the slices of dough. Drizzle with the melted butter. Bake for 10-12 minutes or until the croissant topping is turning golden brown. Remove the casserole from the oven and sprinkle with the parmesan cheese. Bake for 1-2 more minutes. Let stand 5 minutes before serving.')"
      ]
     },
     "execution_count": 6,
     "metadata": {},
     "output_type": "execute_result"
    }
   ],
   "source": [
    "pred, y"
   ]
  },
  {
   "cell_type": "code",
   "execution_count": 7,
   "metadata": {},
   "outputs": [
    {
     "data": {
      "text/plain": [
       "tensor([[0.8683]])"
      ]
     },
     "execution_count": 7,
     "metadata": {},
     "output_type": "execute_result"
    }
   ],
   "source": [
    "embedding_1 = model.encode(y, convert_to_tensor=True).cpu()\n",
    "embedding_2 = model.encode(pred, convert_to_tensor=True).cpu()\n",
    "\n",
    "util.pytorch_cos_sim(embedding_1, embedding_2)"
   ]
  },
  {
   "cell_type": "code",
   "execution_count": 9,
   "metadata": {},
   "outputs": [
    {
     "data": {
      "text/plain": [
       "array([[0.868348]], dtype=float32)"
      ]
     },
     "execution_count": 9,
     "metadata": {},
     "output_type": "execute_result"
    }
   ],
   "source": [
    "cosine_similarity([embedding_1], [embedding_2])"
   ]
  },
  {
   "cell_type": "code",
   "execution_count": null,
   "metadata": {},
   "outputs": [
    {
     "data": {
      "text/plain": [
       "tensor([[0.8704]])"
      ]
     },
     "execution_count": 8,
     "metadata": {},
     "output_type": "execute_result"
    }
   ],
   "source": [
    "# 23.5\n",
    "#Compute embedding for both lists\n",
    "embedding_1 = torch.Tensor(model2.embed_query(y)).cpu()\n",
    "embedding_2 = torch.Tensor(model2.embed_query(pred)).cpu()\n",
    "\n",
    "util.pytorch_cos_sim(embedding_1, embedding_2)"
   ]
  },
  {
   "cell_type": "code",
   "execution_count": 10,
   "metadata": {},
   "outputs": [
    {
     "data": {
      "text/plain": [
       "array([[0.868348]], dtype=float32)"
      ]
     },
     "execution_count": 10,
     "metadata": {},
     "output_type": "execute_result"
    }
   ],
   "source": [
    "cosine_similarity([embedding_1], [embedding_2])"
   ]
  }
 ],
 "metadata": {
  "kernelspec": {
   "display_name": "ml_lm",
   "language": "python",
   "name": "python3"
  },
  "language_info": {
   "codemirror_mode": {
    "name": "ipython",
    "version": 3
   },
   "file_extension": ".py",
   "mimetype": "text/x-python",
   "name": "python",
   "nbconvert_exporter": "python",
   "pygments_lexer": "ipython3",
   "version": "3.11.5"
  }
 },
 "nbformat": 4,
 "nbformat_minor": 2
}
