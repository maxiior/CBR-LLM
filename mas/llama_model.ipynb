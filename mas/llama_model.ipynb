{
 "cells": [
  {
   "cell_type": "code",
   "execution_count": 1,
   "metadata": {},
   "outputs": [],
   "source": [
    "from langchain_community.llms import LlamaCpp\n",
    "\n",
    "import abc\n"
   ]
  },
  {
   "cell_type": "code",
   "execution_count": 2,
   "metadata": {},
   "outputs": [],
   "source": [
    "\n",
    "from langchain_community.llms import LlamaCpp\n",
    "\n",
    "\n",
    "class LlamaCPP:\n",
    "    def __init__(self, model_path=\"models/llama-7b-hf.gguf\", n_gpu_layers=41, n_batch=1024, n_ctx=2048) -> None:\n",
    "        self.model_path = model_path\n",
    "        self.n_gpu_layers = n_gpu_layers\n",
    "        self.n_batch = n_batch\n",
    "        self.n_ctx = n_ctx\n",
    "\n",
    "        self.model = LlamaCpp(\n",
    "            model_path=model_path,\n",
    "            n_gpu_layers=n_gpu_layers,\n",
    "            n_batch=n_batch,\n",
    "            n_ctx=n_ctx,\n",
    "            f16_kv=True,  # MUST set to True, otherwise you will run into problem after a couple of calls\n",
    "            verbose=True,\n",
    "        )\n",
    "        super().__init__()\n",
    "\n",
    "    def send_request(self, X, break_word:str = \" name:\") -> str:\n",
    "        tok_len = self.model.get_num_tokens(X)\n",
    "        # print(tok_len)\n",
    "        if tok_len > 1550:\n",
    "            raise Exception(f\"Request exceeds prefelable 1500 tokens. Has: {tok_len}\")\n",
    "        prev = \"\"\n",
    "        res = \"\"\n",
    "        for token in self.model.stream(X, echo=False):\n",
    "            res += token\n",
    "            if break_word == prev+token:\n",
    "                # print(res)#dev\n",
    "                res = res.replace(\" ; name:\", \"\")\n",
    "                res = res.replace(\";name:\", \"\")\n",
    "                res = res.replace(\" ;name:\", \"\")\n",
    "                res = res.replace(\"; name:\", \"\")\n",
    "                res = res.replace(\" name:\", \"\")\n",
    "                res = res.replace(\"name:\", \"\")\n",
    "                break\n",
    "            if \"\\n\" in token:\n",
    "                res = res.replace(\"\\n\", \"\")\n",
    "                break\n",
    "            prev = token\n",
    "        \n",
    "        res = res.replace(\"  ;  \", \"\")\n",
    "        res = res.replace(\"  ; \", \"\")\n",
    "        res = res.replace(\"  ;\", \"\")\n",
    "        res = res.replace(\" ; \", \"\")\n",
    "        res = res.replace(\"; \", \"\")\n",
    "        res = res.replace(\" ;\", \"\")\n",
    "        res = res.replace(\";\", \"\")\n",
    "        return res\n",
    "\n",
    "    def get_info(self) -> str:\n",
    "        return {\n",
    "            \"model\":\"LLama-13b-hf-q8_0\",\n",
    "            \"model_path\":self.model_path,\n",
    "            \"n_gpu_layers\":self.n_gpu_layers,\n",
    "            \"n_batch\":self.n_batch,\n",
    "            \"n_ctx\":self.n_ctx,\n",
    "        }\n",
    "\n",
    "\n"
   ]
  },
  {
   "cell_type": "code",
   "execution_count": 3,
   "metadata": {},
   "outputs": [],
   "source": [
    "# test libs\n",
    "\n",
    "from pprint import pprint\n",
    "import pandas as pd\n",
    "import numpy as np\n",
    "# from transformers import LlamaTokenizerFast"
   ]
  },
  {
   "cell_type": "code",
   "execution_count": 4,
   "metadata": {},
   "outputs": [],
   "source": [
    "# test request\n",
    "\n",
    "df = pd.read_csv(\"small_validation_cbr_00_input.csv\")\n",
    "\n",
    "# req = compose(df.iloc[[11, 15, 112, 122, 133, 144, 155, 8]])\n",
    "# req = \"The second planet in the solar system is \""
   ]
  },
  {
   "cell_type": "code",
   "execution_count": 5,
   "metadata": {},
   "outputs": [
    {
     "name": "stderr",
     "output_type": "stream",
     "text": [
      "ggml_init_cublas: GGML_CUDA_FORCE_MMQ:   no\n",
      "ggml_init_cublas: CUDA_USE_TENSOR_CORES: yes\n",
      "ggml_init_cublas: found 1 CUDA devices:\n",
      "  Device 0: NVIDIA GeForce RTX 4060 Ti, compute capability 8.9, VMM: yes\n",
      "llama_model_loader: loaded meta data with 20 key-value pairs and 291 tensors from models/llama-7b-hf.gguf (version GGUF V3 (latest))\n",
      "llama_model_loader: Dumping metadata keys/values. Note: KV overrides do not apply in this output.\n",
      "llama_model_loader: - kv   0:                       general.architecture str              = llama\n",
      "llama_model_loader: - kv   1:                               general.name str              = LLaMA v2\n",
      "llama_model_loader: - kv   2:                       llama.context_length u32              = 4096\n",
      "llama_model_loader: - kv   3:                     llama.embedding_length u32              = 4096\n",
      "llama_model_loader: - kv   4:                          llama.block_count u32              = 32\n",
      "llama_model_loader: - kv   5:                  llama.feed_forward_length u32              = 11008\n",
      "llama_model_loader: - kv   6:                 llama.rope.dimension_count u32              = 128\n",
      "llama_model_loader: - kv   7:                 llama.attention.head_count u32              = 32\n",
      "llama_model_loader: - kv   8:              llama.attention.head_count_kv u32              = 32\n",
      "llama_model_loader: - kv   9:     llama.attention.layer_norm_rms_epsilon f32              = 0.000010\n",
      "llama_model_loader: - kv  10:                          general.file_type u32              = 1\n",
      "llama_model_loader: - kv  11:                       tokenizer.ggml.model str              = llama\n",
      "llama_model_loader: - kv  12:                      tokenizer.ggml.tokens arr[str,32000]   = [\"<unk>\", \"<s>\", \"</s>\", \"<0x00>\", \"<...\n",
      "llama_model_loader: - kv  13:                      tokenizer.ggml.scores arr[f32,32000]   = [0.000000, 0.000000, 0.000000, 0.0000...\n",
      "llama_model_loader: - kv  14:                  tokenizer.ggml.token_type arr[i32,32000]   = [2, 3, 3, 6, 6, 6, 6, 6, 6, 6, 6, 6, ...\n",
      "llama_model_loader: - kv  15:                tokenizer.ggml.bos_token_id u32              = 1\n",
      "llama_model_loader: - kv  16:                tokenizer.ggml.eos_token_id u32              = 2\n",
      "llama_model_loader: - kv  17:            tokenizer.ggml.unknown_token_id u32              = 0\n",
      "llama_model_loader: - kv  18:               tokenizer.ggml.add_bos_token bool             = true\n",
      "llama_model_loader: - kv  19:               tokenizer.ggml.add_eos_token bool             = false\n",
      "llama_model_loader: - type  f32:   65 tensors\n",
      "llama_model_loader: - type  f16:  226 tensors\n",
      "llm_load_vocab: special tokens definition check successful ( 259/32000 ).\n",
      "llm_load_print_meta: format           = GGUF V3 (latest)\n",
      "llm_load_print_meta: arch             = llama\n",
      "llm_load_print_meta: vocab type       = SPM\n",
      "llm_load_print_meta: n_vocab          = 32000\n",
      "llm_load_print_meta: n_merges         = 0\n",
      "llm_load_print_meta: n_ctx_train      = 4096\n",
      "llm_load_print_meta: n_embd           = 4096\n",
      "llm_load_print_meta: n_head           = 32\n",
      "llm_load_print_meta: n_head_kv        = 32\n",
      "llm_load_print_meta: n_layer          = 32\n",
      "llm_load_print_meta: n_rot            = 128\n",
      "llm_load_print_meta: n_embd_head_k    = 128\n",
      "llm_load_print_meta: n_embd_head_v    = 128\n",
      "llm_load_print_meta: n_gqa            = 1\n",
      "llm_load_print_meta: n_embd_k_gqa     = 4096\n",
      "llm_load_print_meta: n_embd_v_gqa     = 4096\n",
      "llm_load_print_meta: f_norm_eps       = 0.0e+00\n",
      "llm_load_print_meta: f_norm_rms_eps   = 1.0e-05\n",
      "llm_load_print_meta: f_clamp_kqv      = 0.0e+00\n",
      "llm_load_print_meta: f_max_alibi_bias = 0.0e+00\n",
      "llm_load_print_meta: n_ff             = 11008\n",
      "llm_load_print_meta: n_expert         = 0\n",
      "llm_load_print_meta: n_expert_used    = 0\n",
      "llm_load_print_meta: rope scaling     = linear\n",
      "llm_load_print_meta: freq_base_train  = 10000.0\n",
      "llm_load_print_meta: freq_scale_train = 1\n",
      "llm_load_print_meta: n_yarn_orig_ctx  = 4096\n",
      "llm_load_print_meta: rope_finetuned   = unknown\n",
      "llm_load_print_meta: model type       = 7B\n",
      "llm_load_print_meta: model ftype      = F16\n",
      "llm_load_print_meta: model params     = 6.74 B\n",
      "llm_load_print_meta: model size       = 12.55 GiB (16.00 BPW) \n",
      "llm_load_print_meta: general.name     = LLaMA v2\n",
      "llm_load_print_meta: BOS token        = 1 '<s>'\n",
      "llm_load_print_meta: EOS token        = 2 '</s>'\n",
      "llm_load_print_meta: UNK token        = 0 '<unk>'\n",
      "llm_load_print_meta: LF token         = 13 '<0x0A>'\n",
      "llm_load_tensors: ggml ctx size =    0.22 MiB\n",
      "llm_load_tensors: offloading 32 repeating layers to GPU\n",
      "llm_load_tensors: offloading non-repeating layers to GPU\n",
      "llm_load_tensors: offloaded 33/33 layers to GPU\n",
      "llm_load_tensors:        CPU buffer size =   250.00 MiB\n",
      "llm_load_tensors:      CUDA0 buffer size = 12603.02 MiB\n",
      "....................................................................................................\n",
      "llama_new_context_with_model: n_ctx      = 2048\n",
      "llama_new_context_with_model: freq_base  = 10000.0\n",
      "llama_new_context_with_model: freq_scale = 1\n",
      "llama_kv_cache_init:      CUDA0 KV buffer size =  1024.00 MiB\n",
      "llama_new_context_with_model: KV self size  = 1024.00 MiB, K (f16):  512.00 MiB, V (f16):  512.00 MiB\n",
      "llama_new_context_with_model:  CUDA_Host input buffer size   =    28.02 MiB\n",
      "llama_new_context_with_model:      CUDA0 compute buffer size =   328.00 MiB\n",
      "llama_new_context_with_model:  CUDA_Host compute buffer size =    16.00 MiB\n",
      "llama_new_context_with_model: graph splits (measure): 3\n",
      "AVX = 1 | AVX_VNNI = 1 | AVX2 = 1 | AVX512 = 0 | AVX512_VBMI = 0 | AVX512_VNNI = 0 | FMA = 1 | NEON = 0 | ARM_FMA = 0 | F16C = 1 | FP16_VA = 0 | WASM_SIMD = 0 | BLAS = 1 | SSE3 = 1 | SSSE3 = 1 | VSX = 0 | MATMUL_INT8 = 0 | \n",
      "Model metadata: {'tokenizer.ggml.add_eos_token': 'false', 'tokenizer.ggml.unknown_token_id': '0', 'tokenizer.ggml.eos_token_id': '2', 'general.architecture': 'llama', 'llama.context_length': '4096', 'general.name': 'LLaMA v2', 'tokenizer.ggml.add_bos_token': 'true', 'llama.embedding_length': '4096', 'llama.feed_forward_length': '11008', 'llama.attention.layer_norm_rms_epsilon': '0.000010', 'llama.rope.dimension_count': '128', 'llama.attention.head_count': '32', 'tokenizer.ggml.bos_token_id': '1', 'llama.block_count': '32', 'llama.attention.head_count_kv': '32', 'tokenizer.ggml.model': 'llama', 'general.file_type': '1'}\n"
     ]
    }
   ],
   "source": [
    "model = LlamaCPP()"
   ]
  },
  {
   "cell_type": "code",
   "execution_count": 6,
   "metadata": {},
   "outputs": [],
   "source": [
    "inputs = df.input.values"
   ]
  },
  {
   "cell_type": "code",
   "execution_count": 7,
   "metadata": {},
   "outputs": [
    {
     "name": "stdout",
     "output_type": "stream",
     "text": [
      "Cream butter and sugar until light and creamy. Add egg and beat until combined well. Add coffee granules and beat until combined well. Add flour and beat until combined well. Stir in almonds and powdered sugar and beat until combined well. Form into balls and place on ungreased baking sheet. Bake 350 for 1012 minutes. Makes 24 bars.\n",
      "\n"
     ]
    },
    {
     "name": "stderr",
     "output_type": "stream",
     "text": [
      "Llama.generate: prefix-match hit\n",
      "\n",
      "llama_print_timings:        load time =     498.93 ms\n",
      "llama_print_timings:      sample time =      28.86 ms /   170 runs   (    0.17 ms per token,  5891.32 tokens per second)\n",
      "llama_print_timings: prompt eval time =     553.12 ms /  1141 tokens (    0.48 ms per token,  2062.84 tokens per second)\n",
      "llama_print_timings:        eval time =    9590.90 ms /   169 runs   (   56.75 ms per token,    17.62 tokens per second)\n",
      "llama_print_timings:       total time =   10462.26 ms /  1310 tokens\n",
      "Llama.generate: prefix-match hit\n"
     ]
    },
    {
     "name": "stdout",
     "output_type": "stream",
     "text": [
      "Preheat oven to 350 degrees. Cook sausage in a large non-stick skillet over medium-high heat until brown. Remove with a slotted spoon to a bowldrain and crumble. In the same pan melt butter over medium heat. Add celery and onion and saute 5 minutes. Stir in mushrooms and cook 5 minutes longer. Add the crumbled sausage and cook 1 minute longer. Add the cubed bread and stir to coat. Pour in the chicken broth. Season with salt and pepper. Stir in the sage. Transfer to a greased 13 x 9 baking dish. Bake 20-25 minutes or until bubbly. Serve hot.\n",
      "\n",
      "Preheat oven to 350f degrees. Grease a 9x13 pan or 13x9 pan with cooking spray. Mix bread cubes with poultry seasoning and salt & pepper to taste. Cut cheese into 8 slices and arrange in a circle around the bread crumbs. Place the slices of turkey in the center of the circle of crumbs & cheese. Pour egg & milk over the top of the bread & cheese mixture. Place pan into the oven. Bake for 45 minutes or until the cheese is melted & the bread is lightly browned.\n",
      "\n"
     ]
    },
    {
     "name": "stderr",
     "output_type": "stream",
     "text": [
      "Llama.generate: prefix-match hit\n"
     ]
    },
    {
     "name": "stdout",
     "output_type": "stream",
     "text": [
      "Bring a large pot of salted water to a boil. Add spaghetti and cook until tender, according to package directions. Drain and rinse with cold water. While pasta is cooking, heat the olive oil in a large pan over medium heat. Add the broccoli florets and cook for 5 minutes. Add the chunky peanut butter and vegetable stock and bring to a boil. Stir in the soy sauce and seasoned rice vinegar. Reduce heat to low and simmer until the sauce thickens. Add the drained pasta and the dried red pepper flakes and stir to coat. Taste and adjust the seasonings with additional salt and red pepper flakes if necessary. Serve immediately.\n",
      "\n"
     ]
    },
    {
     "name": "stderr",
     "output_type": "stream",
     "text": [
      "Llama.generate: prefix-match hit\n"
     ]
    },
    {
     "name": "stdout",
     "output_type": "stream",
     "text": [
      "Boil the macaroni in water as directed on package. Drain the water from the pot. In a small mixing bowl, mix all the ingredients together. Put the mayonnaise, yeast flakes, and non-dairy milk together in a small bowl. Mix the yeast mixture into the cooked elbow macaroni. Add the salt and pepper. Put the mixture into a glass bowl. Add the breadcrumbs on top of the mixture. Cover the bowl with plastic wrap. Let it sit for 24 hours.\n",
      "\n"
     ]
    },
    {
     "name": "stderr",
     "output_type": "stream",
     "text": [
      "Llama.generate: prefix-match hit\n"
     ]
    },
    {
     "name": "stdout",
     "output_type": "stream",
     "text": [
      "Cover bottom of a medium-size baking dish with the onion and bacon slices and cook until bacon is crisp and onions are translucent. Drain the onions and bacon and add the remaining vegetables and mix well. Sprinkle with the soup mix and then pour the water over the top. Cover with foil and bake at 350 for about an hour or until vegetables are tender. Stir and sprinkle with fresh parsley just before serving.\n",
      "\n"
     ]
    },
    {
     "name": "stderr",
     "output_type": "stream",
     "text": [
      "Llama.generate: prefix-match hit\n"
     ]
    },
    {
     "name": "stdout",
     "output_type": "stream",
     "text": [
      "Spread crunchy peanut butter evenly over one side of each slice of white bread. Place one slice of whole wheat bread on top of each peanut butter slice. Spread grape jelly over top of the white bread slice. Place another white bread slice on top of each jelly slice. Cut each sandwich in half. Place each half of sandwich onto a plate. Spread the remaining white bread with a thin layer of grape jelly. Place one goldfish cracker on top of each of the jellied white bread halves. Repeat with remaining jelly. Serve.\n",
      "\n"
     ]
    },
    {
     "name": "stderr",
     "output_type": "stream",
     "text": [
      "Llama.generate: prefix-match hit\n"
     ]
    },
    {
     "name": "stdout",
     "output_type": "stream",
     "text": [
      "Season chicken breasts. Dip each piece into flour. Dip into egg. Dip into flour. Place on lightly greased rack in roasting pan. Combine remaining ingredientspour over chicken. Bake, uncovered at 350 degrees for 1 hour. Chicken is done when juices run clear when thickest part of thigh is pierced. Serve over cooked white rice. Makes 4 servings.\n",
      "\n"
     ]
    },
    {
     "name": "stderr",
     "output_type": "stream",
     "text": [
      "Llama.generate: prefix-match hit\n"
     ]
    },
    {
     "name": "stdout",
     "output_type": "stream",
     "text": [
      "Pre-heat the oven to 400 degrees. Combine the light brown and granulated sugars with the unsalted butter in a large bowl and cream together until it is light and fluffy. Add the eggs and vanilla. Sift the all purpose flour with the baking soda and salt into the bowl and mix together until there are no lumps. Add the water and mix. Stir in the chocolate chips. Drop dough by rounded teaspoonfuls onto the prepared pans. Bake for 8 minutes and then rotate the pans and continue baking for another 5 minutes. Let the cookies cool on the pan for several minutes before removing them. They will continue cooking once removed from the pan.\n",
      "\n"
     ]
    },
    {
     "name": "stderr",
     "output_type": "stream",
     "text": [
      "Llama.generate: prefix-match hit\n"
     ]
    },
    {
     "name": "stdout",
     "output_type": "stream",
     "text": [
      "In a glass filled with ice cubes, place 1/2 cup grapefruit sections and 1 maraschino cherry. Add 2 tablespoons sugar and 1 teaspoon lime juice. Top with 1 ounce (2 tablespoons) vodka and 2 ounces (1/4 cup) ruby red grapefruit juice. Stir gently. Garnish with remaining cherry and a lime slice on top of each drink.\n",
      "\n"
     ]
    },
    {
     "name": "stderr",
     "output_type": "stream",
     "text": [
      "Llama.generate: prefix-match hit\n"
     ]
    },
    {
     "name": "stdout",
     "output_type": "stream",
     "text": [
      "Combine all ingredients in saucepan. Bring mixture to a boil over medium heat. Cook 15 minutes over low heat stirring frequently. Serve hot.\n",
      "\n"
     ]
    },
    {
     "name": "stderr",
     "output_type": "stream",
     "text": [
      "Llama.generate: prefix-match hit\n"
     ]
    },
    {
     "name": "stdout",
     "output_type": "stream",
     "text": [
      "In a large skillet cook the onions over medium heat for 5 minutes or until softened. Add the green onions and cook for 1 minute. Add the milk and bring to a boil. Reduce the heat to low. Add the eggs, stirring constantly. When the eggs start to set on the bottom of the pan, stir vigorously. Cook for about 2 more minutes or until the eggs are cooked. Season with salt, pepper, jalapeno, and cheese. Serve immediately.\n",
      "\n"
     ]
    },
    {
     "name": "stderr",
     "output_type": "stream",
     "text": [
      "Llama.generate: prefix-match hit\n"
     ]
    },
    {
     "name": "stdout",
     "output_type": "stream",
     "text": [
      "In a blender or food processor, puree strawberries. Pour into a medium saucepan over medium heat. Add milk, ginger ale and sugarbring to a boil. Reduce heatcook and stir for 10 minutes or until mixture thickens. Remove from heat. Stir in lemon juice and vanillacover and chill. Serve with a dollop of whipped cream and a sprig of mint.\n",
      "\n"
     ]
    },
    {
     "name": "stderr",
     "output_type": "stream",
     "text": [
      "Llama.generate: prefix-match hit\n"
     ]
    },
    {
     "name": "stdout",
     "output_type": "stream",
     "text": [
      "Preheat oven to 400 degrees. Place salmon in a shallow baking pan coated with cooking spray. Pour honey and juice over fish. Drizzle hoisin over top and sprinkle with ginger. Bake for 30 minutes or until fish flakes easily with a fork.\n",
      "\n"
     ]
    },
    {
     "name": "stderr",
     "output_type": "stream",
     "text": [
      "Llama.generate: prefix-match hit\n"
     ]
    },
    {
     "name": "stdout",
     "output_type": "stream",
     "text": [
      "In a bowl, combine the olive oil, red peppers, cilantro leaves, mustard, coriander, cinnamon, balsamic vinegar, salt and pepper to taste. Place chicken breasts in a large plastic bag. Pour the pesto into the bag with the breasts. Make sure the chicken is well coated with the pesto mixture. Refrigerate for at least two hours. Thread the chicken onto metal or soaked wooden skewers. Grill over medium heat.\n",
      "\n"
     ]
    },
    {
     "name": "stderr",
     "output_type": "stream",
     "text": [
      "Llama.generate: prefix-match hit\n",
      "\n",
      "llama_print_timings:        load time =     498.93 ms\n",
      "llama_print_timings:      sample time =      12.73 ms /    78 runs   (    0.16 ms per token,  6129.18 tokens per second)\n",
      "llama_print_timings: prompt eval time =     554.47 ms /  1174 tokens (    0.47 ms per token,  2117.35 tokens per second)\n",
      "llama_print_timings:        eval time =    4248.65 ms /    77 runs   (   55.18 ms per token,    18.12 tokens per second)\n",
      "llama_print_timings:       total time =    4928.57 ms /  1251 tokens\n",
      "Llama.generate: prefix-match hit\n"
     ]
    },
    {
     "name": "stdout",
     "output_type": "stream",
     "text": [
      "In a mixing bowl, whisk the butter into the lemon juice until slightly thickened. Add the garlic, basil, salt and pepper and mix well. Grill vegetable until tender. Remove from the heat. Add the blue cheese to the butter mixture. Toss to coat all the vegetables. Top with cheese to serve.\n",
      "\n",
      "Preheat oven to 450 degrees. Place pork loins on large baking pan. Season generously with salt and pepper. Rub butter all over the surface of each loin. Rub garlic all over each loin. Rub olive oil all over each loin. Place onions on baking rack. Place loins on pan. Bake for 20 minutes. Turn loins and bake for 10 to 15 minutes longer or until desired tenderness. Let stand 5 minutes before cutting.\n",
      "\n"
     ]
    },
    {
     "name": "stderr",
     "output_type": "stream",
     "text": [
      "Llama.generate: prefix-match hit\n",
      "\n",
      "llama_print_timings:        load time =     498.93 ms\n",
      "llama_print_timings:      sample time =      14.66 ms /    86 runs   (    0.17 ms per token,  5865.50 tokens per second)\n",
      "llama_print_timings: prompt eval time =     570.80 ms /  1102 tokens (    0.52 ms per token,  1930.61 tokens per second)\n",
      "llama_print_timings:        eval time =    4957.49 ms /    85 runs   (   58.32 ms per token,    17.15 tokens per second)\n",
      "llama_print_timings:       total time =    5675.42 ms /  1187 tokens\n",
      "Llama.generate: prefix-match hit\n"
     ]
    },
    {
     "name": "stdout",
     "output_type": "stream",
     "text": [
      "In a large skillet over medium heat, combine figs and brown sugar. Cook for about ten minutes or until figs are soft and slightly caramelized. Set aside. In a large bowl combine the pears and puree. Add the figs and stir. Pour the mixture into the crust. Bake at 375 for about an hour and a half. Let cool before serving.\n",
      "\n"
     ]
    },
    {
     "name": "stderr",
     "output_type": "stream",
     "text": [
      "\n",
      "llama_print_timings:        load time =     498.93 ms\n",
      "llama_print_timings:      sample time =      27.77 ms /   156 runs   (    0.18 ms per token,  5616.76 tokens per second)\n",
      "llama_print_timings: prompt eval time =     572.88 ms /  1203 tokens (    0.48 ms per token,  2099.92 tokens per second)\n",
      "llama_print_timings:        eval time =    9026.19 ms /   155 runs   (   58.23 ms per token,    17.17 tokens per second)\n",
      "llama_print_timings:       total time =    9866.06 ms /  1358 tokens\n",
      "Llama.generate: prefix-match hit\n"
     ]
    },
    {
     "name": "stdout",
     "output_type": "stream",
     "text": [
      "Preheat oven to 350 degrees f. Butter 13x9-inch baking dish. In large bowl, beat butter until fluffy. Add sugar, beat until smooth. Stir in vanilla. Gradually add flour until blended. Fold in crumbs, walnuts and 1/2 of mini marshmallow bits. Spread half of crumb mixture in bottom of prepared baking dish. Arrange remaining mini marshmallow bits on top of crumbs. Top with remaining crumb mixture. Bake for 30-35 minutes or until golden brown. Cool completely on wire rack. Cut into 36 squares.\n",
      "\n"
     ]
    },
    {
     "name": "stderr",
     "output_type": "stream",
     "text": [
      "\n",
      "llama_print_timings:        load time =     498.93 ms\n",
      "llama_print_timings:      sample time =       7.16 ms /    42 runs   (    0.17 ms per token,  5868.38 tokens per second)\n",
      "llama_print_timings: prompt eval time =     644.27 ms /  1362 tokens (    0.47 ms per token,  2114.03 tokens per second)\n",
      "llama_print_timings:        eval time =    2394.88 ms /    41 runs   (   58.41 ms per token,    17.12 tokens per second)\n",
      "llama_print_timings:       total time =    3108.74 ms /  1403 tokens\n",
      "Llama.generate: prefix-match hit\n"
     ]
    },
    {
     "name": "stdout",
     "output_type": "stream",
     "text": [
      "In a large bowl, combine all ingredients and mix well. Press onto greased cookie sheet and bake for approximately 45 minutes or until lightly browned and crunchy.\n",
      "\n",
      "Halve and de-seed the oranges. Put in an ovenproof dish and sprinkle generously with sugar and vanilla. Leave to stand for about 30 minutes. Bake for 15-20 minutes until soft. Allow to cool and remove any remaining sugar and vanilla. Serve with a glass of liqueur.\n",
      "\n"
     ]
    },
    {
     "name": "stderr",
     "output_type": "stream",
     "text": [
      "Llama.generate: prefix-match hit\n"
     ]
    },
    {
     "name": "stdout",
     "output_type": "stream",
     "text": [
      "Preheat oven to 350 degrees fahrenheit. Grease and lightly flour a 9 x 9-inch pan. Combine the margarine and sugar until well mixed. Add the egg and mix well. Add the cocoa and vanilla and mix well. Combine the flour and nuts and add them to the batter with the miniature chocolate chips. Stir just until blended. Spread batter evenly in pan and bake for about 40 minutes or until a tester inserted into center comes out clean. Let cool for about 10 minutes before cutting into squares.\n",
      "\n"
     ]
    },
    {
     "name": "stderr",
     "output_type": "stream",
     "text": [
      "Llama.generate: prefix-match hit\n",
      "\n",
      "llama_print_timings:        load time =     498.93 ms\n",
      "llama_print_timings:      sample time =      40.57 ms /   256 runs   (    0.16 ms per token,  6309.46 tokens per second)\n",
      "llama_print_timings: prompt eval time =     556.40 ms /  1035 tokens (    0.54 ms per token,  1860.18 tokens per second)\n",
      "llama_print_timings:        eval time =   14447.76 ms /   255 runs   (   56.66 ms per token,    17.65 tokens per second)\n",
      "llama_print_timings:       total time =   15440.94 ms /  1290 tokens\n",
      "Llama.generate: prefix-match hit\n"
     ]
    },
    {
     "name": "stdout",
     "output_type": "stream",
     "text": [
      "Preheat oven to 350 degrees. In a large bowl, mix the 3/4 cup of butter with the brown sugar until light in color. Mix in the powdered sugar until well blended. In a separate bowl, beat the egg substitutes with the Splenda until foamy. In a large mixing bowl, beat the remaining 1/4 cup of butter with the brown sugar until light in color. Mix in the powdered sugar until well blended. In a separate bowl, beat the egg substitutes with the Splenda until foamy. In a large mixing bowl, beat the remaining 1/4 cup of butter with the brown sugar until light in color. Mix in the powdered sugar until well blended. In a separate bowl, beat the egg substitutes with the Splenda until foamy. Combine the dry ingredients in a large mixing bowl, stirring until well blended. Stir in the crushed pineapple and the remaining 1/2 cup of brown sugar until well blended. Combine the dry ingredients in a large mixing bowl, stirring until well blended\n",
      "\n"
     ]
    },
    {
     "name": "stderr",
     "output_type": "stream",
     "text": [
      "\n",
      "llama_print_timings:        load time =     498.93 ms\n",
      "llama_print_timings:      sample time =      44.29 ms /   256 runs   (    0.17 ms per token,  5779.56 tokens per second)\n",
      "llama_print_timings: prompt eval time =     665.05 ms /  1456 tokens (    0.46 ms per token,  2189.32 tokens per second)\n",
      "llama_print_timings:        eval time =   14951.90 ms /   255 runs   (   58.63 ms per token,    17.05 tokens per second)\n",
      "llama_print_timings:       total time =   16087.12 ms /  1711 tokens\n",
      "Llama.generate: prefix-match hit\n"
     ]
    },
    {
     "name": "stdout",
     "output_type": "stream",
     "text": [
      "Preheat oven to 350f. Line an 8-inch square pan with foil and spray with cooking oil. In a medium bowl whisk together the cocoa powder and hot water until smooth. Let cool. In a large bowl using an electric mixer beat the butter and 1/4 cup granulated sugar on medium speed until light and fluffy 3 to 5 minutes. Add the cooled cocoa mixture and beat until combined 30 seconds. Add the remaining 1/4 cup granulated sugar and beat until combined 30 seconds. Add the eggs one at a time beating well after each addition. Add the baking powder and beat until combined 10 seconds. Add the vanilla and beat until combined 30 seconds. In a small bowl whisk together the flour and baking soda. Add the dry ingredients to the batter and beat until combined 15 seconds. Sprinkle the chocolate chips over the batter and gently press into the batter. Scrape the batter into the prepared pan and smooth the top. Bake until a toothpick inserted into the center comes out with just a\n",
      "\n",
      "In a bowl combine sugar and vinegar. Add whipping cream cheese slowly. Add cheddar cheese. Toss with bacon, chopped onion and chopped broccoli. Cover and chill several hours. Serve on lettuce leaves.\n",
      "\n"
     ]
    },
    {
     "name": "stderr",
     "output_type": "stream",
     "text": [
      "Llama.generate: prefix-match hit\n"
     ]
    },
    {
     "name": "stdout",
     "output_type": "stream",
     "text": [
      "Shake all the ingredients together with ice. Pour into a highball glass filled with ice. Serve.\n",
      "\n"
     ]
    },
    {
     "name": "stderr",
     "output_type": "stream",
     "text": [
      "Llama.generate: prefix-match hit\n",
      "\n",
      "llama_print_timings:        load time =     498.93 ms\n",
      "llama_print_timings:      sample time =      24.99 ms /   149 runs   (    0.17 ms per token,  5961.43 tokens per second)\n",
      "llama_print_timings: prompt eval time =     598.81 ms /  1250 tokens (    0.48 ms per token,  2087.48 tokens per second)\n",
      "llama_print_timings:        eval time =    8588.45 ms /   148 runs   (   58.03 ms per token,    17.23 tokens per second)\n",
      "llama_print_timings:       total time =    9444.53 ms /  1398 tokens\n",
      "Llama.generate: prefix-match hit\n"
     ]
    },
    {
     "name": "stdout",
     "output_type": "stream",
     "text": [
      "Cut an orange in half, remove seeds and skin and slice thinly. Stir together jelly, port wine and orange slices, cover and chill for 1 hour. Stir together orange juice and sugarcool. Slice cherry halvesremove pits, if any, and add juice mixturechill. Rinse fruit well under cold running waterdrain. Squeeze fruit juices from lemonsadd to orange juice mixturechill. Drain fruit wellarrange on individual plates or in bowls. Pour juices over fruitrefrigerate several hours or overnight. Sprinkle with mint, if desired.\n",
      "\n"
     ]
    },
    {
     "name": "stderr",
     "output_type": "stream",
     "text": [
      "\n",
      "llama_print_timings:        load time =     498.93 ms\n",
      "llama_print_timings:      sample time =      29.08 ms /   171 runs   (    0.17 ms per token,  5879.72 tokens per second)\n",
      "llama_print_timings: prompt eval time =     384.45 ms /   893 tokens (    0.43 ms per token,  2322.77 tokens per second)\n",
      "llama_print_timings:        eval time =    9838.64 ms /   170 runs   (   57.87 ms per token,    17.28 tokens per second)\n",
      "llama_print_timings:       total time =   10515.00 ms /  1063 tokens\n",
      "Llama.generate: prefix-match hit\n"
     ]
    },
    {
     "name": "stdout",
     "output_type": "stream",
     "text": [
      "Cut mangoes lengthwise to remove skin and pithdiscard skin and pith. With a sharp knife, cut flesh away from skin. Cut flesh away from pitdiscard pit and skin. Cut flesh lengthwisescrape seeds out of each half with a teaspoon and discard. Cut flesh crosswise to make 1-inch wide matchsticks. Place half of mangoes, orange juice, lime juice, and sugar in a food processorpuree until smooth. Add remaining mangoespuree until smooth. Divide mango mixture between 2 tall glassestop each with 1/4 cup club soda. Add a little crushed ice to each glassgarnish each with a slice of mango.\n",
      "\n",
      "Combine cereal and 3 cups of the seeds and nuts in a large bowlstir well. Combine remaining 1/2 cup seeds and nuts with the condensed milk and spread over the top of the cereal mixture. Press gently to spread evenlyrefrigerate for 4 hours. Cut into piecesserve or store covered for up to 4 days.\n",
      "\n"
     ]
    },
    {
     "name": "stderr",
     "output_type": "stream",
     "text": [
      "Llama.generate: prefix-match hit\n",
      "\n",
      "llama_print_timings:        load time =     498.93 ms\n",
      "llama_print_timings:      sample time =      19.93 ms /   122 runs   (    0.16 ms per token,  6120.81 tokens per second)\n",
      "llama_print_timings: prompt eval time =     544.68 ms /  1109 tokens (    0.49 ms per token,  2036.05 tokens per second)\n",
      "llama_print_timings:        eval time =    6877.92 ms /   121 runs   (   56.84 ms per token,    17.59 tokens per second)\n",
      "llama_print_timings:       total time =    7629.20 ms /  1230 tokens\n",
      "Llama.generate: prefix-match hit\n"
     ]
    },
    {
     "name": "stdout",
     "output_type": "stream",
     "text": [
      "Preheat oven to 425 degrees f. Line a baking sheet with parchment paper. Place the dry ingredients in a large bowl and whisk together. In another large bowl combine the eggs, beer and whisk until smooth. Add the beer mixture to the dry mixture and stir until just combined. Add the onions and jalapeño peppers and stir until just combined. Drop the batter onto the prepared sheet by heaping tablespoons and place 2 inches apart. Bake for 15 minutes or until golden brown.\n",
      "\n",
      "Spread butter on inside of two slices of challah. Place one slice on bottom of panini maker. Place brie on one slice and a layer of tomatoes on the other. Place remaining slice on top and close the panini maker. Cook for about 3 minutes on medium-high heat or until golden brown and the tomatoes have softened. Serve on a plate with the basil leaf as a garnish.\n",
      "\n"
     ]
    },
    {
     "name": "stderr",
     "output_type": "stream",
     "text": [
      "Llama.generate: prefix-match hit\n",
      "\n",
      "llama_print_timings:        load time =     498.93 ms\n",
      "llama_print_timings:      sample time =      12.19 ms /    72 runs   (    0.17 ms per token,  5906.00 tokens per second)\n",
      "llama_print_timings: prompt eval time =     608.63 ms /  1311 tokens (    0.46 ms per token,  2154.03 tokens per second)\n",
      "llama_print_timings:        eval time =    4071.86 ms /    71 runs   (   57.35 ms per token,    17.44 tokens per second)\n",
      "llama_print_timings:       total time =    4800.74 ms /  1382 tokens\n",
      "Llama.generate: prefix-match hit\n"
     ]
    },
    {
     "name": "stdout",
     "output_type": "stream",
     "text": [
      "Mix all the ingredients together and coat your chops with the mixture. Marinate for a minimum of 3 hours and up to overnight in the refrigerator. Grill or broil chops until desired tenderness is reached. Garnish with fresh chopped parsley and lemon slices if desired.\n",
      "\n",
      "Bring chicken broth to boil and cook until reduced by half. Add garlic and cook for one minute or until tender. Add zucchini and simmer for five minutes until tender. Add lime juice and oregano and season with salt and black pepper to taste. Garnish with fresh flat leaf parsley before serving.\n",
      "\n"
     ]
    },
    {
     "name": "stderr",
     "output_type": "stream",
     "text": [
      "Llama.generate: prefix-match hit\n"
     ]
    },
    {
     "name": "stdout",
     "output_type": "stream",
     "text": [
      "In a medium bowl beat together the oil, mustards, garlic powder, dill weed. Add the prepared salad dressing & the mayonnaise & mix well to blend. Stir in the stone ground mustard & pour into a small crockpot or a medium bowl. Sprinkle sugar on top & stir well to blend. Put into the refrigerator to chill for at least 2 hours. Serve with your favorite pretzels as an appetizer or snack.\n",
      "\n"
     ]
    },
    {
     "name": "stderr",
     "output_type": "stream",
     "text": [
      "Llama.generate: prefix-match hit\n"
     ]
    },
    {
     "name": "stdout",
     "output_type": "stream",
     "text": [
      "Preheat oven to 400 degrees. Line a large baking sheet with aluminum foil and arrange bacon slices in a single layer. Bake until crisp and browned about 10-15 minutes. Meanwhile, slice pears in half and brush each cut side with maple syrup and place them in a single layer in the same baking sheet. Bake until tender and caramelized about 10 minutes. Drizzle with a bit of balsamic vinegar and allow to cool. When cool, arrange bacon and pears in alternating rows on a platter. Sprinkle with parmesan and toss with pecans. Drizzle vinaigrette over the top.\n",
      "\n"
     ]
    },
    {
     "name": "stderr",
     "output_type": "stream",
     "text": [
      "Llama.generate: prefix-match hit\n"
     ]
    },
    {
     "name": "stdout",
     "output_type": "stream",
     "text": [
      "Grease an 8x8 pan with nonstick cooking spray. Place half of the cubed bread in the pan. Top with the jalapeno jack and half of the cheddar cheese and bacon. Repeat with remaining ingredients. In a bowl mix the eggs, milk and seasonings together. Pour the egg mixture over the layer of bread and sprinkle with the remaining cheese and bacon. Cover with foil and refrigerate for at least four hours and up to overnight. Preheat the oven to 350 degrees F and bake for about 40 minutes until the center is set. Let stand for about five minutes before serving. Serve with additional bacon and jalapenos on the side for those who like it spicy.\n",
      "\n"
     ]
    },
    {
     "name": "stderr",
     "output_type": "stream",
     "text": [
      "Llama.generate: prefix-match hit\n"
     ]
    },
    {
     "name": "stdout",
     "output_type": "stream",
     "text": [
      "Boil a small quantity of water with salt and a dash of oil. Place the fish fillets and the scallops into the boiling water for 2 to 3 minutes. Drain the fish and the scallops and place them into a bowl. Add the butter, lemon rind and lemon juice. Heat the mixture and add the green peppercorn. Cover and keep warm. Serve the fish and scallops with the green peppercorn sauce.\n",
      "\n"
     ]
    },
    {
     "name": "stderr",
     "output_type": "stream",
     "text": [
      "Llama.generate: prefix-match hit\n"
     ]
    },
    {
     "name": "stdout",
     "output_type": "stream",
     "text": [
      "Preheat oven to 375 degrees F. In a large bowl, whisk together the flour, baking soda and salt. In a medium bowl, cream together the sugars. In a small bowl whisk together the egg yolks and vanilla. In the bowl of an electric mixer fitted with the paddle attachment cream the sugars and the butter until light and fluffy. Add the egg yolk mixture and beat until well combined. With the mixer on low speed, slowly add the dry ingredients until just combined. Fold in the chocolate chips. Drop the dough by rounded teaspoons onto ungreased cookie sheets 2 inches apart. Bake until golden around the edges and soft in the middle, about 9 to 11 minutes.\n",
      "\n"
     ]
    },
    {
     "name": "stderr",
     "output_type": "stream",
     "text": [
      "Llama.generate: prefix-match hit\n"
     ]
    },
    {
     "name": "stdout",
     "output_type": "stream",
     "text": [
      "In a large mixing bowl, beat the cream cheese and sugar with a mixer at high speed until smooth. Add the whipped topping and beat well. Spoon half of the whipped topping mixture into the graham cracker crust. Spoon the cherry pie filling over the whipped topping in the crust. Spoon the remaining whipped topping mixture over the fruit. Cover and refrigerate 24 hours.\n",
      "\n"
     ]
    },
    {
     "name": "stderr",
     "output_type": "stream",
     "text": [
      "Llama.generate: prefix-match hit\n"
     ]
    },
    {
     "name": "stdout",
     "output_type": "stream",
     "text": [
      "In a large bowl, combine the chicken bouillon powder, garlic powder and onion powder. Stir in the warm water and mix until dissolved. Add the orzo pasta and stir until completely coated. In a large pot over medium heat, melt the butter. Add the orzo/chicken bouillon mixture and stir frequently. Cook until the mixture is thickened. Add the long-grain rice and stir until combined. Cook until the mixture is thickened and the rice is cooked. Add the lemon juice and stir to combine. Continue cooking for five minutes until the lemon juice is absorbed. Transfer to a serving bowl. Garnish with parsley. Serve warm.\n",
      "\n"
     ]
    },
    {
     "name": "stderr",
     "output_type": "stream",
     "text": [
      "Llama.generate: prefix-match hit\n"
     ]
    },
    {
     "name": "stdout",
     "output_type": "stream",
     "text": [
      "Combine cabbage, carrot & onion in large salad bowl. Stir in mayonnaise, mustard, apple cider vinegar, sugar and seasonings. Toss well. Cover & refrigerate for at least 2 hours before serving.\n",
      "\n"
     ]
    },
    {
     "name": "stderr",
     "output_type": "stream",
     "text": [
      "Llama.generate: prefix-match hit\n"
     ]
    },
    {
     "name": "stdout",
     "output_type": "stream",
     "text": [
      "Peel sweet potatoesslice lengthwisedice into ¼\" piecesheat 1 Tbsp of olive oil in a large skillet over medium heatadd sweet potatoes to panstir fry for 5 minutesset asideheat remaining olive oil in pan over medium heatadd garlic and 1 Tbsp soy sauce to pansauté garlic for 30 secondsadd brown sugar, 2 Tbsp soy sauce and mirin to pancook until brown sugar dissolvesadd remaining 1 Tbsp soy sauce to pancook for 2 minutesadd sweet potatoes to panstir fry for 1 minuteadd toasted sesame seed, stir fry for 1 minuteadd nori, stir fry for 2 minutesserve warm or cold.\n",
      "\n"
     ]
    },
    {
     "name": "stderr",
     "output_type": "stream",
     "text": [
      "Llama.generate: prefix-match hit\n",
      "\n",
      "llama_print_timings:        load time =     498.93 ms\n",
      "llama_print_timings:      sample time =      16.62 ms /   100 runs   (    0.17 ms per token,  6015.76 tokens per second)\n",
      "llama_print_timings: prompt eval time =     634.79 ms /  1408 tokens (    0.45 ms per token,  2218.06 tokens per second)\n",
      "llama_print_timings:        eval time =    5549.60 ms /    99 runs   (   56.06 ms per token,    17.84 tokens per second)\n",
      "llama_print_timings:       total time =    6350.67 ms /  1507 tokens\n",
      "Llama.generate: prefix-match hit\n"
     ]
    },
    {
     "name": "stdout",
     "output_type": "stream",
     "text": [
      "Melt butter in a large skillet over medium-high heat. Add garlic and cook until fragrant, about 3 minutes. Add tomatoes, wine, clams, pepper, and salt. Cover pan and cook until clams open, about 5 minutes. Remove clams from pan with a slotted spoondiscard any unopened clams. Remove pan from heat and stir in chopped parsley. Serve with French bread.\n",
      "\n"
     ]
    },
    {
     "name": "stderr",
     "output_type": "stream",
     "text": [
      "\n",
      "llama_print_timings:        load time =     498.93 ms\n",
      "llama_print_timings:      sample time =      21.17 ms /   124 runs   (    0.17 ms per token,  5858.18 tokens per second)\n",
      "llama_print_timings: prompt eval time =     579.72 ms /  1244 tokens (    0.47 ms per token,  2145.87 tokens per second)\n",
      "llama_print_timings:        eval time =    7007.44 ms /   123 runs   (   56.97 ms per token,    17.55 tokens per second)\n",
      "llama_print_timings:       total time =    7802.31 ms /  1367 tokens\n",
      "Llama.generate: prefix-match hit\n"
     ]
    },
    {
     "name": "stdout",
     "output_type": "stream",
     "text": [
      "Mix first 6 ingredients in a shallow bowl. Dip chicken pieces into egg and then roll in the mixture to coat well. Place in a shallow greased 15x10x1-inch baking dish and marinate for 2 to 24 hours at room temperature. Bake at 375 degrees for 25 to 30 minutes or until done. Serve with warm biscuits and a vegetable. This will make 4 to 6 servings depending on how much meat is removed from the bones.\n",
      "\n",
      "Preheat oven to 325 degrees. Butter an 8x11x2 inch baking dish. Place half of the pears in baking dish. Add a layer of raisins. Add a layer of butter. Add a layer of vanilla extract. Add a layer of cinnamon. Add a layer of raisins. Add remaining pears. Pour maple syrup over pears. Bake 30 minutes. Serve hot.\n",
      "\n"
     ]
    },
    {
     "name": "stderr",
     "output_type": "stream",
     "text": [
      "Llama.generate: prefix-match hit\n",
      "\n",
      "llama_print_timings:        load time =     498.93 ms\n",
      "llama_print_timings:      sample time =      24.36 ms /   148 runs   (    0.16 ms per token,  6074.54 tokens per second)\n",
      "llama_print_timings: prompt eval time =     524.47 ms /  1089 tokens (    0.48 ms per token,  2076.38 tokens per second)\n",
      "llama_print_timings:        eval time =    8165.33 ms /   147 runs   (   55.55 ms per token,    18.00 tokens per second)\n",
      "llama_print_timings:       total time =    8936.29 ms /  1236 tokens\n",
      "Llama.generate: prefix-match hit\n"
     ]
    },
    {
     "name": "stdout",
     "output_type": "stream",
     "text": [
      "Peel 12-15 large carrots, cut off ends and slice into 1/4-inch pieces. Place in large saucepan or soup kettle. Add enough vegetable stock or water to cover. Bring to boil over moderately high heat. Cook 10 minutes or until tender. Drain. Reserve 2 cups of broth for sauce. Transfer carrots in large bowl. Mash with fork. Stir in 2 Tbsp. thyme, remaining broth, butter, 1/2 tsp. each salt and pepper. Mash until smooth. Stir in 3/4 cup of thyme.\n",
      "\n"
     ]
    },
    {
     "name": "stderr",
     "output_type": "stream",
     "text": [
      "\n",
      "llama_print_timings:        load time =     498.93 ms\n",
      "llama_print_timings:      sample time =      24.64 ms /   149 runs   (    0.17 ms per token,  6047.57 tokens per second)\n",
      "llama_print_timings: prompt eval time =     648.80 ms /  1404 tokens (    0.46 ms per token,  2164.01 tokens per second)\n",
      "llama_print_timings:        eval time =    8462.35 ms /   148 runs   (   57.18 ms per token,    17.49 tokens per second)\n",
      "llama_print_timings:       total time =    9362.43 ms /  1552 tokens\n",
      "Llama.generate: prefix-match hit\n"
     ]
    },
    {
     "name": "stdout",
     "output_type": "stream",
     "text": [
      "Heat oven to 375 degrees F. Unroll each refrigerated biscuit dough and cut each half into thirds. Press the halves together to form wedges. Place the wedges on a cookie sheet. In a medium bowl, beat the cream cheese, sugar and egg with a mixer on low speed until well blended. Add the flour and cinnamonmix well. Spoon the filling over the wedges. Bake for 15 minutes or until the wedges are lightly browned and the filling is set. Immediately sprinkle with confectioners' sugar if desired. Makes about 18 wedges.\n",
      "\n",
      "Cut potatoes into 1/2 inch cubes and place in large bowl. Pour oil over potatoes. Sprinkle with taco seasoning. Wrap potatoes in foil and bake for 20 minutes or until potatoes are tender. Cut in half lengthwise and open out. Add cheese and spread evenly. Return to oven for 10 minutes or until melted.\n",
      "\n"
     ]
    },
    {
     "name": "stderr",
     "output_type": "stream",
     "text": [
      "Llama.generate: prefix-match hit\n",
      "\n",
      "llama_print_timings:        load time =     498.93 ms\n",
      "llama_print_timings:      sample time =       7.77 ms /    46 runs   (    0.17 ms per token,  5921.73 tokens per second)\n",
      "llama_print_timings: prompt eval time =     418.78 ms /   992 tokens (    0.42 ms per token,  2368.78 tokens per second)\n",
      "llama_print_timings:        eval time =    2541.11 ms /    45 runs   (   56.47 ms per token,    17.71 tokens per second)\n",
      "llama_print_timings:       total time =    3033.80 ms /  1037 tokens\n",
      "Llama.generate: prefix-match hit\n"
     ]
    },
    {
     "name": "stdout",
     "output_type": "stream",
     "text": [
      "Pour oatmeal into a bowl and add milk and cereal. Cook on stove top for 1 minute or until soft. Add banana and cinnamon. Mix well and enjoy!\n",
      "\n"
     ]
    },
    {
     "name": "stderr",
     "output_type": "stream",
     "text": [
      "\n",
      "llama_print_timings:        load time =     498.93 ms\n",
      "llama_print_timings:      sample time =      14.36 ms /    87 runs   (    0.17 ms per token,  6059.76 tokens per second)\n",
      "llama_print_timings: prompt eval time =     425.89 ms /  1003 tokens (    0.42 ms per token,  2355.09 tokens per second)\n",
      "llama_print_timings:        eval time =    4842.60 ms /    86 runs   (   56.31 ms per token,    17.76 tokens per second)\n",
      "llama_print_timings:       total time =    5410.77 ms /  1089 tokens\n",
      "Llama.generate: prefix-match hit\n"
     ]
    },
    {
     "name": "stdout",
     "output_type": "stream",
     "text": [
      "Melt butter and oil in saucepan and saute onion until wilted. Add turkey and season with salt, pepper and cumin seeds. Add all other ingredients and heat to boiling. Reduce heat and simmer 5 to 10 minutes. Serve with corn muffins or crackers and a salad or sandwiches for lunch or dinner.\n",
      "\n",
      "In large saucepan melt butter. Add potatoes and cook over medium heat until almost tender. Add salt, pepper, and milk, continuing to cook until milk is absorbed. Remove from heat. Add chives, stir well and sprinkle with cheese. Cover with plastic wrap. Heat in microwave for 1 to 2 minutes or until cheese is melted. Serve with cornflake crumbs.\n",
      "\n"
     ]
    },
    {
     "name": "stderr",
     "output_type": "stream",
     "text": [
      "Llama.generate: prefix-match hit\n"
     ]
    },
    {
     "name": "stdout",
     "output_type": "stream",
     "text": [
      "Combine all the ingredients and serve immediately.\n",
      "\n"
     ]
    },
    {
     "name": "stderr",
     "output_type": "stream",
     "text": [
      "Llama.generate: prefix-match hit\n"
     ]
    },
    {
     "name": "stdout",
     "output_type": "stream",
     "text": [
      "Preheat oven to 350 degrees. Grease a 9x13 inch pan. Combine flour, baking powder and salt. Cream butter with both sugars. Add in eggs one at a time. Alternately stir in the dry mixture and nuts. Mix in the melted chocolate. Spread into pan. Bake at 350 degrees for 25-28 minutes. Cool. Cut into bars.\n",
      "\n"
     ]
    },
    {
     "name": "stderr",
     "output_type": "stream",
     "text": [
      "Llama.generate: prefix-match hit\n"
     ]
    },
    {
     "name": "stdout",
     "output_type": "stream",
     "text": [
      "In a medium bowl, combine the chopped onion and enchilada sauce. Set aside. In a deep frying pan or on the stove top heat up the oil. Dip the tortillas in the oil to soften them up for 20 seconds on each side. Place them into the enchilada mixture on one side to coat the tortillas in the onions. Then place them in the fry pan or pancake flipper to flip them over to coat the other side in the onions. Place them in the oven until the onions start to brown. Then place them in the oven for 10-15 minutes or until the cheese is melted to your liking.\n",
      "\n"
     ]
    },
    {
     "name": "stderr",
     "output_type": "stream",
     "text": [
      "Llama.generate: prefix-match hit\n"
     ]
    },
    {
     "name": "stdout",
     "output_type": "stream",
     "text": [
      "Put oil and soup mix in a bowl and mix together. Add hamburger. Mix in the water and set aside. In a large skillet over medium-high heat brown meat and drain. Next add the potatoes and carrots. Cook until potatoes are almost done. Add remaining water to skillet and bring to a boil. Cover with foil and bake for about 30 minutes. This dish is great for camping, or taking it in a lunch box.\n",
      "\n"
     ]
    },
    {
     "name": "stderr",
     "output_type": "stream",
     "text": [
      "Llama.generate: prefix-match hit\n",
      "\n",
      "llama_print_timings:        load time =     498.93 ms\n",
      "llama_print_timings:      sample time =      41.49 ms /   256 runs   (    0.16 ms per token,  6169.72 tokens per second)\n",
      "llama_print_timings: prompt eval time =     552.86 ms /  1085 tokens (    0.51 ms per token,  1962.52 tokens per second)\n",
      "llama_print_timings:        eval time =   14586.47 ms /   255 runs   (   57.20 ms per token,    17.48 tokens per second)\n",
      "llama_print_timings:       total time =   15583.96 ms /  1340 tokens\n",
      "Llama.generate: prefix-match hit\n"
     ]
    },
    {
     "name": "stdout",
     "output_type": "stream",
     "text": [
      "Heat 3 tbs of the oil in a large non-stick skillet over medium heat until hot. Add bacon strips and cook until bacon is crispabout 5 minutes. Transfer bacon with a slotted spoon to paper towels to drain. Set aside. Place the remaining oil in the skillet over high heat until hot, about 1 minutewipe out the pan with paper towels to remove any excess oil from the pan. Add onions and cook until they begin to soften, 3 to 4 minutesadd the green onions, seasoning salt, and extra sharp cheddar cheesecook until the onions are tender, 3 to 4 minutes moredo not overcook the onions. Beat the eggs with the light cream until blended. Pour the egg mixture into the skillet and cook until the top of the egg mixture is just set, about 3 minutes. Add the bacon and the cooked onionscook until the egg mixture is lightly set throughout, 3 to 4 minutes moredo not overcook the egg mixture. Transfer the finished omelet to a platter and cut into 8 wed\n",
      "\n",
      "Mix together the sugars and the margarine in a large bowl and beat until fluffy. Add the eggs and beat well after each addition. Mix in the flour, cocoa and the chocolate chips. Spread in a greased pan and bake at 350 degrees for about 40 minutes or until a wooden pick inserted into the center comes out clean.\n",
      "\n"
     ]
    },
    {
     "name": "stderr",
     "output_type": "stream",
     "text": [
      "Llama.generate: prefix-match hit\n",
      "\n",
      "llama_print_timings:        load time =     498.93 ms\n",
      "llama_print_timings:      sample time =       7.74 ms /    48 runs   (    0.16 ms per token,  6199.15 tokens per second)\n",
      "llama_print_timings: prompt eval time =     568.65 ms /  1182 tokens (    0.48 ms per token,  2078.62 tokens per second)\n",
      "llama_print_timings:        eval time =    2664.83 ms /    47 runs   (   56.70 ms per token,    17.64 tokens per second)\n",
      "llama_print_timings:       total time =    3313.44 ms /  1229 tokens\n",
      "Llama.generate: prefix-match hit\n"
     ]
    },
    {
     "name": "stdout",
     "output_type": "stream",
     "text": [
      "Boil green beans and potatoes in separate pots. Drain. Set aside. Cook pasta according to package directions. Drain. Toss beans and potatoes with pesto. Serve pasta separately.\n",
      "\n",
      "Bring a large pot of lightly salted water to a boil. Add macaroni and cook according to package directions. Drain and rinse under cold running water. Meanwhile, in a small bowl combine 1 cup of the cheese with the egg. Add flour and mix with a fork. Stir into the drained macaroni. Mix in the remaining cheese. Pour into an ungreased 9 by 13 inch baking dish. Bake at 400 degrees for 20 minutes. Remove from oven. Sprinkle top with paprika. Let stand 15 minutes before cutting. Serve with salad.\n",
      "\n"
     ]
    },
    {
     "name": "stderr",
     "output_type": "stream",
     "text": [
      "Llama.generate: prefix-match hit\n",
      "\n",
      "llama_print_timings:        load time =     498.93 ms\n",
      "llama_print_timings:      sample time =      17.64 ms /   101 runs   (    0.17 ms per token,  5725.62 tokens per second)\n",
      "llama_print_timings: prompt eval time =     585.08 ms /  1260 tokens (    0.46 ms per token,  2153.57 tokens per second)\n",
      "llama_print_timings:        eval time =    5776.08 ms /   100 runs   (   57.76 ms per token,    17.31 tokens per second)\n",
      "llama_print_timings:       total time =    6533.13 ms /  1360 tokens\n",
      "Llama.generate: prefix-match hit\n"
     ]
    },
    {
     "name": "stdout",
     "output_type": "stream",
     "text": [
      "Brown meat in large sauce pan. Add carrots, potato, corn and water. Bring to a boil. Reduce heat to a simmer. Simmer for about 45 minutes until meat is tender. Add the tomato paste. Season with salt and pepper to taste. Add bouillon. Bring to a boil. Add the garlic. Reduce heat to a simmer. Cover. Cook for about 5 minutes. Serve.\n",
      "\n",
      "Add the garlic cloves, brown rice and boiling water into a large pan. Cook over medium heat for about 30 minutes or until the liquid is absorbed and the rice is tender. In a small bowl, mix together the ground cumin, chili powder and sea salt. Stir into the cooked rice and heat through. Add the dried kidney beans, boiling water and cook over medium heat for about 30 minutes or until the beans are tender. Stir in the textured vegetable protein.\n",
      "\n"
     ]
    },
    {
     "name": "stderr",
     "output_type": "stream",
     "text": [
      "Llama.generate: prefix-match hit\n"
     ]
    },
    {
     "name": "stdout",
     "output_type": "stream",
     "text": [
      "Cook the pasta according to the package directions. Drain and keep warm. Heat a large pot over medium heat. Add olive oil and onion. Saute onion until softened. Add garlic and cook for 1 minute. Add bacon and cook until bacon is crisp. Drain bacon on a paper towel. Add tomato paste and cook for 1 minute. Add stock, peas and 1/2 the pasta. Bring to a boil. Reduce heat to a simmer and cook for 5 minutes. Stir in ricotta and cream. Cook 3 minutes more. Transfer pasta to a bowl. Add the remaining pasta and toss together. Transfer to a baking dish. Sprinkle with bacon and Parmesan. Bake for 10 minutes. Serve.\n",
      "\n"
     ]
    },
    {
     "name": "stderr",
     "output_type": "stream",
     "text": [
      "Llama.generate: prefix-match hit\n",
      "\n",
      "llama_print_timings:        load time =     498.93 ms\n",
      "llama_print_timings:      sample time =      43.25 ms /   256 runs   (    0.17 ms per token,  5918.80 tokens per second)\n",
      "llama_print_timings: prompt eval time =     591.53 ms /  1273 tokens (    0.46 ms per token,  2152.03 tokens per second)\n",
      "llama_print_timings:        eval time =   14808.32 ms /   255 runs   (   58.07 ms per token,    17.22 tokens per second)\n",
      "llama_print_timings:       total time =   15852.30 ms /  1528 tokens\n",
      "Llama.generate: prefix-match hit\n"
     ]
    },
    {
     "name": "stdout",
     "output_type": "stream",
     "text": [
      "Wash chicken thighspat dry with paper towels. Place thighs in a large roasting pan or Dutch ovenset aside. Place onions in a small saucepancover with water. Bring to a boil over high heatreduce heat to medium-lowcook until onions are tender, about 15 minutes. Drainplace onions in a large bowl. Set aside. Melt butter in a large saucepan over medium-high heat. Add onionscook until golden brown, about 15 minutes. Add flourcook until bubbly, about 2 minutes. Add brothcook until thickened, about 5 minutes. Stir in thyme and season with salt and pepper. Transfer half of sauce mixture to a medium bowlset aside. Add chicken thighs to onions in saucepancook until tender, about 25 minutes. Transfer chicken to a cutting boardcover with plastic wraplet stand for 15 minutes before carving. Preheat broilerplace roasting pan under broilercook until sauce begins to bubble,\n",
      "\n",
      "In a small saucepan combine the granulated sugar, milk, cocoa and peanut butter. Cook over low heat, stirring constantly until smooth. Cook for one minute. Remove from heat. Beat the butter with an electric mixer at high speed until very light. Beat in the cocoa mixture and vanilla. In a large bowl beat the eggs lightly with a fork. Gradually beat in the dry ingredients. Mix well. Drop dough by heaping teaspoonfuls onto waxed paper-lined cookie sheets. Bake at 350 degrees for 8-10 minutes. Cool on wire racks.\n",
      "\n"
     ]
    },
    {
     "name": "stderr",
     "output_type": "stream",
     "text": [
      "Llama.generate: prefix-match hit\n"
     ]
    },
    {
     "name": "stdout",
     "output_type": "stream",
     "text": [
      "Combine first 3 ingredients in a blendercover, blend for 1 minute, pour into a tall glass over ice, add remaining ingredientsstir lightly, serve.\n",
      "\n"
     ]
    },
    {
     "name": "stderr",
     "output_type": "stream",
     "text": [
      "Llama.generate: prefix-match hit\n"
     ]
    },
    {
     "name": "stdout",
     "output_type": "stream",
     "text": [
      "In a medium saucepan, bring cider to a boil. Add carrot. Cook and stir over medium heat until tender. Drain. In the same pan, melt butter. Stir in brown sugar and Dijon. Cook and stir until combined. Stir in vegetable stock. Cook and stir over low heat until mixture is reduced. Pour over carrot. Cook and stir until well combined and glaze is thickened. Sprinkle with fresh chopped parsley just before serving.\n",
      "\n"
     ]
    },
    {
     "name": "stderr",
     "output_type": "stream",
     "text": [
      "Llama.generate: prefix-match hit\n"
     ]
    },
    {
     "name": "stdout",
     "output_type": "stream",
     "text": [
      "Heat the olive oil in a large pan. Add the sliced onion and mushrooms. Saute for 8-10 minutes. Add the sliced roasted red bell peppers. Saute for an additional 10 minutes. Add the sliced penne pasta. Toss the entire mixture together. Sprinkle with parmesan cheese. Season with salt, pepper, onion powder and garlic powder to taste.\n",
      "\n"
     ]
    },
    {
     "name": "stderr",
     "output_type": "stream",
     "text": [
      "Llama.generate: prefix-match hit\n",
      "\n",
      "llama_print_timings:        load time =     498.93 ms\n",
      "llama_print_timings:      sample time =      14.17 ms /    84 runs   (    0.17 ms per token,  5928.02 tokens per second)\n",
      "llama_print_timings: prompt eval time =     565.78 ms /  1151 tokens (    0.49 ms per token,  2034.36 tokens per second)\n",
      "llama_print_timings:        eval time =    4772.90 ms /    83 runs   (   57.50 ms per token,    17.39 tokens per second)\n",
      "llama_print_timings:       total time =    5482.79 ms /  1234 tokens\n",
      "Llama.generate: prefix-match hit\n"
     ]
    },
    {
     "name": "stdout",
     "output_type": "stream",
     "text": [
      "Heat oven to 375 degrees. In a large skillet, brown and drain sausage and meat. Stir in seasonings and 2 tablespoons water. Cook and stir until heated through. Remove from heat. Spoon heaping teaspoons onto a slice of party rye. Serve immediately or keep warm in a 200 degree oven.\n",
      "\n",
      "Slice eggplant and onions into 1/4 inch slices. Cut red peppers in half, core and discard seeds. Dip eggplant slices into beaten eggs and coat in flour seasoned with salt and pepper. Heat 1 2 inch of oil in a large skillet over medium heat until a deep frying thermometer reads 350 degrees Fahrenheit. Fry eggplant slices until golden brown on both sides about 4 minutes per side, or until tender. Drain on paper towels. Stir in tomatoes with juice, garlic and roasted red peppers to eggplant mixture. Add salt to taste, drizzle with olive oil and serve warm.\n",
      "\n"
     ]
    },
    {
     "name": "stderr",
     "output_type": "stream",
     "text": [
      "Llama.generate: prefix-match hit\n"
     ]
    },
    {
     "name": "stdout",
     "output_type": "stream",
     "text": [
      "Mix together all the ingredients. Form into balls and roll in nuts. Serve with crackers.\n",
      "\n"
     ]
    },
    {
     "name": "stderr",
     "output_type": "stream",
     "text": [
      "Llama.generate: prefix-match hit\n"
     ]
    },
    {
     "name": "stdout",
     "output_type": "stream",
     "text": [
      "Mix refried beans with water according to package directions. Cook ground beef with taco seasoning and water until beef is thoroughly cooked and no pink remains. Mix refried beans and beef together. Spoon 1 cup of beef/bean mixture onto one half of each flour tortilla. Top each with 1/4 cup of shredded cheese and 1/4 cup of chopped onion. Fold over bottom half of each tortilla and roll up tightly. In a 9 x 13 inch baking pan, place 2 or 3 enchiritos upright and side by side with seam sides touching. Repeat until pan is full. Pour 1 cup of the taco sauce over the top of the enchiritos and add 1/2 cup of the sour cream to the top of the enchiritos and serve with additional sour cream on the side.\n",
      "\n"
     ]
    },
    {
     "name": "stderr",
     "output_type": "stream",
     "text": [
      "Llama.generate: prefix-match hit\n",
      "\n",
      "llama_print_timings:        load time =     498.93 ms\n",
      "llama_print_timings:      sample time =      21.24 ms /   132 runs   (    0.16 ms per token,  6215.57 tokens per second)\n",
      "llama_print_timings: prompt eval time =     404.34 ms /   901 tokens (    0.45 ms per token,  2228.30 tokens per second)\n",
      "llama_print_timings:        eval time =    7434.05 ms /   131 runs   (   56.75 ms per token,    17.62 tokens per second)\n",
      "llama_print_timings:       total time =    8057.80 ms /  1032 tokens\n",
      "Llama.generate: prefix-match hit\n"
     ]
    },
    {
     "name": "stdout",
     "output_type": "stream",
     "text": [
      "Wash, peel and slice carrots. Place in a bowl. Add onions and mayonnaise. Add water to cover. Add prepared horseradish and pepper to taste. Combine dry breadcrumbs and butter in a small bowl. Add to mixture. Toss well. Pour into greased 1-quart glass baking dish. Bake at 350 degrees for about 45 minutes. Add cheddar cheese. Bake uncovered until cheese is melted. Let stand about 10 minutes before serving. Serves 4.\n",
      "\n"
     ]
    },
    {
     "name": "stderr",
     "output_type": "stream",
     "text": [
      "\n",
      "llama_print_timings:        load time =     498.93 ms\n",
      "llama_print_timings:      sample time =      27.12 ms /   161 runs   (    0.17 ms per token,  5935.92 tokens per second)\n",
      "llama_print_timings: prompt eval time =     559.83 ms /  1171 tokens (    0.48 ms per token,  2091.70 tokens per second)\n",
      "llama_print_timings:        eval time =    9086.73 ms /   160 runs   (   56.79 ms per token,    17.61 tokens per second)\n",
      "llama_print_timings:       total time =    9922.64 ms /  1331 tokens\n",
      "Llama.generate: prefix-match hit\n"
     ]
    },
    {
     "name": "stdout",
     "output_type": "stream",
     "text": [
      "In a large bowl combine the butter with the worcestershire sauce until combined. Slowly add the rice krispies while mixing until fully combined. Then add the cheddar cheese while mixing until fully combined. With the help of a spoon, take 1 tablespoon of the dough and roll it into a ball. Place the ball on a cookie sheet lined with parchment paper. Flatten the ball slightly with the palm of your hand. Repeat until all the dough is used up. Bake the cookies for 10-12 minutes or until golden brown. Remove from the oven and let cool on the cookie sheet for 5 minutes before removing them to a cooling rack to cool completely.\n",
      "\n",
      "Bring a large pot of water to boil. Cook the angel hair pasta until tender but firm to the bite. Drain and toss with olive oil and the garlic. Transfer to a serving platter and season to taste with salt and pepper. Toss the avocado and tomato halves with 1/3 cup olive oil and 1/4 teaspoon salt. Grill on an outdoor grill or grill pan until the avocado is slightly charred and the tomato is soft and juicy. Transfer to the serving platter and toss gently with the noodles. Garnish with the basil. Serve.\n",
      "\n"
     ]
    },
    {
     "name": "stderr",
     "output_type": "stream",
     "text": [
      "Llama.generate: prefix-match hit\n"
     ]
    },
    {
     "name": "stdout",
     "output_type": "stream",
     "text": [
      "Mix together all the ingredients except the parsley. Put in a shallow dish and set aside. Dip each fillet into egg, then into the mixture and coat with fresh white breadcrumbs. Place in a greased 13x9 inch baking dish. Sprinkle with the parsley. Bake at 400 degrees for 10 to 15 minutes or until golden brown and flakes easily with a fork. Serve with a lemon wedge.\n",
      "\n"
     ]
    },
    {
     "name": "stderr",
     "output_type": "stream",
     "text": [
      "Llama.generate: prefix-match hit\n"
     ]
    },
    {
     "name": "stdout",
     "output_type": "stream",
     "text": [
      "Heat one cup hot water. Add cornstarch. Mix well. Add remaining hot water. Stir well. Add lemon juice. Stir well. Add orange juice. Stir well. Add corn syrup. Stir well. Add carrot juice. Stir well. Add cornstarch mixture. Stir well. Add zest. Stir well. Add hot water. Stir well. Add carrot juice and stir well. Add zest and stir well. Add corn starch mixture and stir well. Cook for about 25 seconds. Add remaining hot water and stir well. Cook and stir over low heat until thick and clear. Remove from heat. Pour over prepared frozen carrot. Return to heat and stir until thickened.\n",
      "\n"
     ]
    },
    {
     "name": "stderr",
     "output_type": "stream",
     "text": [
      "Llama.generate: prefix-match hit\n"
     ]
    },
    {
     "name": "stdout",
     "output_type": "stream",
     "text": [
      "In a large saucepan over medium heat cook potatoes in boiling salted water 20 minutes or until tender. Drain potatoes reserving 1/2 cup cooking liquid. Peel potatoes. Cut potatoes into 1/2-inch pieces. Melt butter in a large skillet over medium heat. Add potatoes cook stirring constantly 5 minutes or until browned. Add reserved cooking liquid and bring to a boil stirring constantly. Stir in marjoram and thyme. Reduce heat to low. Simmer 5 minutes. Season with salt and black pepper. Add peas. Cook stirring occasionally 5 minutes or until heated through.\n",
      "\n"
     ]
    },
    {
     "name": "stderr",
     "output_type": "stream",
     "text": [
      "Llama.generate: prefix-match hit\n"
     ]
    },
    {
     "name": "stdout",
     "output_type": "stream",
     "text": [
      "Preheat skillet to medium heat. Melt butter in skillet. Stir in flour until it is well combined. Cook for about a minute or two, whisking constantly to keep from burning. Add milk slowly so you have a thin paste or sauce. When it is thick enough to coat the back of a spoon, add the remaining ingredients. Cook for about five minutes or until the sauce is thickened. Stir constantly so it doesn't burn. This sauce is very thick so you may want to add a little more milk if you prefer it thinner.\n",
      "\n"
     ]
    },
    {
     "name": "stderr",
     "output_type": "stream",
     "text": [
      "Llama.generate: prefix-match hit\n"
     ]
    },
    {
     "name": "stdout",
     "output_type": "stream",
     "text": [
      "Cream the butter in a large mixing bowl with the sugar. In a small bowl, lightly whisk the eggs with the vanilla. Gradually add the dry mixture to the wet mixture. Mix well. Divide the dough into two parts. On a lightly floured surface, roll each part of the dough to about a one-quarter inch thickness. Cut out designs with a cookie press. Place on an ungreased cookie sheet. Bake in a preheated oven at 400 degrees fahrenheit for about ten minutes or until the edges of the cookies are firm. Cool on a wire rack. Dip each of the cookies into the chocolate confectionary coating, allowing the excess to drip off. Place the dipped cookies on a waxed paper-covered cookie sheet to dry. Roll the dipped cookie in the chopped nuts, pressing the nut mixture into the chocolate to make a decorative design on the cookie. Place the dipped cookie on a wire rack to dry completely. Store in an airtight container\n",
      "\n"
     ]
    },
    {
     "name": "stderr",
     "output_type": "stream",
     "text": [
      "Llama.generate: prefix-match hit\n"
     ]
    },
    {
     "name": "stdout",
     "output_type": "stream",
     "text": [
      "In saucepan, bring 3 cups of water to a boil over high heat. Add whole cloves and cinnamon stickscook for 5 minutes over medium-high heat, stirring occasionally. Strain the spices in a fine-mesh sieve. To the liquid in the saucepan, add the remaining 2 cups of water, the 4 family-size teabags, the sugar and the juices. Bring the mixture to a boil over high heat, stirring often. Let the mixture steep for 10 minutes over medium-low heat. Stir in the juice-tea mixture. Let the mixture cool for 10 minutes. Pour the mixture into a pitcheradd the steeped 4 family-size teabagscover and refrigerate for up to 4 days before serving over ice.\n",
      "\n"
     ]
    },
    {
     "name": "stderr",
     "output_type": "stream",
     "text": [
      "Llama.generate: prefix-match hit\n",
      "\n",
      "llama_print_timings:        load time =     498.93 ms\n",
      "llama_print_timings:      sample time =      13.47 ms /    75 runs   (    0.18 ms per token,  5567.10 tokens per second)\n",
      "llama_print_timings: prompt eval time =     589.35 ms /  1225 tokens (    0.48 ms per token,  2078.57 tokens per second)\n",
      "llama_print_timings:        eval time =    4272.19 ms /    74 runs   (   57.73 ms per token,    17.32 tokens per second)\n",
      "llama_print_timings:       total time =    4989.80 ms /  1299 tokens\n",
      "Llama.generate: prefix-match hit\n"
     ]
    },
    {
     "name": "stdout",
     "output_type": "stream",
     "text": [
      "Peel and slice potatoes and cook in hot vegetable oil. Drain and place on a large cookie sheet. Sprinkle with coarse salt and cajun seasoning and bake at 350 degrees for 30 minutes. Flip and bake another 10 minutes. Drain on paper towels and serve hot.\n",
      "\n",
      "Wash the asparagus in cold waterremove the woody ends and cut the stalks into 3 inch lengths. Place the asparagus in a large bowladd the worcestershire, brown sugar and enough melted butter to coat well. Add the garlictoss to coat well. Set the bundles aside for 15 minutesdrain if needed. Place the bacon in a large skillet over medium heatcook until crispdrain on paper towels. Place the bundles on a large plattersurround with the bacon piecessprinkle the top lightly with parsleyserve at once.\n",
      "\n"
     ]
    },
    {
     "name": "stderr",
     "output_type": "stream",
     "text": [
      "Llama.generate: prefix-match hit\n"
     ]
    },
    {
     "name": "stdout",
     "output_type": "stream",
     "text": [
      "In a large saucepan over medium heat, combine sugar and corn syrup and cook until a candy thermometer reads 240f. Remove from heat and stir in the unsweetened chocolate and butter. Stir until smooth and completely melted. Cool to 110f and stir in the vanilla extract. Spread on cupcakes or other treats.\n",
      "\n"
     ]
    },
    {
     "name": "stderr",
     "output_type": "stream",
     "text": [
      "Llama.generate: prefix-match hit\n"
     ]
    },
    {
     "name": "stdout",
     "output_type": "stream",
     "text": [
      "Soak raisins for 10 minutes in boiling water. Drain. Heat oil over medium heat. Add garlic and cook 2 minutes. Add spinach. Cook 3 minutes more or until wilted. Stir in pine nuts and raisins. Season to taste with salt and pepper. Transfer to plate.\n",
      "\n"
     ]
    },
    {
     "name": "stderr",
     "output_type": "stream",
     "text": [
      "Llama.generate: prefix-match hit\n"
     ]
    },
    {
     "name": "stdout",
     "output_type": "stream",
     "text": [
      "Blend together coffee and milk. Add syrup and sugar and blend. Add ice cream and blend. Pour in glass and serve.\n",
      "\n"
     ]
    },
    {
     "name": "stderr",
     "output_type": "stream",
     "text": [
      "Llama.generate: prefix-match hit\n"
     ]
    },
    {
     "name": "stdout",
     "output_type": "stream",
     "text": [
      "Boil potatoes in boiling water until tender. Drain potatoes. Add ham and cream of asparagus soup. Heat until hot. Sprinkle with grated cheddar. Serve.\n",
      "\n"
     ]
    },
    {
     "name": "stderr",
     "output_type": "stream",
     "text": [
      "Llama.generate: prefix-match hit\n"
     ]
    },
    {
     "name": "stdout",
     "output_type": "stream",
     "text": [
      "Mix dry ingredients together. Whisk together wet ingredients. Add dry to wet. Fill greased or paper lined muffin cups full. Bake for 12-15 minutes in 375f oven. Makes 12.\n",
      "\n"
     ]
    },
    {
     "name": "stderr",
     "output_type": "stream",
     "text": [
      "Llama.generate: prefix-match hit\n"
     ]
    },
    {
     "name": "stdout",
     "output_type": "stream",
     "text": [
      "Dip the cleaned eggplant in the beaten eggs. Roll each slice in the crushed bread crumbs and fry in deep fryer or in a deep fat fryer. Drain on paper towels. Place the fried slices in the parmesan cheese. Sprinkle with salt and pepper to taste and broil for 2-3 minutes. Serve at once.\n",
      "\n"
     ]
    },
    {
     "name": "stderr",
     "output_type": "stream",
     "text": [
      "Llama.generate: prefix-match hit\n",
      "\n",
      "llama_print_timings:        load time =     498.93 ms\n",
      "llama_print_timings:      sample time =      44.53 ms /   256 runs   (    0.17 ms per token,  5748.55 tokens per second)\n",
      "llama_print_timings: prompt eval time =     575.35 ms /  1265 tokens (    0.45 ms per token,  2198.67 tokens per second)\n",
      "llama_print_timings:        eval time =   14673.75 ms /   255 runs   (   57.54 ms per token,    17.38 tokens per second)\n",
      "llama_print_timings:       total time =   15701.12 ms /  1520 tokens\n",
      "Llama.generate: prefix-match hit\n"
     ]
    },
    {
     "name": "stdout",
     "output_type": "stream",
     "text": [
      "Preheat oven to 375f. Cut the stems off the basil leaves and put them into a blender with the feta and 2 tbsp of the olive oil. Pulse until smooth. Set aside. In a 2.5 qt. sauté pan, heat 2 tbsp of the olive oil over medium heat. Add the onion and cook until softened and translucent, 4 to 5 minutes. Add the garlic and cook 1 minute more. Pour in the tomatoes and the crushed tomatoes. Cook and stir until thickened and the tomatoes have broken down, 10 to 12 minutes. Add 1/3 cup of the water and the sugar. Cook for 1 minute more. Stir in the remaining 3 tbsp of olive oil and the reserved feta and basil mixture. Season with salt and pepper. Bring to a simmer over medium heat and cook until the flavors have combined and the feta is just softened, 3 to 4 minutes. Divide the mixture among 4 serving bowls. Place 2 cups of the water and the remaining \n",
      "\n",
      "Place soy sauce and garlic in a small bowl. Stir in orange marmalade. Set aside. Preheat broiler. Place salmon in a broiler pan coated with cooking spray. Broil 8 minutes. Turn, and broil an additional 4 minutes or until fish flakes easily when tested with a fork. Remove from pan and brush with sauce.\n",
      "\n"
     ]
    },
    {
     "name": "stderr",
     "output_type": "stream",
     "text": [
      "Llama.generate: prefix-match hit\n",
      "\n",
      "llama_print_timings:        load time =     498.93 ms\n",
      "llama_print_timings:      sample time =      26.18 ms /   164 runs   (    0.16 ms per token,  6264.80 tokens per second)\n",
      "llama_print_timings: prompt eval time =     689.24 ms /  1446 tokens (    0.48 ms per token,  2097.97 tokens per second)\n",
      "llama_print_timings:        eval time =    9578.34 ms /   163 runs   (   58.76 ms per token,    17.02 tokens per second)\n",
      "llama_print_timings:       total time =   10553.83 ms /  1609 tokens\n",
      "Llama.generate: prefix-match hit\n"
     ]
    },
    {
     "name": "stdout",
     "output_type": "stream",
     "text": [
      "Preheat skillet over medium heat. Pour off all but 2 tbsp. drippings. Saute bacon until brown. Remove bacon with slotted spoon. Pour off remaining drippings. Heat oil. Dip sweetbreads into egg and dredge into flour mixture. Dip again into egg mixture and then into flour mixture. Drop into hot oil. Cook until brown. Remove from skillet. Saute onions until tender. Stir in flour and cook for 1 minute. Add vinegar. Add milk and cook for 5 minutes. Add salt to taste. Add onions. Stir in mushrooms. Remove sweetbreads from skillet. Spoon sauce over sweetbreads. Serve.\n",
      "\n",
      "Preheat oven to 350 degrees. Coat pork chop on both sides with oil spray. Place on a cookie sheet and cook in oven for 10-15 min. on each side or until done. Remove chop from oven and set aside. Place acorn squash cut side down in a baking dish. Pour apple juice over squash. Place apple cut side down in a shallow dish. Pour apple juice over apple. Place apple in baking dish. Drizzle maple syrup over apple. Sprinkle with cinnamon and nutmeg. Bake squash for 45 min. or until tender. Bake apple for 50 min. or until tender. Remove apple from oven and top with pork chop. Spoon sauce from pan over apple and serve.\n",
      "\n"
     ]
    },
    {
     "name": "stderr",
     "output_type": "stream",
     "text": [
      "Llama.generate: prefix-match hit\n",
      "\n",
      "llama_print_timings:        load time =     498.93 ms\n",
      "llama_print_timings:      sample time =      27.57 ms /   162 runs   (    0.17 ms per token,  5875.95 tokens per second)\n",
      "llama_print_timings: prompt eval time =     584.60 ms /  1240 tokens (    0.47 ms per token,  2121.10 tokens per second)\n",
      "llama_print_timings:        eval time =    9387.00 ms /   161 runs   (   58.30 ms per token,    17.15 tokens per second)\n",
      "llama_print_timings:       total time =   10253.26 ms /  1401 tokens\n",
      "Llama.generate: prefix-match hit\n"
     ]
    },
    {
     "name": "stdout",
     "output_type": "stream",
     "text": [
      "Preheat oven to 350 degrees F (175 degrees C). Grease a 13 by 9 inch baking dish. Heat the butter in a large frying pan. Cook the ham until it is no longer pink. Stir in the red bell peppers. Add the eggs to the pan. Pour in the heavy cream. Sprinkle in the garlic powder and the chili powder. Mix until all the ingredients are well combined. Pour the mixture into the baking dish. Sprinkle with the cheddar cheese. Bake in the preheated oven until the eggs are set. Let cool for five minutes before cutting into squares. Serve with toast.\n",
      "\n",
      "Preheat oven to gas mark 4/180c/350f. Grease a 25 x 8 x 3 inch (6 x 20 x 8 cm) baking tray with vegetable oil or butter. Place all of the dry ingredients in one bowl and all of the wet ingredients in another bowl. Whisk together all of the dry ingredients and then add all of the wet ingredients. Mix the ingredients together until it forms a batter like consistency. Place batter into baking tray and smooth out with an offset spatula or your hands. Cook for about 35-45 minutes until golden brown on top. Serve warm or cold with fresh fruit or ice cream if preferred.\n",
      "\n"
     ]
    },
    {
     "name": "stderr",
     "output_type": "stream",
     "text": [
      "Llama.generate: prefix-match hit\n"
     ]
    },
    {
     "name": "stdout",
     "output_type": "stream",
     "text": [
      "Preheat oven to 350 degrees. In a large mixing bowl, combine cookie mix, egg, oil and water according to package directions for soft dough. Stir in white chocolate chips. Press dough into a greased 9×9-inch baking pan. In a small mixing bowl, combine frosting and raspberry jam. Spread over dough in pan. Bake at 350 degrees for about 25 minutes or until edges are lightly browned. Cut into squares to serve.\n",
      "\n"
     ]
    },
    {
     "name": "stderr",
     "output_type": "stream",
     "text": [
      "Llama.generate: prefix-match hit\n"
     ]
    },
    {
     "name": "stdout",
     "output_type": "stream",
     "text": [
      "Preheat oven to 350 degrees. Combine dry ingredients in a bowl. Cut in butter with pastry blender or knives until crumbly. Add all remaining ingredients to dry mixture, stirring with a fork just until combined. Turn dough out onto a lightly floured surface, knead 10- 12 times, then shape into a 10-inch circle. Cut into 8 wedges, brush tops with reserved juice from orange, place on a lightly greased baking sheet. Prick tops with a fork 3- 4 times, then brush tops with reserved juice from orange again. Bake at 425 for 18 minutes or until lightly browned. Serve warm with whipped cream drizzled on top.\n",
      "\n"
     ]
    },
    {
     "name": "stderr",
     "output_type": "stream",
     "text": [
      "Llama.generate: prefix-match hit\n",
      "\n",
      "llama_print_timings:        load time =     498.93 ms\n",
      "llama_print_timings:      sample time =      22.68 ms /   129 runs   (    0.18 ms per token,  5688.08 tokens per second)\n",
      "llama_print_timings: prompt eval time =     546.27 ms /  1116 tokens (    0.49 ms per token,  2042.95 tokens per second)\n",
      "llama_print_timings:        eval time =    7446.05 ms /   128 runs   (   58.17 ms per token,    17.19 tokens per second)\n",
      "llama_print_timings:       total time =    8214.74 ms /  1244 tokens\n",
      "Llama.generate: prefix-match hit\n"
     ]
    },
    {
     "name": "stdout",
     "output_type": "stream",
     "text": [
      "Heat oven to 350 degrees. Grease and flour a 13x9x2 inch pan. Blend yellow cake mix with water and half and half until moistened. Blend in egg and egg substitute. Stir in half of the semi sweet chocolate chips and coconut. Spread mixture into pan. Bake for 35 minutes. While cake is still warm, sprinkle with remaining semi-sweet chips and pecans. Cool. Drizzle with kahlua. Makes about 24 servings.\n",
      "\n",
      "Position a rack in the upper third of an oven and preheat to 450f. Snap off the tough stem ends from the asparagus spears and arrange the spears on a baking sheet. In a small bowl, whisk together the olive oil, garlic and salt. Brush the asparagus evenly with the oil, turning the spears to coat well. Arrange the almonds around the asparagus. Bake until the asparagus is tender and just turning golden, 6 to 8 minutes. Transfer the asparagus to a warmed serving platter and drizzle with the pan juices.\n",
      "\n"
     ]
    },
    {
     "name": "stderr",
     "output_type": "stream",
     "text": [
      "Llama.generate: prefix-match hit\n"
     ]
    },
    {
     "name": "stdout",
     "output_type": "stream",
     "text": [
      "Cream margarine and flour together. Add milk, sugar and vanilla extract. Heat to boiling point while stirring constantly. Add cooked rice and beat for 2 minutes with an electric beater. Cool slightly before adding the egg yolks. Beat yolks slightly before adding to the mixture. Pour into greased 2 qt baking dish. Bake for 45 minutes at 350f or until set. Serve with a small glass of cold milk.\n",
      "\n"
     ]
    },
    {
     "name": "stderr",
     "output_type": "stream",
     "text": [
      "Llama.generate: prefix-match hit\n"
     ]
    },
    {
     "name": "stdout",
     "output_type": "stream",
     "text": [
      "Preheat the oven to 350 degrees. In a large bowl, combine the breadcrumbs and the poultry seasonings. In another bowl combine the margarine and the flour. Add the salt and pepper to the margarine mixture. Add the seasoned breadcrumbs to the margarine mixture and stir together. Dip each piece of chicken in the margarine mixture, then in the breadcrumbs. Place the breaded chicken in a lightly greased 9 x 13 inch baking pan. Bake for 35-45 minutes or until the juices run clear.\n",
      "\n"
     ]
    }
   ],
   "source": [
    "for i in range(100):\n",
    "    res = model.send_request(inputs[i]) # przykład send request\n",
    "    print(res)\n",
    "    print(\"\")"
   ]
  },
  {
   "cell_type": "code",
   "execution_count": 8,
   "metadata": {},
   "outputs": [
    {
     "ename": "NameError",
     "evalue": "name 'compose' is not defined",
     "output_type": "error",
     "traceback": [
      "\u001b[0;31m---------------------------------------------------------------------------\u001b[0m",
      "\u001b[0;31mNameError\u001b[0m                                 Traceback (most recent call last)",
      "Cell \u001b[0;32mIn[8], line 12\u001b[0m\n\u001b[1;32m     10\u001b[0m start \u001b[38;5;241m=\u001b[39m time\u001b[38;5;241m.\u001b[39mtime()\n\u001b[1;32m     11\u001b[0m \u001b[38;5;28;01mfor\u001b[39;00m _ \u001b[38;5;129;01min\u001b[39;00m \u001b[38;5;28mrange\u001b[39m(I_ITER):\n\u001b[0;32m---> 12\u001b[0m     req \u001b[38;5;241m=\u001b[39m \u001b[43mcompose\u001b[49m(df\u001b[38;5;241m.\u001b[39miloc[[random\u001b[38;5;241m.\u001b[39mrandint(\u001b[38;5;241m0\u001b[39m, \u001b[38;5;28mlen\u001b[39m(df)) \u001b[38;5;28;01mfor\u001b[39;00m _ \u001b[38;5;129;01min\u001b[39;00m \u001b[38;5;28mrange\u001b[39m(\u001b[38;5;241m8\u001b[39m)]])\n\u001b[1;32m     14\u001b[0m     res \u001b[38;5;241m=\u001b[39m model\u001b[38;5;241m.\u001b[39msend_request(req) \u001b[38;5;66;03m# przykład send request\u001b[39;00m\n\u001b[1;32m     16\u001b[0m     reqs\u001b[38;5;241m.\u001b[39mappend(req)\n",
      "\u001b[0;31mNameError\u001b[0m: name 'compose' is not defined"
     ]
    }
   ],
   "source": [
    "import random\n",
    "import time\n",
    "\n",
    "I_ITER = 100\n",
    "\n",
    "\n",
    "reqs = []\n",
    "ress = []\n",
    "\n",
    "start = time.time()\n",
    "for _ in range(I_ITER):\n",
    "    req = compose(df.iloc[[random.randint(0, len(df)) for _ in range(8)]])\n",
    "\n",
    "    res = model.send_request(req) # przykład send request\n",
    "\n",
    "    reqs.append(req)\n",
    "    ress.append(res)\n",
    "    print(\"----------------------------------------------------------------------------------------------------------------------------------------\")\n",
    "    print(req)\n",
    "    print(res)\n",
    "end = time.time()\n",
    "print((end - start)/I_ITER)\n"
   ]
  },
  {
   "cell_type": "code",
   "execution_count": null,
   "metadata": {},
   "outputs": [],
   "source": [
    "df = pd.DataFrame()"
   ]
  },
  {
   "cell_type": "code",
   "execution_count": null,
   "metadata": {},
   "outputs": [],
   "source": [
    "ress"
   ]
  }
 ],
 "metadata": {
  "kernelspec": {
   "display_name": "ml_lm",
   "language": "python",
   "name": "python3"
  },
  "language_info": {
   "codemirror_mode": {
    "name": "ipython",
    "version": 3
   },
   "file_extension": ".py",
   "mimetype": "text/x-python",
   "name": "python",
   "nbconvert_exporter": "python",
   "pygments_lexer": "ipython3",
   "version": "3.11.5"
  }
 },
 "nbformat": 4,
 "nbformat_minor": 2
}
