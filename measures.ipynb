{
 "cells": [
  {
   "cell_type": "code",
   "execution_count": 5,
   "metadata": {},
   "outputs": [
    {
     "name": "stdout",
     "output_type": "stream",
     "text": [
      "0.4548019047027907\n"
     ]
    }
   ],
   "source": [
    "from nltk.translate.bleu_score import sentence_bleu\n",
    "from nltk.translate.meteor_score import meteor_score\n",
    "\n",
    "\n",
    "hypothesis = ['It', 'is', 'a', 'cat', 'at', 'room']\n",
    "reference = ['It', 'is', 'a', 'cat', 'inside', 'the', 'room']\n",
    "#there may be several references\n",
    "BLEUscore = sentence_bleu([reference], hypothesis)\n",
    "print(BLEUscore)"
   ]
  },
  {
   "cell_type": "code",
   "execution_count": 6,
   "metadata": {},
   "outputs": [
    {
     "name": "stdout",
     "output_type": "stream",
     "text": [
      "0.698440804269746 0.2822\n"
     ]
    }
   ],
   "source": [
    "\n",
    "y = \"Make a choice and proceed with recipe. Depending on size of squash, cut into half or fourths. Remove seeds. For spicy squash, drizzle olive oil or melted butter over each cut squash piece. Season with mexican seasoning mix ii. For sweet squash, drizzle melted honey, butter, grated piloncillo over each cut squash piece. Season with sweet mexican spice mix. Bake at 350 degrees, again depending on size, for 40 minutes up to an hour, until a fork can easily pierce the skin. Be careful not to burn the squash especially if you opt to use sugar or butter. If you feel more comfortable, cover the squash with aluminum foil the first half hour, give or take, of baking. If desired, season with salt.\"\n",
    "x = \"Choose whether to cut the squash into halves or quarters based on its size. Begin by removing the seeds. For a spicy variation, generously drizzle olive oil or melted butter over each cut piece of squash and season it with Mexican seasoning mix II. If you prefer a sweeter flavor, drizzle melted honey, butter, and grated piloncillo over each cut squash piece. Season with a sweet Mexican spice mix. Bake the squash at 350 degrees, adjusting the time based on its size, for approximately 40 minutes to an hour or until a fork easily pierces the skin. Exercise caution to avoid burning the squash, especially when using sugar or butter. If you prefer, cover the squash with aluminum foil during the initial half-hour or so of baking. If desired, add salt for seasoning.\"\n",
    "METEORscore = meteor_score([y.split()], x.split())\n",
    "BLEUscore = round(sentence_bleu([y.split()], x.split()),5)\n",
    "\n",
    "print(METEORscore, BLEUscore)"
   ]
  },
  {
   "cell_type": "code",
   "execution_count": 7,
   "metadata": {},
   "outputs": [
    {
     "name": "stdout",
     "output_type": "stream",
     "text": [
      "0.2822\n"
     ]
    }
   ],
   "source": [
    "print(BLEUscore)"
   ]
  },
  {
   "cell_type": "code",
   "execution_count": 8,
   "metadata": {},
   "outputs": [],
   "source": [
    "class Measures():\n",
    "    def __init__(self) -> None:\n",
    "        pass\n",
    "\n",
    "    def bleu(self, original:str, generated:str) -> float:\n",
    "        return round(sentence_bleu([original.split()], generated.split()), 6)\n",
    "    \n",
    "    def meteor(self, original:str, generated:str) -> float:\n",
    "        return round(meteor_score([original.split()], generated.split()), 6)\n",
    "\n"
   ]
  },
  {
   "cell_type": "code",
   "execution_count": 9,
   "metadata": {},
   "outputs": [],
   "source": [
    "from aac_metrics.functional import cider_d"
   ]
  },
  {
   "cell_type": "code",
   "execution_count": 13,
   "metadata": {},
   "outputs": [
    {
     "ename": "ValueError",
     "evalue": "CIDEr-D metric does not support less than 2 candidates with 2 references. (found 1 candidates, but expected > 1)",
     "output_type": "error",
     "traceback": [
      "\u001b[1;31m---------------------------------------------------------------------------\u001b[0m",
      "\u001b[1;31mValueError\u001b[0m                                Traceback (most recent call last)",
      "Cell \u001b[1;32mIn[13], line 1\u001b[0m\n\u001b[1;32m----> 1\u001b[0m \u001b[43mcider_d\u001b[49m\u001b[43m(\u001b[49m\u001b[43m[\u001b[49m\u001b[43mx\u001b[49m\u001b[43m]\u001b[49m\u001b[43m,\u001b[49m\u001b[43m \u001b[49m\u001b[43m[\u001b[49m\u001b[43m[\u001b[49m\u001b[43my\u001b[49m\u001b[43m]\u001b[49m\u001b[43m]\u001b[49m\u001b[43m)\u001b[49m\n",
      "File \u001b[1;32m~\\AppData\\Roaming\\Python\\Python310\\site-packages\\aac_metrics\\functional\\cider_d.py:52\u001b[0m, in \u001b[0;36mcider_d\u001b[1;34m(candidates, mult_references, return_all_scores, n, sigma, tokenizer, return_tfidf, scale)\u001b[0m\n\u001b[0;32m     25\u001b[0m \u001b[38;5;250m\u001b[39m\u001b[38;5;124;03m\"\"\"Consensus-based Image Description Evaluation function.\u001b[39;00m\n\u001b[0;32m     26\u001b[0m \n\u001b[0;32m     27\u001b[0m \u001b[38;5;124;03m- Paper: https://arxiv.org/pdf/1411.5726.pdf\u001b[39;00m\n\u001b[1;32m   (...)\u001b[0m\n\u001b[0;32m     42\u001b[0m \u001b[38;5;124;03m:returns: A tuple of globals and locals scores or a scalar tensor with the main global score.\u001b[39;00m\n\u001b[0;32m     43\u001b[0m \u001b[38;5;124;03m\"\"\"\u001b[39;00m\n\u001b[0;32m     44\u001b[0m cooked_cands, cooked_mrefs \u001b[38;5;241m=\u001b[39m _cider_d_update(\n\u001b[0;32m     45\u001b[0m     candidates,\n\u001b[0;32m     46\u001b[0m     mult_references,\n\u001b[1;32m   (...)\u001b[0m\n\u001b[0;32m     50\u001b[0m     [],\n\u001b[0;32m     51\u001b[0m )\n\u001b[1;32m---> 52\u001b[0m \u001b[38;5;28;01mreturn\u001b[39;00m \u001b[43m_cider_d_compute\u001b[49m\u001b[43m(\u001b[49m\n\u001b[0;32m     53\u001b[0m \u001b[43m    \u001b[49m\u001b[43mcooked_cands\u001b[49m\u001b[43m,\u001b[49m\n\u001b[0;32m     54\u001b[0m \u001b[43m    \u001b[49m\u001b[43mcooked_mrefs\u001b[49m\u001b[43m,\u001b[49m\n\u001b[0;32m     55\u001b[0m \u001b[43m    \u001b[49m\u001b[43mreturn_all_scores\u001b[49m\u001b[43m,\u001b[49m\n\u001b[0;32m     56\u001b[0m \u001b[43m    \u001b[49m\u001b[43mn\u001b[49m\u001b[43m,\u001b[49m\n\u001b[0;32m     57\u001b[0m \u001b[43m    \u001b[49m\u001b[43msigma\u001b[49m\u001b[43m,\u001b[49m\n\u001b[0;32m     58\u001b[0m \u001b[43m    \u001b[49m\u001b[43mreturn_tfidf\u001b[49m\u001b[43m,\u001b[49m\n\u001b[0;32m     59\u001b[0m \u001b[43m    \u001b[49m\u001b[43mscale\u001b[49m\u001b[43m,\u001b[49m\n\u001b[0;32m     60\u001b[0m \u001b[43m\u001b[49m\u001b[43m)\u001b[49m\n",
      "File \u001b[1;32m~\\AppData\\Roaming\\Python\\Python310\\site-packages\\aac_metrics\\functional\\cider_d.py:91\u001b[0m, in \u001b[0;36m_cider_d_compute\u001b[1;34m(cooked_cands, cooked_mrefs, return_all_scores, n, sigma, return_tfidf, scale)\u001b[0m\n\u001b[0;32m     81\u001b[0m \u001b[38;5;28;01mdef\u001b[39;00m \u001b[38;5;21m_cider_d_compute\u001b[39m(\n\u001b[0;32m     82\u001b[0m     cooked_cands: \u001b[38;5;28mlist\u001b[39m[Counter],\n\u001b[0;32m     83\u001b[0m     cooked_mrefs: \u001b[38;5;28mlist\u001b[39m[\u001b[38;5;28mlist\u001b[39m[Counter]],\n\u001b[1;32m   (...)\u001b[0m\n\u001b[0;32m     88\u001b[0m     scale: \u001b[38;5;28mfloat\u001b[39m,\n\u001b[0;32m     89\u001b[0m ) \u001b[38;5;241m-\u001b[39m\u001b[38;5;241m>\u001b[39m Union[Tensor, \u001b[38;5;28mtuple\u001b[39m[\u001b[38;5;28mdict\u001b[39m[\u001b[38;5;28mstr\u001b[39m, Tensor], \u001b[38;5;28mdict\u001b[39m[\u001b[38;5;28mstr\u001b[39m, Any]]]:\n\u001b[0;32m     90\u001b[0m     \u001b[38;5;28;01mif\u001b[39;00m \u001b[38;5;28mlen\u001b[39m(cooked_cands) \u001b[38;5;241m<\u001b[39m\u001b[38;5;241m=\u001b[39m \u001b[38;5;241m1\u001b[39m:\n\u001b[1;32m---> 91\u001b[0m         \u001b[38;5;28;01mraise\u001b[39;00m \u001b[38;5;167;01mValueError\u001b[39;00m(\n\u001b[0;32m     92\u001b[0m             \u001b[38;5;124mf\u001b[39m\u001b[38;5;124m\"\u001b[39m\u001b[38;5;124mCIDEr-D metric does not support less than 2 candidates with 2 references. (found \u001b[39m\u001b[38;5;132;01m{\u001b[39;00m\u001b[38;5;28mlen\u001b[39m(cooked_cands)\u001b[38;5;132;01m}\u001b[39;00m\u001b[38;5;124m candidates, but expected > 1)\u001b[39m\u001b[38;5;124m\"\u001b[39m\n\u001b[0;32m     93\u001b[0m         )\n\u001b[0;32m     94\u001b[0m     \u001b[38;5;66;03m# compute idf\u001b[39;00m\n\u001b[0;32m     95\u001b[0m     doc_frequencies \u001b[38;5;241m=\u001b[39m __compute_doc_freq(cooked_mrefs)\n",
      "\u001b[1;31mValueError\u001b[0m: CIDEr-D metric does not support less than 2 candidates with 2 references. (found 1 candidates, but expected > 1)"
     ]
    }
   ],
   "source": [
    "cider_d([x], [y])"
   ]
  },
  {
   "cell_type": "code",
   "execution_count": null,
   "metadata": {},
   "outputs": [],
   "source": []
  },
  {
   "cell_type": "code",
   "execution_count": null,
   "metadata": {},
   "outputs": [],
   "source": []
  }
 ],
 "metadata": {
  "kernelspec": {
   "display_name": "Python 3",
   "language": "python",
   "name": "python3"
  },
  "language_info": {
   "codemirror_mode": {
    "name": "ipython",
    "version": 3
   },
   "file_extension": ".py",
   "mimetype": "text/x-python",
   "name": "python",
   "nbconvert_exporter": "python",
   "pygments_lexer": "ipython3",
   "version": "3.10.7"
  }
 },
 "nbformat": 4,
 "nbformat_minor": 2
}
