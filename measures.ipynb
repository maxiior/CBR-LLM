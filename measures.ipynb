{
 "cells": [
  {
   "cell_type": "code",
   "execution_count": 3,
   "metadata": {},
   "outputs": [
    {
     "name": "stdout",
     "output_type": "stream",
     "text": [
      "0.4548019047027907\n"
     ]
    }
   ],
   "source": [
    "from nltk.translate.bleu_score import sentence_bleu\n",
    "from nltk.translate.meteor_score import meteor_score\n",
    "\n",
    "\n",
    "hypothesis = ['It', 'is', 'a', 'cat', 'at', 'room']\n",
    "reference = ['It', 'is', 'a', 'cat', 'inside', 'the', 'room']\n",
    "#there may be several references\n",
    "BLEUscore = sentence_bleu([reference], hypothesis)\n",
    "print(BLEUscore)"
   ]
  },
  {
   "cell_type": "code",
   "execution_count": 4,
   "metadata": {},
   "outputs": [
    {
     "name": "stdout",
     "output_type": "stream",
     "text": [
      "0.698440804269746 0.2822\n"
     ]
    }
   ],
   "source": [
    "\n",
    "y = \"Make a choice and proceed with recipe. Depending on size of squash, cut into half or fourths. Remove seeds. For spicy squash, drizzle olive oil or melted butter over each cut squash piece. Season with mexican seasoning mix ii. For sweet squash, drizzle melted honey, butter, grated piloncillo over each cut squash piece. Season with sweet mexican spice mix. Bake at 350 degrees, again depending on size, for 40 minutes up to an hour, until a fork can easily pierce the skin. Be careful not to burn the squash especially if you opt to use sugar or butter. If you feel more comfortable, cover the squash with aluminum foil the first half hour, give or take, of baking. If desired, season with salt.\"\n",
    "x = \"Choose whether to cut the squash into halves or quarters based on its size. Begin by removing the seeds. For a spicy variation, generously drizzle olive oil or melted butter over each cut piece of squash and season it with Mexican seasoning mix II. If you prefer a sweeter flavor, drizzle melted honey, butter, and grated piloncillo over each cut squash piece. Season with a sweet Mexican spice mix. Bake the squash at 350 degrees, adjusting the time based on its size, for approximately 40 minutes to an hour or until a fork easily pierces the skin. Exercise caution to avoid burning the squash, especially when using sugar or butter. If you prefer, cover the squash with aluminum foil during the initial half-hour or so of baking. If desired, add salt for seasoning.\"\n",
    "METEORscore = meteor_score([y.split()], x.split())\n",
    "BLEUscore = round(sentence_bleu([y.split()], x.split()),5)\n",
    "\n",
    "print(METEORscore, BLEUscore)"
   ]
  },
  {
   "cell_type": "code",
   "execution_count": 7,
   "metadata": {},
   "outputs": [
    {
     "name": "stdout",
     "output_type": "stream",
     "text": [
      "0.2822\n"
     ]
    }
   ],
   "source": [
    "print(BLEUscore)"
   ]
  },
  {
   "cell_type": "code",
   "execution_count": 8,
   "metadata": {},
   "outputs": [],
   "source": [
    "class Measures():\n",
    "    def __init__(self) -> None:\n",
    "        pass\n",
    "\n",
    "    def bleu(self, original:str, generated:str) -> float:\n",
    "        return round(sentence_bleu([original.split()], generated.split()), 6)\n",
    "    \n",
    "    def meteor(self, original:str, generated:str) -> float:\n",
    "        return round(meteor_score([original.split()], generated.split()), 6)\n",
    "\n"
   ]
  },
  {
   "cell_type": "code",
   "execution_count": 19,
   "metadata": {},
   "outputs": [],
   "source": [
    "candidates = [\"a man is speaking\", \"a man is speaking\"]\n",
    "mult_references = [[\"a man is speaking\"], [\"a man is speaking\"]]\n",
    "\n",
    "candidates = preprocess_mono_sents(candidates)\n",
    "mult_references = preprocess_mult_sents(mult_references)\n",
    "\n",
    "corpus_scores, sents_scores = cider_d(candidates, mult_references)"
   ]
  },
  {
   "cell_type": "code",
   "execution_count": 10,
   "metadata": {},
   "outputs": [
    {
     "data": {
      "text/plain": [
       "({'cider_d': tensor(0., dtype=torch.float64)},\n",
       " {'cider_d': tensor([0., 0.], dtype=torch.float64)})"
      ]
     },
     "execution_count": 10,
     "metadata": {},
     "output_type": "execute_result"
    }
   ],
   "source": [
    "corpus_scores, sents_scores"
   ]
  },
  {
   "cell_type": "code",
   "execution_count": null,
   "metadata": {},
   "outputs": [],
   "source": []
  },
  {
   "cell_type": "code",
   "execution_count": null,
   "metadata": {},
   "outputs": [],
   "source": []
  }
 ],
 "metadata": {
  "kernelspec": {
   "display_name": "Python 3",
   "language": "python",
   "name": "python3"
  },
  "language_info": {
   "codemirror_mode": {
    "name": "ipython",
    "version": 3
   },
   "file_extension": ".py",
   "mimetype": "text/x-python",
   "name": "python",
   "nbconvert_exporter": "python",
   "pygments_lexer": "ipython3",
   "version": "3.10.7"
  }
 },
 "nbformat": 4,
 "nbformat_minor": 2
}
